{
 "cells": [
  {
   "cell_type": "code",
   "execution_count": 1,
   "id": "e5024e2a-3128-4441-8667-adbe87a93f71",
   "metadata": {},
   "outputs": [],
   "source": [
    "# Yolov5 requirements\n",
    "#!pip install -r https://raw.githubusercontent.com/ultralytics/yolov5/master/requirements.txt"
   ]
  },
  {
   "cell_type": "code",
   "execution_count": 2,
   "id": "7825f440-e1c4-4848-aa30-33e23a609d11",
   "metadata": {},
   "outputs": [],
   "source": [
    "# mediapipe install\n",
    "#!pip install mediapipe"
   ]
  },
  {
   "cell_type": "code",
   "execution_count": 3,
   "id": "b06d1e23-5d72-43af-9f71-ce57450bc3cd",
   "metadata": {},
   "outputs": [],
   "source": [
    "import torch"
   ]
  },
  {
   "cell_type": "code",
   "execution_count": 4,
   "id": "6d0baf88-1ec8-476e-ba0d-679572854c00",
   "metadata": {},
   "outputs": [
    {
     "name": "stderr",
     "output_type": "stream",
     "text": [
      "Using cache found in /Users/kimsungwook/.cache/torch/hub/ultralytics_yolov5_master\n",
      "YOLOv5 🚀 2024-4-17 Python-3.11.7 torch-2.2.2 CPU\n",
      "\n",
      "Fusing layers... \n",
      "YOLOv5s summary: 213 layers, 7225885 parameters, 0 gradients, 16.4 GFLOPs\n",
      "Adding AutoShape... \n"
     ]
    }
   ],
   "source": [
    "# torch_ver Yolov5\n",
    "yolo_model = torch.hub.load('ultralytics/yolov5', 'yolov5s',\n",
    "                            device='cuda:0' if torch.cuda.is_available() else 'cpu')  # 예측 모델\n",
    "yolo_model.classes = [0]  # 예측 클래스 (0 : 사람)"
   ]
  },
  {
   "cell_type": "markdown",
   "id": "b0be1c98-ab57-48b1-b541-5263c9d6390b",
   "metadata": {},
   "source": [
    "### 전처리 미세조정"
   ]
  },
  {
   "cell_type": "code",
   "execution_count": 7,
   "id": "163c4c4b-4349-4728-9290-dd07f53b7dae",
   "metadata": {},
   "outputs": [],
   "source": [
    "start_dot = 11      # mp.solutions.pose 시작 포인트 (0: 얼굴부터 발목까지, 11: 어깨부터 발목까지)\n",
    "n_CONFIDENCE = 0.3    # MediaPipe Min Detectin confidence check\n",
    "y_CONFIDENCE = 0.3    # Yolv5 Min Detectin confidence check"
   ]
  },
  {
   "cell_type": "code",
   "execution_count": 8,
   "id": "e89b41a7-e942-4f00-ac28-7fa806341b9c",
   "metadata": {},
   "outputs": [],
   "source": [
    "import mediapipe as mp\n",
    "mp_pose = mp.solutions.pose\n",
    "attention_dot = [n for n in range(start_dot, 29)]"
   ]
  },
  {
   "cell_type": "code",
   "execution_count": 9,
   "id": "cda28a1f-23f6-46bd-8473-6f05184ddf86",
   "metadata": {},
   "outputs": [
    {
     "name": "stdout",
     "output_type": "stream",
     "text": [
      "Pose : Only Body\n"
     ]
    }
   ],
   "source": [
    "# 라인 그리기\n",
    "if start_dot == 11:\n",
    "    \"\"\"몸 부분만\"\"\"\n",
    "    draw_line = [[11, 13], [13, 15], [15, 21], [15, 19], [15, 17], [17, 19], \\\n",
    "                [12, 14], [14, 16], [16, 22], [16, 20], [16, 18], [18, 20], \\\n",
    "                [23, 25], [25, 27], [24, 26], [26, 28], [11, 12], [11, 23], \\\n",
    "                [23, 24], [12, 24]]\n",
    "    print('Pose : Only Body')\n",
    "\n",
    "else:\n",
    "    \"\"\"얼굴 포함\"\"\"\n",
    "    draw_line = [[11, 13], [13, 15], [15, 21], [15, 19], [15, 17], [17, 19], \\\n",
    "                [12, 14], [14, 16], [16, 22], [16, 20], [16, 18], [18, 20], \\\n",
    "                [23, 25], [25, 27], [24, 26], [26, 28], [11, 12], [11, 23], \\\n",
    "                [23, 24], [12, 24], [9, 10], [0, 5], [0, 2], [5, 8], [2, 7]]\n",
    "    print('Pose : Face + Body')"
   ]
  },
  {
   "cell_type": "code",
   "execution_count": 11,
   "id": "6cddbe61-b213-4db2-bd86-21392fdecdfa",
   "metadata": {},
   "outputs": [],
   "source": [
    "import cv2"
   ]
  },
  {
   "cell_type": "code",
   "execution_count": 12,
   "id": "018905eb-42aa-4fd2-b104-7df7bd0712bb",
   "metadata": {},
   "outputs": [],
   "source": [
    "# Yolov4 바운딩 box 안에서 media pipe 데이터 전처리 함수\n",
    "\n",
    "def get_skeleton(video_path, attention_dot, draw_line):\n",
    "    frame_length = 30 # LSTM 모델에 넣을 frame 수\n",
    "\n",
    "    xy_list_list, xy_list_list_flip = [], []\n",
    "    cv2.destroyAllWindows()\n",
    "    pose = mp_pose.Pose(static_image_mode = True, model_complexity = 1, \\\n",
    "                        enable_segmentation = False, min_detection_confidence = n_CONFIDENCE)\n",
    "    cap = cv2.VideoCapture(video_path)\n",
    "\n",
    "    if cap.isOpened():\n",
    "\n",
    "        while True:\n",
    "            ret, img = cap.read()\n",
    "\n",
    "            if ret == True:\n",
    "\n",
    "                \"\"\" Yolo 바운딩 박스 및 좌표 추출\"\"\"\n",
    "                img = cv2.resize(img, (640, 640))\n",
    "                res = yolo_model(img)\n",
    "                res_refine = res.pandas().xyxy[0].values\n",
    "                nms_human = len(res_refine)\n",
    "                if nms_human > 0:\n",
    "                    for bbox in res_refine:\n",
    "                        \"\"\"바운딩 박스 상하좌우 크기 조절\"\"\"\n",
    "                        xx1, yy1, xx2, yy2 = int(bbox[0])-10, int(bbox[1]), int(bbox[2])+10, int(bbox[3])\n",
    "                        if xx1 < 0:\n",
    "                            xx1 = 0\n",
    "                        elif xx2 > 639:\n",
    "                            xx2 = 639\n",
    "                        if yy1 < 0:\n",
    "                            yy1 = 0\n",
    "                        elif yy2 > 639:\n",
    "                            yy2 = 639\n",
    "\n",
    "                        start_point = (xx1, yy1)\n",
    "                        end_point = (xx2, yy2)\n",
    "\n",
    "                        \"\"\" Yolov5 바운딩 박스 좌표 안에서 mediapipe Pose 추출\"\"\"\n",
    "                        if bbox[4] > y_CONFIDENCE: # bbox[4] : confidence 데이터\n",
    "                            # img = cv2.rectangle(img, start_point, end_point, (0, 0, 255), 2) # 바운딩 박스 그리기 : 데이터 추출 확인용\n",
    "                            c_img = img[yy1:yy2, xx1:xx2] # 바운딩 박스 좌표\n",
    "                            results = pose.process(cv2.cvtColor(c_img, cv2.COLOR_BGR2RGB)) # Yolov5 바운딩 박스 좌표 안에서 'mp_pose' 좌표\n",
    "\n",
    "                            if not results.pose_landmarks: continue\n",
    "                            idx = 0\n",
    "                            draw_line_dic = {}\n",
    "                            xy_list, xy_list_flip = [], []\n",
    "                            # 33 반복문 진행 : 33개 중 18개의 dot\n",
    "                            for x_and_y in results.pose_landmarks.landmark:\n",
    "                                if idx in attention_dot:\n",
    "                                    xy_list.append(x_and_y.x)\n",
    "                                    xy_list.append(x_and_y.y)\n",
    "                                    xy_list_flip.append(1 - x_and_y.x)\n",
    "                                    xy_list_flip.append(x_and_y.y)\n",
    "\n",
    "                                    x, y = int(x_and_y.x*(xx2-xx1)), int(x_and_y.y*(yy2-yy1))\n",
    "                                    draw_line_dic[idx] = [x, y]\n",
    "                                idx += 1\n",
    "\n",
    "                            if len(xy_list) != len(attention_dot) * 2:\n",
    "                                print('Error : attention_dot 데이터 오류')\n",
    "\n",
    "                            xy_list_list.append(xy_list)\n",
    "                            xy_list_list_flip.append(xy_list_flip)\n",
    "\n",
    "                            \"\"\"mediapipe line 그리기 부분 : 데이터 추출(dot) 확인용\"\"\"\n",
    "                            # for line in draw_line:\n",
    "                            #     x1, y1 = draw_line_dic[line[0]][0], draw_line_dic[line[0]][1]\n",
    "                            #     x2, y2 = draw_line_dic[line[1]][0], draw_line_dic[line[1]][1]\n",
    "                            #     c_img = cv2.line(c_img, (x1, y1), (x2, y2), (0, 255, 0), 4)\n",
    "                            # # cv2.imshow('Landmark Image', img)\n",
    "                            # cv2_imshow(img)\n",
    "                            # cv2.waitKey(1)\n",
    "\n",
    "            elif ret == False: break\n",
    "\n",
    "\n",
    "        # 부족한 프레임 수 맞추기\n",
    "        if len(xy_list_list_flip) < 15:\n",
    "            return False, False\n",
    "        elif len(xy_list_list_flip) < frame_length:\n",
    "            f_ln = frame_length - len(xy_list_list_flip)\n",
    "            for _ in range(f_ln):\n",
    "                xy_list_list.append(xy_list_list[-1])\n",
    "                xy_list_list_flip.append(xy_list_list_flip[-1])\n",
    "\n",
    "    cap.release()\n",
    "    cv2.destroyAllWindows()\n",
    "\n",
    "\n",
    "    return xy_list_list, xy_list_list_flip"
   ]
  },
  {
   "cell_type": "code",
   "execution_count": 13,
   "id": "51cd8e36-7e50-4d72-9c2b-12db1222cfeb",
   "metadata": {},
   "outputs": [
    {
     "data": {
      "text/plain": [
       "'../../dataset_aihub/'"
      ]
     },
     "execution_count": 13,
     "metadata": {},
     "output_type": "execute_result"
    }
   ],
   "source": [
    "video_path = '../../dataset_aihub/' # dataset 경로\n",
    "video_path"
   ]
  },
  {
   "cell_type": "code",
   "execution_count": 14,
   "id": "fee17d9f-ea2d-4b66-a003-725082145aff",
   "metadata": {},
   "outputs": [],
   "source": [
    "# 영상 데이터에서 mp pose landmark dot 데이터 추출 부분\n",
    "# raw_data = []"
   ]
  },
  {
   "cell_type": "code",
   "execution_count": 15,
   "id": "ba78848c-d588-4b0e-8858-03c563902ca8",
   "metadata": {},
   "outputs": [],
   "source": [
    "# for fold in os.listdir(video_path):\n",
    "#    for video_name in os.listdir(video_path + '/' + fold):\n",
    "#        if int(video_name.split('_')[2][:2]) >= 30: # video name 참조\n",
    "#            if video_name.split('_')[1] == 'normal': label = 0\n",
    "#            else: label = 1\n",
    "#            skel_data_n, skel_data_f = get_skeleton('{}/{}'.format(video_path + '/' + fold, video_name), attention_dot, draw_line)\n",
    "#            if skel_data_n != False:\n",
    "#                seq_list_n = skel_data_n[:30]\n",
    "#                seq_list_f = skel_data_f[:30]\n",
    "#                raw_data.append({'key':label, 'value':seq_list_n})\n",
    "#                raw_data.append({'key':label, 'value':seq_list_f})\n",
    "# random.shuffle(raw_data)"
   ]
  },
  {
   "cell_type": "code",
   "execution_count": 17,
   "id": "b84891e7-0463-4ba9-b65a-6126c4f949dc",
   "metadata": {},
   "outputs": [],
   "source": [
    "# 위 for문을 돌렸을 때 kernel이 죽는 오류가 발생하여 끊어서 데이터 생성"
   ]
  },
  {
   "cell_type": "code",
   "execution_count": 22,
   "id": "e1e5c495-48a6-4e55-9ca0-0fcfe112777e",
   "metadata": {},
   "outputs": [],
   "source": [
    "import pickle\n",
    "import os"
   ]
  },
  {
   "cell_type": "code",
   "execution_count": 18,
   "id": "c71b11e2-d5e0-465d-8732-bd952a5d2941",
   "metadata": {},
   "outputs": [],
   "source": [
    "fold = 'abnormal_김성욱'\n",
    "raw_data = []"
   ]
  },
  {
   "cell_type": "code",
   "execution_count": null,
   "id": "2cdb3303-cf33-4098-9f96-cb62f1d49b94",
   "metadata": {},
   "outputs": [],
   "source": [
    "for video_name in os.listdir(video_path + '/' + fold):\n",
    "    if int(video_name.split('_')[2][:2]) >= 30: # video name 참조\n",
    "        if video_name.split('_')[1] == 'normal': label = 0\n",
    "        else: label = 1\n",
    "        skel_data_n, skel_data_f = get_skeleton('{}/{}'.format(video_path + '/' + fold, video_name), attention_dot, draw_line)\n",
    "        if skel_data_n != False:\n",
    "            seq_list_n = skel_data_n[:30]\n",
    "            seq_list_f = skel_data_f[:30]\n",
    "            raw_data.append({'key':label, 'value':seq_list_n})\n",
    "            raw_data.append({'key':label, 'value':seq_list_f})"
   ]
  },
  {
   "cell_type": "code",
   "execution_count": null,
   "id": "66f9d925-7a44-4055-bb3b-26278a34b484",
   "metadata": {},
   "outputs": [],
   "source": [
    "filename = video_path + fold + '.pickle'\n",
    "print(filename)\n",
    "with open(filename, 'wb') as f:\n",
    "    pickle.dump(raw_data, f)"
   ]
  },
  {
   "cell_type": "code",
   "execution_count": 23,
   "id": "b493f2ab-2d5f-45c3-ba5b-c6d1c6f85c1e",
   "metadata": {},
   "outputs": [],
   "source": [
    "fold = 'normal_김성욱'\n",
    "raw_data = []"
   ]
  },
  {
   "cell_type": "code",
   "execution_count": 24,
   "id": "882383d9-cbc9-41e1-a8b0-d229d9ed4107",
   "metadata": {
    "scrolled": true
   },
   "outputs": [
    {
     "name": "stderr",
     "output_type": "stream",
     "text": [
      "WARNING: All log messages before absl::InitializeLog() is called are written to STDERR\n",
      "I0000 00:00:1713935712.581068   39966 gl_context.cc:357] GL version: 2.1 (2.1 Metal - 88), renderer: Apple M2\n",
      "INFO: Created TensorFlow Lite XNNPACK delegate for CPU.\n",
      "I0000 00:00:1713935717.744036   39966 gl_context.cc:357] GL version: 2.1 (2.1 Metal - 88), renderer: Apple M2\n",
      "I0000 00:00:1713935721.452891   39966 gl_context.cc:357] GL version: 2.1 (2.1 Metal - 88), renderer: Apple M2\n",
      "I0000 00:00:1713935724.786942   39966 gl_context.cc:357] GL version: 2.1 (2.1 Metal - 88), renderer: Apple M2\n",
      "I0000 00:00:1713935728.861734   39966 gl_context.cc:357] GL version: 2.1 (2.1 Metal - 88), renderer: Apple M2\n",
      "I0000 00:00:1713935733.436328   39966 gl_context.cc:357] GL version: 2.1 (2.1 Metal - 88), renderer: Apple M2\n",
      "I0000 00:00:1713935736.779357   39966 gl_context.cc:357] GL version: 2.1 (2.1 Metal - 88), renderer: Apple M2\n",
      "I0000 00:00:1713935740.886929   39966 gl_context.cc:357] GL version: 2.1 (2.1 Metal - 88), renderer: Apple M2\n",
      "I0000 00:00:1713935744.868093   39966 gl_context.cc:357] GL version: 2.1 (2.1 Metal - 88), renderer: Apple M2\n",
      "I0000 00:00:1713935748.505197   39966 gl_context.cc:357] GL version: 2.1 (2.1 Metal - 88), renderer: Apple M2\n",
      "I0000 00:00:1713935752.680946   39966 gl_context.cc:357] GL version: 2.1 (2.1 Metal - 88), renderer: Apple M2\n",
      "I0000 00:00:1713935757.570028   39966 gl_context.cc:357] GL version: 2.1 (2.1 Metal - 88), renderer: Apple M2\n",
      "I0000 00:00:1713935761.493421   39966 gl_context.cc:357] GL version: 2.1 (2.1 Metal - 88), renderer: Apple M2\n",
      "I0000 00:00:1713935766.682071   39966 gl_context.cc:357] GL version: 2.1 (2.1 Metal - 88), renderer: Apple M2\n",
      "I0000 00:00:1713935770.140325   39966 gl_context.cc:357] GL version: 2.1 (2.1 Metal - 88), renderer: Apple M2\n",
      "I0000 00:00:1713935774.080996   39966 gl_context.cc:357] GL version: 2.1 (2.1 Metal - 88), renderer: Apple M2\n",
      "I0000 00:00:1713935777.963369   39966 gl_context.cc:357] GL version: 2.1 (2.1 Metal - 88), renderer: Apple M2\n",
      "I0000 00:00:1713935782.887537   39966 gl_context.cc:357] GL version: 2.1 (2.1 Metal - 88), renderer: Apple M2\n",
      "I0000 00:00:1713935786.742262   39966 gl_context.cc:357] GL version: 2.1 (2.1 Metal - 88), renderer: Apple M2\n",
      "I0000 00:00:1713935790.865125   39966 gl_context.cc:357] GL version: 2.1 (2.1 Metal - 88), renderer: Apple M2\n",
      "I0000 00:00:1713935795.467392   39966 gl_context.cc:357] GL version: 2.1 (2.1 Metal - 88), renderer: Apple M2\n",
      "I0000 00:00:1713935799.176368   39966 gl_context.cc:357] GL version: 2.1 (2.1 Metal - 88), renderer: Apple M2\n",
      "I0000 00:00:1713935803.558855   39966 gl_context.cc:357] GL version: 2.1 (2.1 Metal - 88), renderer: Apple M2\n",
      "I0000 00:00:1713935807.686929   39966 gl_context.cc:357] GL version: 2.1 (2.1 Metal - 88), renderer: Apple M2\n",
      "I0000 00:00:1713935812.223106   39966 gl_context.cc:357] GL version: 2.1 (2.1 Metal - 88), renderer: Apple M2\n",
      "I0000 00:00:1713935816.129121   39966 gl_context.cc:357] GL version: 2.1 (2.1 Metal - 88), renderer: Apple M2\n",
      "I0000 00:00:1713935821.625279   39966 gl_context.cc:357] GL version: 2.1 (2.1 Metal - 88), renderer: Apple M2\n",
      "I0000 00:00:1713935825.408059   39966 gl_context.cc:357] GL version: 2.1 (2.1 Metal - 88), renderer: Apple M2\n",
      "I0000 00:00:1713935829.570947   39966 gl_context.cc:357] GL version: 2.1 (2.1 Metal - 88), renderer: Apple M2\n",
      "I0000 00:00:1713935834.773822   39966 gl_context.cc:357] GL version: 2.1 (2.1 Metal - 88), renderer: Apple M2\n",
      "I0000 00:00:1713935838.313381   39966 gl_context.cc:357] GL version: 2.1 (2.1 Metal - 88), renderer: Apple M2\n",
      "I0000 00:00:1713935842.128904   39966 gl_context.cc:357] GL version: 2.1 (2.1 Metal - 88), renderer: Apple M2\n",
      "I0000 00:00:1713935846.463421   39966 gl_context.cc:357] GL version: 2.1 (2.1 Metal - 88), renderer: Apple M2\n",
      "Context leak detected, msgtracer returned -1\n",
      "I0000 00:00:1713935850.229309   39966 gl_context.cc:357] GL version: 2.1 (2.1 Metal - 88), renderer: Apple M2\n",
      "I0000 00:00:1713935854.431433   39966 gl_context.cc:357] GL version: 2.1 (2.1 Metal - 88), renderer: Apple M2\n",
      "I0000 00:00:1713935857.819008   39966 gl_context.cc:357] GL version: 2.1 (2.1 Metal - 88), renderer: Apple M2\n",
      "I0000 00:00:1713935862.875795   39966 gl_context.cc:357] GL version: 2.1 (2.1 Metal - 88), renderer: Apple M2\n",
      "I0000 00:00:1713935867.248463   39966 gl_context.cc:357] GL version: 2.1 (2.1 Metal - 88), renderer: Apple M2\n",
      "I0000 00:00:1713935870.786392   39966 gl_context.cc:357] GL version: 2.1 (2.1 Metal - 88), renderer: Apple M2\n",
      "I0000 00:00:1713935876.147598   39966 gl_context.cc:357] GL version: 2.1 (2.1 Metal - 88), renderer: Apple M2\n",
      "I0000 00:00:1713935880.573659   39966 gl_context.cc:357] GL version: 2.1 (2.1 Metal - 88), renderer: Apple M2\n",
      "I0000 00:00:1713935884.604029   39966 gl_context.cc:357] GL version: 2.1 (2.1 Metal - 88), renderer: Apple M2\n",
      "I0000 00:00:1713935890.138112   39966 gl_context.cc:357] GL version: 2.1 (2.1 Metal - 88), renderer: Apple M2\n",
      "I0000 00:00:1713935895.673090   39966 gl_context.cc:357] GL version: 2.1 (2.1 Metal - 88), renderer: Apple M2\n",
      "I0000 00:00:1713935900.586500   39966 gl_context.cc:357] GL version: 2.1 (2.1 Metal - 88), renderer: Apple M2\n",
      "I0000 00:00:1713935905.955104   39966 gl_context.cc:357] GL version: 2.1 (2.1 Metal - 88), renderer: Apple M2\n",
      "I0000 00:00:1713935912.117346   39966 gl_context.cc:357] GL version: 2.1 (2.1 Metal - 88), renderer: Apple M2\n",
      "I0000 00:00:1713935917.870454   39966 gl_context.cc:357] GL version: 2.1 (2.1 Metal - 88), renderer: Apple M2\n",
      "I0000 00:00:1713935922.098408   39966 gl_context.cc:357] GL version: 2.1 (2.1 Metal - 88), renderer: Apple M2\n",
      "Context leak detected, msgtracer returned -1\n",
      "I0000 00:00:1713935928.011658   39966 gl_context.cc:357] GL version: 2.1 (2.1 Metal - 88), renderer: Apple M2\n",
      "I0000 00:00:1713935933.116724   39966 gl_context.cc:357] GL version: 2.1 (2.1 Metal - 88), renderer: Apple M2\n",
      "I0000 00:00:1713935938.041198   39966 gl_context.cc:357] GL version: 2.1 (2.1 Metal - 88), renderer: Apple M2\n",
      "I0000 00:00:1713935943.473707   39966 gl_context.cc:357] GL version: 2.1 (2.1 Metal - 88), renderer: Apple M2\n",
      "I0000 00:00:1713935948.963115   39966 gl_context.cc:357] GL version: 2.1 (2.1 Metal - 88), renderer: Apple M2\n",
      "I0000 00:00:1713935955.392072   39966 gl_context.cc:357] GL version: 2.1 (2.1 Metal - 88), renderer: Apple M2\n",
      "I0000 00:00:1713935961.213281   39966 gl_context.cc:357] GL version: 2.1 (2.1 Metal - 88), renderer: Apple M2\n",
      "I0000 00:00:1713935967.113515   39966 gl_context.cc:357] GL version: 2.1 (2.1 Metal - 88), renderer: Apple M2\n",
      "I0000 00:00:1713935974.559431   39966 gl_context.cc:357] GL version: 2.1 (2.1 Metal - 88), renderer: Apple M2\n",
      "I0000 00:00:1713935980.189274   39966 gl_context.cc:357] GL version: 2.1 (2.1 Metal - 88), renderer: Apple M2\n",
      "I0000 00:00:1713935985.971778   39966 gl_context.cc:357] GL version: 2.1 (2.1 Metal - 88), renderer: Apple M2\n",
      "I0000 00:00:1713935990.715889   39966 gl_context.cc:357] GL version: 2.1 (2.1 Metal - 88), renderer: Apple M2\n",
      "I0000 00:00:1713935998.310956   39966 gl_context.cc:357] GL version: 2.1 (2.1 Metal - 88), renderer: Apple M2\n",
      "I0000 00:00:1713936004.668652   39966 gl_context.cc:357] GL version: 2.1 (2.1 Metal - 88), renderer: Apple M2\n",
      "I0000 00:00:1713936009.204795   39966 gl_context.cc:357] GL version: 2.1 (2.1 Metal - 88), renderer: Apple M2\n",
      "I0000 00:00:1713936013.029133   39966 gl_context.cc:357] GL version: 2.1 (2.1 Metal - 88), renderer: Apple M2\n",
      "I0000 00:00:1713936019.268390   39966 gl_context.cc:357] GL version: 2.1 (2.1 Metal - 88), renderer: Apple M2\n",
      "Context leak detected, msgtracer returned -1\n",
      "I0000 00:00:1713936024.863230   39966 gl_context.cc:357] GL version: 2.1 (2.1 Metal - 88), renderer: Apple M2\n",
      "I0000 00:00:1713936029.020555   39966 gl_context.cc:357] GL version: 2.1 (2.1 Metal - 88), renderer: Apple M2\n",
      "I0000 00:00:1713936034.187286   39966 gl_context.cc:357] GL version: 2.1 (2.1 Metal - 88), renderer: Apple M2\n",
      "I0000 00:00:1713936039.688993   39966 gl_context.cc:357] GL version: 2.1 (2.1 Metal - 88), renderer: Apple M2\n",
      "I0000 00:00:1713936047.582702   39966 gl_context.cc:357] GL version: 2.1 (2.1 Metal - 88), renderer: Apple M2\n",
      "I0000 00:00:1713936052.207552   39966 gl_context.cc:357] GL version: 2.1 (2.1 Metal - 88), renderer: Apple M2\n",
      "I0000 00:00:1713936057.128991   39966 gl_context.cc:357] GL version: 2.1 (2.1 Metal - 88), renderer: Apple M2\n",
      "I0000 00:00:1713936061.303351   39966 gl_context.cc:357] GL version: 2.1 (2.1 Metal - 88), renderer: Apple M2\n"
     ]
    }
   ],
   "source": [
    "for video_name in os.listdir(video_path + '/' + fold):\n",
    "    if int(video_name.split('_')[2][:2]) >= 30: # video name 참조\n",
    "        if video_name.split('_')[1] == 'normal': label = 0\n",
    "        else: label = 1\n",
    "        skel_data_n, skel_data_f = get_skeleton('{}/{}'.format(video_path + '/' + fold, video_name), attention_dot, draw_line)\n",
    "        if skel_data_n != False:\n",
    "            seq_list_n = skel_data_n[:30]\n",
    "            seq_list_f = skel_data_f[:30]\n",
    "            raw_data.append({'key':label, 'value':seq_list_n})\n",
    "            raw_data.append({'key':label, 'value':seq_list_f})"
   ]
  },
  {
   "cell_type": "code",
   "execution_count": 25,
   "id": "8dbd2169-ae51-4962-856e-b3e9a56d1446",
   "metadata": {},
   "outputs": [
    {
     "name": "stdout",
     "output_type": "stream",
     "text": [
      "../../dataset_aihub/normal_김성욱.pickle\n"
     ]
    }
   ],
   "source": [
    "filename = video_path + fold + '.pickle'\n",
    "print(filename)\n",
    "with open(filename, 'wb') as f:\n",
    "    pickle.dump(raw_data, f)"
   ]
  },
  {
   "cell_type": "code",
   "execution_count": 26,
   "id": "775863c9-5340-4f31-ac8e-e8b22aeb2317",
   "metadata": {},
   "outputs": [],
   "source": [
    "fold = 'abnormal_강민지'\n",
    "raw_data = []"
   ]
  },
  {
   "cell_type": "code",
   "execution_count": 27,
   "id": "b90199c6-16d1-430e-9216-09279f130f9a",
   "metadata": {
    "scrolled": true
   },
   "outputs": [
    {
     "name": "stderr",
     "output_type": "stream",
     "text": [
      "I0000 00:00:1713936749.410149   39966 gl_context.cc:357] GL version: 2.1 (2.1 Metal - 88), renderer: Apple M2\n",
      "I0000 00:00:1713936752.953834   39966 gl_context.cc:357] GL version: 2.1 (2.1 Metal - 88), renderer: Apple M2\n",
      "I0000 00:00:1713936756.765544   39966 gl_context.cc:357] GL version: 2.1 (2.1 Metal - 88), renderer: Apple M2\n",
      "I0000 00:00:1713936760.245355   39966 gl_context.cc:357] GL version: 2.1 (2.1 Metal - 88), renderer: Apple M2\n",
      "I0000 00:00:1713936763.648833   39966 gl_context.cc:357] GL version: 2.1 (2.1 Metal - 88), renderer: Apple M2\n",
      "I0000 00:00:1713936767.088113   39966 gl_context.cc:357] GL version: 2.1 (2.1 Metal - 88), renderer: Apple M2\n",
      "I0000 00:00:1713936770.510868   39966 gl_context.cc:357] GL version: 2.1 (2.1 Metal - 88), renderer: Apple M2\n",
      "I0000 00:00:1713936773.929019   39966 gl_context.cc:357] GL version: 2.1 (2.1 Metal - 88), renderer: Apple M2\n",
      "I0000 00:00:1713936777.126736   39966 gl_context.cc:357] GL version: 2.1 (2.1 Metal - 88), renderer: Apple M2\n",
      "Context leak detected, msgtracer returned -1\n",
      "I0000 00:00:1713936780.547677   39966 gl_context.cc:357] GL version: 2.1 (2.1 Metal - 88), renderer: Apple M2\n",
      "I0000 00:00:1713936783.997904   39966 gl_context.cc:357] GL version: 2.1 (2.1 Metal - 88), renderer: Apple M2\n",
      "I0000 00:00:1713936788.238347   39966 gl_context.cc:357] GL version: 2.1 (2.1 Metal - 88), renderer: Apple M2\n",
      "I0000 00:00:1713936791.712453   39966 gl_context.cc:357] GL version: 2.1 (2.1 Metal - 88), renderer: Apple M2\n",
      "I0000 00:00:1713936795.214391   39966 gl_context.cc:357] GL version: 2.1 (2.1 Metal - 88), renderer: Apple M2\n",
      "I0000 00:00:1713936799.026729   39966 gl_context.cc:357] GL version: 2.1 (2.1 Metal - 88), renderer: Apple M2\n",
      "I0000 00:00:1713936802.383349   39966 gl_context.cc:357] GL version: 2.1 (2.1 Metal - 88), renderer: Apple M2\n",
      "I0000 00:00:1713936806.141824   39966 gl_context.cc:357] GL version: 2.1 (2.1 Metal - 88), renderer: Apple M2\n",
      "I0000 00:00:1713936809.782784   39966 gl_context.cc:357] GL version: 2.1 (2.1 Metal - 88), renderer: Apple M2\n",
      "I0000 00:00:1713936813.393838   39966 gl_context.cc:357] GL version: 2.1 (2.1 Metal - 88), renderer: Apple M2\n",
      "I0000 00:00:1713936817.692816   39966 gl_context.cc:357] GL version: 2.1 (2.1 Metal - 88), renderer: Apple M2\n",
      "I0000 00:00:1713936821.494465   39966 gl_context.cc:357] GL version: 2.1 (2.1 Metal - 88), renderer: Apple M2\n",
      "I0000 00:00:1713936825.174231   39966 gl_context.cc:357] GL version: 2.1 (2.1 Metal - 88), renderer: Apple M2\n",
      "I0000 00:00:1713936828.769670   39966 gl_context.cc:357] GL version: 2.1 (2.1 Metal - 88), renderer: Apple M2\n",
      "I0000 00:00:1713936832.221668   39966 gl_context.cc:357] GL version: 2.1 (2.1 Metal - 88), renderer: Apple M2\n",
      "I0000 00:00:1713936837.198236   39966 gl_context.cc:357] GL version: 2.1 (2.1 Metal - 88), renderer: Apple M2\n",
      "Context leak detected, msgtracer returned -1\n",
      "I0000 00:00:1713936840.994114   39966 gl_context.cc:357] GL version: 2.1 (2.1 Metal - 88), renderer: Apple M2\n",
      "I0000 00:00:1713936844.490229   39966 gl_context.cc:357] GL version: 2.1 (2.1 Metal - 88), renderer: Apple M2\n",
      "I0000 00:00:1713936848.112604   39966 gl_context.cc:357] GL version: 2.1 (2.1 Metal - 88), renderer: Apple M2\n",
      "I0000 00:00:1713936851.618538   39966 gl_context.cc:357] GL version: 2.1 (2.1 Metal - 88), renderer: Apple M2\n",
      "I0000 00:00:1713936855.515778   39966 gl_context.cc:357] GL version: 2.1 (2.1 Metal - 88), renderer: Apple M2\n",
      "I0000 00:00:1713936859.403268   39966 gl_context.cc:357] GL version: 2.1 (2.1 Metal - 88), renderer: Apple M2\n",
      "I0000 00:00:1713936863.144696   39966 gl_context.cc:357] GL version: 2.1 (2.1 Metal - 88), renderer: Apple M2\n",
      "I0000 00:00:1713936867.206303   39966 gl_context.cc:357] GL version: 2.1 (2.1 Metal - 88), renderer: Apple M2\n",
      "I0000 00:00:1713936870.886608   39966 gl_context.cc:357] GL version: 2.1 (2.1 Metal - 88), renderer: Apple M2\n",
      "I0000 00:00:1713936874.602050   39966 gl_context.cc:357] GL version: 2.1 (2.1 Metal - 88), renderer: Apple M2\n",
      "I0000 00:00:1713936878.468932   39966 gl_context.cc:357] GL version: 2.1 (2.1 Metal - 88), renderer: Apple M2\n",
      "I0000 00:00:1713936882.080607   39966 gl_context.cc:357] GL version: 2.1 (2.1 Metal - 88), renderer: Apple M2\n",
      "I0000 00:00:1713936885.716832   39966 gl_context.cc:357] GL version: 2.1 (2.1 Metal - 88), renderer: Apple M2\n",
      "I0000 00:00:1713936889.472322   39966 gl_context.cc:357] GL version: 2.1 (2.1 Metal - 88), renderer: Apple M2\n",
      "I0000 00:00:1713936893.278093   39966 gl_context.cc:357] GL version: 2.1 (2.1 Metal - 88), renderer: Apple M2\n",
      "I0000 00:00:1713936898.148570   39966 gl_context.cc:357] GL version: 2.1 (2.1 Metal - 88), renderer: Apple M2\n",
      "I0000 00:00:1713936901.423562   39966 gl_context.cc:357] GL version: 2.1 (2.1 Metal - 88), renderer: Apple M2\n",
      "Context leak detected, msgtracer returned -1\n",
      "I0000 00:00:1713936905.800653   39966 gl_context.cc:357] GL version: 2.1 (2.1 Metal - 88), renderer: Apple M2\n",
      "I0000 00:00:1713936909.870573   39966 gl_context.cc:357] GL version: 2.1 (2.1 Metal - 88), renderer: Apple M2\n",
      "I0000 00:00:1713936914.130935   39966 gl_context.cc:357] GL version: 2.1 (2.1 Metal - 88), renderer: Apple M2\n",
      "I0000 00:00:1713936918.740792   39966 gl_context.cc:357] GL version: 2.1 (2.1 Metal - 88), renderer: Apple M2\n",
      "I0000 00:00:1713936923.277152   39966 gl_context.cc:357] GL version: 2.1 (2.1 Metal - 88), renderer: Apple M2\n",
      "I0000 00:00:1713936927.918076   39966 gl_context.cc:357] GL version: 2.1 (2.1 Metal - 88), renderer: Apple M2\n",
      "I0000 00:00:1713936932.465547   39966 gl_context.cc:357] GL version: 2.1 (2.1 Metal - 88), renderer: Apple M2\n",
      "I0000 00:00:1713936937.693358   39966 gl_context.cc:357] GL version: 2.1 (2.1 Metal - 88), renderer: Apple M2\n",
      "I0000 00:00:1713936943.077559   39966 gl_context.cc:357] GL version: 2.1 (2.1 Metal - 88), renderer: Apple M2\n",
      "I0000 00:00:1713936948.612667   39966 gl_context.cc:357] GL version: 2.1 (2.1 Metal - 88), renderer: Apple M2\n",
      "I0000 00:00:1713936953.313418   39966 gl_context.cc:357] GL version: 2.1 (2.1 Metal - 88), renderer: Apple M2\n",
      "I0000 00:00:1713936958.898816   39966 gl_context.cc:357] GL version: 2.1 (2.1 Metal - 88), renderer: Apple M2\n",
      "I0000 00:00:1713936964.329422   39966 gl_context.cc:357] GL version: 2.1 (2.1 Metal - 88), renderer: Apple M2\n",
      "I0000 00:00:1713936970.188788   39966 gl_context.cc:357] GL version: 2.1 (2.1 Metal - 88), renderer: Apple M2\n",
      "I0000 00:00:1713936975.929084   39966 gl_context.cc:357] GL version: 2.1 (2.1 Metal - 88), renderer: Apple M2\n",
      "I0000 00:00:1713936981.474360   39966 gl_context.cc:357] GL version: 2.1 (2.1 Metal - 88), renderer: Apple M2\n"
     ]
    }
   ],
   "source": [
    "for video_name in os.listdir(video_path + '/' + fold):\n",
    "    if int(video_name.split('_')[2][:2]) >= 30: # video name 참조\n",
    "        if video_name.split('_')[1] == 'normal': label = 0\n",
    "        else: label = 1\n",
    "        skel_data_n, skel_data_f = get_skeleton('{}/{}'.format(video_path + '/' + fold, video_name), attention_dot, draw_line)\n",
    "        if skel_data_n != False:\n",
    "            seq_list_n = skel_data_n[:30]\n",
    "            seq_list_f = skel_data_f[:30]\n",
    "            raw_data.append({'key':label, 'value':seq_list_n})\n",
    "            raw_data.append({'key':label, 'value':seq_list_f})"
   ]
  },
  {
   "cell_type": "code",
   "execution_count": 28,
   "id": "2b1407ca-4d0d-44bc-bcfa-061cfdd09675",
   "metadata": {},
   "outputs": [
    {
     "name": "stdout",
     "output_type": "stream",
     "text": [
      "../../dataset_aihub/abnormal_강민지.pickle\n"
     ]
    }
   ],
   "source": [
    "filename = video_path + fold + '.pickle'\n",
    "print(filename)\n",
    "with open(filename, 'wb') as f:\n",
    "    pickle.dump(raw_data, f)"
   ]
  },
  {
   "cell_type": "code",
   "execution_count": 29,
   "id": "c5e57746-742d-4f07-b53c-f348a0c085df",
   "metadata": {},
   "outputs": [],
   "source": [
    "fold = 'normal_강민지'\n",
    "raw_data = []"
   ]
  },
  {
   "cell_type": "code",
   "execution_count": 30,
   "id": "dcc836ba-d649-4d38-8cfc-cf00420947b5",
   "metadata": {},
   "outputs": [
    {
     "name": "stderr",
     "output_type": "stream",
     "text": [
      "I0000 00:00:1713937418.382041   39966 gl_context.cc:357] GL version: 2.1 (2.1 Metal - 88), renderer: Apple M2\n",
      "Context leak detected, msgtracer returned -1\n",
      "I0000 00:00:1713937422.176207   39966 gl_context.cc:357] GL version: 2.1 (2.1 Metal - 88), renderer: Apple M2\n",
      "I0000 00:00:1713937425.485588   39966 gl_context.cc:357] GL version: 2.1 (2.1 Metal - 88), renderer: Apple M2\n",
      "I0000 00:00:1713937428.870692   39966 gl_context.cc:357] GL version: 2.1 (2.1 Metal - 88), renderer: Apple M2\n",
      "I0000 00:00:1713937432.249651   39966 gl_context.cc:357] GL version: 2.1 (2.1 Metal - 88), renderer: Apple M2\n",
      "I0000 00:00:1713937436.383617   39966 gl_context.cc:357] GL version: 2.1 (2.1 Metal - 88), renderer: Apple M2\n",
      "I0000 00:00:1713937439.307677   39966 gl_context.cc:357] GL version: 2.1 (2.1 Metal - 88), renderer: Apple M2\n",
      "I0000 00:00:1713937442.802480   39966 gl_context.cc:357] GL version: 2.1 (2.1 Metal - 88), renderer: Apple M2\n",
      "I0000 00:00:1713937445.937785   39966 gl_context.cc:357] GL version: 2.1 (2.1 Metal - 88), renderer: Apple M2\n",
      "I0000 00:00:1713937448.900992   39966 gl_context.cc:357] GL version: 2.1 (2.1 Metal - 88), renderer: Apple M2\n",
      "I0000 00:00:1713937452.568967   39966 gl_context.cc:357] GL version: 2.1 (2.1 Metal - 88), renderer: Apple M2\n",
      "I0000 00:00:1713937457.227466   39966 gl_context.cc:357] GL version: 2.1 (2.1 Metal - 88), renderer: Apple M2\n",
      "I0000 00:00:1713937461.141130   39966 gl_context.cc:357] GL version: 2.1 (2.1 Metal - 88), renderer: Apple M2\n",
      "I0000 00:00:1713937464.554833   39966 gl_context.cc:357] GL version: 2.1 (2.1 Metal - 88), renderer: Apple M2\n",
      "I0000 00:00:1713937468.165353   39966 gl_context.cc:357] GL version: 2.1 (2.1 Metal - 88), renderer: Apple M2\n",
      "I0000 00:00:1713937472.053689   39966 gl_context.cc:357] GL version: 2.1 (2.1 Metal - 88), renderer: Apple M2\n",
      "I0000 00:00:1713937475.770634   39966 gl_context.cc:357] GL version: 2.1 (2.1 Metal - 88), renderer: Apple M2\n",
      "Context leak detected, msgtracer returned -1\n",
      "I0000 00:00:1713937479.436200   39966 gl_context.cc:357] GL version: 2.1 (2.1 Metal - 88), renderer: Apple M2\n",
      "I0000 00:00:1713937483.012699   39966 gl_context.cc:357] GL version: 2.1 (2.1 Metal - 88), renderer: Apple M2\n",
      "I0000 00:00:1713937486.579367   39966 gl_context.cc:357] GL version: 2.1 (2.1 Metal - 88), renderer: Apple M2\n",
      "I0000 00:00:1713937490.163221   39966 gl_context.cc:357] GL version: 2.1 (2.1 Metal - 88), renderer: Apple M2\n",
      "I0000 00:00:1713937493.521536   39966 gl_context.cc:357] GL version: 2.1 (2.1 Metal - 88), renderer: Apple M2\n",
      "I0000 00:00:1713937497.164774   39966 gl_context.cc:357] GL version: 2.1 (2.1 Metal - 88), renderer: Apple M2\n",
      "I0000 00:00:1713937500.465188   39966 gl_context.cc:357] GL version: 2.1 (2.1 Metal - 88), renderer: Apple M2\n",
      "I0000 00:00:1713937503.855142   39966 gl_context.cc:357] GL version: 2.1 (2.1 Metal - 88), renderer: Apple M2\n",
      "I0000 00:00:1713937507.444146   39966 gl_context.cc:357] GL version: 2.1 (2.1 Metal - 88), renderer: Apple M2\n",
      "I0000 00:00:1713937510.879264   39966 gl_context.cc:357] GL version: 2.1 (2.1 Metal - 88), renderer: Apple M2\n",
      "I0000 00:00:1713937514.811091   39966 gl_context.cc:357] GL version: 2.1 (2.1 Metal - 88), renderer: Apple M2\n",
      "I0000 00:00:1713937518.456679   39966 gl_context.cc:357] GL version: 2.1 (2.1 Metal - 88), renderer: Apple M2\n",
      "I0000 00:00:1713937522.489615   39966 gl_context.cc:357] GL version: 2.1 (2.1 Metal - 88), renderer: Apple M2\n",
      "I0000 00:00:1713937526.128118   39966 gl_context.cc:357] GL version: 2.1 (2.1 Metal - 88), renderer: Apple M2\n",
      "I0000 00:00:1713937529.993908   39966 gl_context.cc:357] GL version: 2.1 (2.1 Metal - 88), renderer: Apple M2\n",
      "I0000 00:00:1713937533.739664   39966 gl_context.cc:357] GL version: 2.1 (2.1 Metal - 88), renderer: Apple M2\n",
      "I0000 00:00:1713937537.668547   39966 gl_context.cc:357] GL version: 2.1 (2.1 Metal - 88), renderer: Apple M2\n",
      "Context leak detected, msgtracer returned -1\n",
      "I0000 00:00:1713937541.555851   39966 gl_context.cc:357] GL version: 2.1 (2.1 Metal - 88), renderer: Apple M2\n",
      "I0000 00:00:1713937545.440935   39966 gl_context.cc:357] GL version: 2.1 (2.1 Metal - 88), renderer: Apple M2\n",
      "I0000 00:00:1713937549.698384   39966 gl_context.cc:357] GL version: 2.1 (2.1 Metal - 88), renderer: Apple M2\n",
      "I0000 00:00:1713937554.305044   39966 gl_context.cc:357] GL version: 2.1 (2.1 Metal - 88), renderer: Apple M2\n",
      "I0000 00:00:1713937558.975428   39966 gl_context.cc:357] GL version: 2.1 (2.1 Metal - 88), renderer: Apple M2\n",
      "I0000 00:00:1713937563.967215   39966 gl_context.cc:357] GL version: 2.1 (2.1 Metal - 88), renderer: Apple M2\n",
      "I0000 00:00:1713937569.507297   39966 gl_context.cc:357] GL version: 2.1 (2.1 Metal - 88), renderer: Apple M2\n",
      "I0000 00:00:1713937575.016441   39966 gl_context.cc:357] GL version: 2.1 (2.1 Metal - 88), renderer: Apple M2\n",
      "I0000 00:00:1713937582.161351   39966 gl_context.cc:357] GL version: 2.1 (2.1 Metal - 88), renderer: Apple M2\n",
      "I0000 00:00:1713937587.398968   39966 gl_context.cc:357] GL version: 2.1 (2.1 Metal - 88), renderer: Apple M2\n",
      "I0000 00:00:1713937594.949383   39966 gl_context.cc:357] GL version: 2.1 (2.1 Metal - 88), renderer: Apple M2\n",
      "I0000 00:00:1713937600.409426   39966 gl_context.cc:357] GL version: 2.1 (2.1 Metal - 88), renderer: Apple M2\n",
      "I0000 00:00:1713937606.391934   39966 gl_context.cc:357] GL version: 2.1 (2.1 Metal - 88), renderer: Apple M2\n",
      "I0000 00:00:1713937612.557087   39966 gl_context.cc:357] GL version: 2.1 (2.1 Metal - 88), renderer: Apple M2\n",
      "I0000 00:00:1713937618.640480   39966 gl_context.cc:357] GL version: 2.1 (2.1 Metal - 88), renderer: Apple M2\n",
      "I0000 00:00:1713937624.760626   39966 gl_context.cc:357] GL version: 2.1 (2.1 Metal - 88), renderer: Apple M2\n",
      "I0000 00:00:1713937630.588782   39966 gl_context.cc:357] GL version: 2.1 (2.1 Metal - 88), renderer: Apple M2\n",
      "Context leak detected, msgtracer returned -1\n",
      "I0000 00:00:1713937636.771918   39966 gl_context.cc:357] GL version: 2.1 (2.1 Metal - 88), renderer: Apple M2\n",
      "I0000 00:00:1713937642.261563   39966 gl_context.cc:357] GL version: 2.1 (2.1 Metal - 88), renderer: Apple M2\n",
      "I0000 00:00:1713937647.683374   39966 gl_context.cc:357] GL version: 2.1 (2.1 Metal - 88), renderer: Apple M2\n",
      "I0000 00:00:1713937653.042024   39966 gl_context.cc:357] GL version: 2.1 (2.1 Metal - 88), renderer: Apple M2\n",
      "I0000 00:00:1713937658.615280   39966 gl_context.cc:357] GL version: 2.1 (2.1 Metal - 88), renderer: Apple M2\n",
      "I0000 00:00:1713937663.630597   39966 gl_context.cc:357] GL version: 2.1 (2.1 Metal - 88), renderer: Apple M2\n"
     ]
    }
   ],
   "source": [
    "for video_name in os.listdir(video_path + '/' + fold):\n",
    "    if int(video_name.split('_')[2][:2]) >= 30: # video name 참조\n",
    "        if video_name.split('_')[1] == 'normal': label = 0\n",
    "        else: label = 1\n",
    "        skel_data_n, skel_data_f = get_skeleton('{}/{}'.format(video_path + '/' + fold, video_name), attention_dot, draw_line)\n",
    "        if skel_data_n != False:\n",
    "            seq_list_n = skel_data_n[:30]\n",
    "            seq_list_f = skel_data_f[:30]\n",
    "            raw_data.append({'key':label, 'value':seq_list_n})\n",
    "            raw_data.append({'key':label, 'value':seq_list_f})"
   ]
  },
  {
   "cell_type": "code",
   "execution_count": 31,
   "id": "8e27be41-179b-403c-a6ea-77a109485b4a",
   "metadata": {},
   "outputs": [
    {
     "name": "stdout",
     "output_type": "stream",
     "text": [
      "../../dataset_aihub/normal_강민지.pickle\n"
     ]
    }
   ],
   "source": [
    "filename = video_path + fold + '.pickle'\n",
    "print(filename)\n",
    "with open(filename, 'wb') as f:\n",
    "    pickle.dump(raw_data, f)"
   ]
  },
  {
   "cell_type": "code",
   "execution_count": 32,
   "id": "c01afe9c-7cd9-4c16-b678-ebc1111ae7a6",
   "metadata": {},
   "outputs": [],
   "source": [
    "import glob\n",
    "pickles = sorted(glob.glob('../../dataset_aihub/*.pickle'))"
   ]
  },
  {
   "cell_type": "code",
   "execution_count": 33,
   "id": "72e216ad-aa43-4833-a2e2-d1a47a8bb441",
   "metadata": {},
   "outputs": [
    {
     "name": "stdout",
     "output_type": "stream",
     "text": [
      "['../../dataset_aihub/abnormal_강동욱.pickle', '../../dataset_aihub/abnormal_강민지.pickle', '../../dataset_aihub/abnormal_김성욱.pickle', '../../dataset_aihub/normal_강동욱.pickle', '../../dataset_aihub/normal_강민지.pickle', '../../dataset_aihub/normal_김성욱.pickle']\n"
     ]
    }
   ],
   "source": [
    "print(pickles)"
   ]
  },
  {
   "cell_type": "code",
   "execution_count": 39,
   "id": "43a811a4-8324-4f07-827c-838067be19af",
   "metadata": {},
   "outputs": [],
   "source": [
    "raw_data = []\n",
    "for onepickle in pickles:\n",
    "    with open(onepickle, 'rb') as f:\n",
    "        raw_data += pickle.load(f)"
   ]
  },
  {
   "cell_type": "code",
   "execution_count": 40,
   "id": "85d43a8e-8d8b-4416-8d0e-96feae0b012b",
   "metadata": {},
   "outputs": [
    {
     "data": {
      "text/plain": [
       "828"
      ]
     },
     "execution_count": 40,
     "metadata": {},
     "output_type": "execute_result"
    }
   ],
   "source": [
    "len(raw_data)"
   ]
  },
  {
   "cell_type": "code",
   "execution_count": 41,
   "id": "ec8300fe-7b5a-461f-a0fe-67b0d3fbf66f",
   "metadata": {},
   "outputs": [],
   "source": [
    "with open('../../dataset_aihub/raw_data.pickle', 'wb') as f:\n",
    "    pickle.dump(raw_data, f)"
   ]
  },
  {
   "cell_type": "code",
   "execution_count": 36,
   "id": "4deb2206-0edb-4226-b7e4-b9a6cfa4e030",
   "metadata": {
    "scrolled": true
   },
   "outputs": [
    {
     "name": "stdout",
     "output_type": "stream",
     "text": [
      "../../dataset_aihub/abnormal_강동욱.pickle 170\n",
      "../../dataset_aihub/abnormal_강민지.pickle 112\n",
      "../../dataset_aihub/abnormal_김성욱.pickle 142\n",
      "../../dataset_aihub/normal_강동욱.pickle 164\n",
      "../../dataset_aihub/normal_강민지.pickle 108\n",
      "../../dataset_aihub/normal_김성욱.pickle 132\n"
     ]
    }
   ],
   "source": [
    "for onepickle in pickles:\n",
    "    with open(onepickle, 'rb') as f:\n",
    "        data = pickle.load(f)\n",
    "        print(onepickle,len(data))"
   ]
  },
  {
   "cell_type": "code",
   "execution_count": 42,
   "id": "29f3395a-7140-4ae5-99ce-77789f61c1da",
   "metadata": {},
   "outputs": [],
   "source": [
    "with open('../../dataset_aihub/abnormal_강동욱.pickle', 'rb') as f:\n",
    "    abdw = pickle.load(f)\n",
    "with open('../../dataset_aihub/abnormal_강민지.pickle', 'rb') as f:\n",
    "    abmj = pickle.load(f)\n",
    "with open('../../dataset_aihub/abnormal_김성욱.pickle', 'rb') as f:\n",
    "    absw = pickle.load(f)\n",
    "with open('../../dataset_aihub/normal_강동욱.pickle', 'rb') as f:\n",
    "    ndw = pickle.load(f)\n",
    "with open('../../dataset_aihub/normal_강민지.pickle', 'rb') as f:\n",
    "    nmj = pickle.load(f)\n",
    "with open('../../dataset_aihub/normal_김성욱.pickle', 'rb') as f:\n",
    "    nsw = pickle.load(f)"
   ]
  },
  {
   "cell_type": "code",
   "execution_count": 48,
   "id": "d44601d3-5475-43f2-bd5c-2357e8982777",
   "metadata": {},
   "outputs": [],
   "source": [
    "abdw = abdw[:160]"
   ]
  },
  {
   "cell_type": "code",
   "execution_count": 49,
   "id": "cd0ccf79-fee3-48fe-b72c-61966eac8397",
   "metadata": {},
   "outputs": [],
   "source": [
    "abmj = abmj[:108]"
   ]
  },
  {
   "cell_type": "code",
   "execution_count": 50,
   "id": "efc4b1e9-dc11-4da1-af71-4094900a23e8",
   "metadata": {},
   "outputs": [],
   "source": [
    "absw = absw[:132]"
   ]
  },
  {
   "cell_type": "code",
   "execution_count": 51,
   "id": "53fc81e0-2598-4a47-9538-c1aecbb16cde",
   "metadata": {},
   "outputs": [],
   "source": [
    "ndw = ndw[:160]"
   ]
  },
  {
   "cell_type": "code",
   "execution_count": 53,
   "id": "cb9ba149-c1b2-4f3b-8f10-a31a4da18643",
   "metadata": {},
   "outputs": [],
   "source": [
    "raw_data = abdw+abmj+absw+ndw+nmj+nsw"
   ]
  },
  {
   "cell_type": "code",
   "execution_count": 55,
   "id": "0264b116-a5ed-424b-a44e-06148ba6af8d",
   "metadata": {},
   "outputs": [],
   "source": [
    "with open('../../dataset_aihub/raw_data.pickle', 'wb') as f:\n",
    "    pickle.dump(raw_data, f)"
   ]
  },
  {
   "cell_type": "code",
   "execution_count": 54,
   "id": "c966b74f-b2b8-4f6f-83a9-7ed65c14f513",
   "metadata": {},
   "outputs": [
    {
     "name": "stdout",
     "output_type": "stream",
     "text": [
      "normal data: 400 | abnormal data: 400\n"
     ]
    }
   ],
   "source": [
    "# dataset 길이 출력\n",
    "\n",
    "nd = 0\n",
    "ad = 0\n",
    "for i in range(len(raw_data)):\n",
    "    if raw_data[i]['key'] == 0:\n",
    "        nd += 1\n",
    "    else:\n",
    "        ad += 1\n",
    "print('normal data:', nd, '| abnormal data:', ad)"
   ]
  },
  {
   "cell_type": "code",
   "execution_count": null,
   "id": "8a569aec-a995-4939-866b-146bb1ee76ed",
   "metadata": {},
   "outputs": [],
   "source": []
  }
 ],
 "metadata": {
  "kernelspec": {
   "display_name": "Python 3 (ipykernel)",
   "language": "python",
   "name": "python3"
  },
  "language_info": {
   "codemirror_mode": {
    "name": "ipython",
    "version": 3
   },
   "file_extension": ".py",
   "mimetype": "text/x-python",
   "name": "python",
   "nbconvert_exporter": "python",
   "pygments_lexer": "ipython3",
   "version": "3.11.7"
  }
 },
 "nbformat": 4,
 "nbformat_minor": 5
}
