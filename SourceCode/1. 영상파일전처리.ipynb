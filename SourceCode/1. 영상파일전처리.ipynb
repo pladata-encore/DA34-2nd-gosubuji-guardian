{
 "cells": [
  {
   "cell_type": "code",
   "execution_count": 1,
   "metadata": {
    "scrolled": true
   },
   "outputs": [
    {
     "name": "stdout",
     "output_type": "stream",
     "text": [
      "Collecting moviepy\n",
      "  Downloading moviepy-1.0.3.tar.gz (388 kB)\n",
      "\u001b[2K     \u001b[90m━━━━━━━━━━━━━━━━━━━━━━━━━━━━━━━━━━━━━━\u001b[0m \u001b[32m388.3/388.3 kB\u001b[0m \u001b[31m10.8 MB/s\u001b[0m eta \u001b[36m0:00:00\u001b[0m\n",
      "\u001b[?25h  Preparing metadata (setup.py) ... \u001b[?25ldone\n",
      "\u001b[?25hCollecting decorator<5.0,>=4.0.2 (from moviepy)\n",
      "  Downloading decorator-4.4.2-py2.py3-none-any.whl.metadata (4.2 kB)\n",
      "Requirement already satisfied: imageio<3.0,>=2.5 in /Users/kimsungwook/Dev/anaconda3/lib/python3.11/site-packages (from moviepy) (2.33.1)\n",
      "Collecting imageio_ffmpeg>=0.2.0 (from moviepy)\n",
      "  Downloading imageio-ffmpeg-0.4.9.tar.gz (17 kB)\n",
      "  Preparing metadata (setup.py) ... \u001b[?25ldone\n",
      "\u001b[?25hRequirement already satisfied: tqdm<5.0,>=4.11.2 in /Users/kimsungwook/Dev/anaconda3/lib/python3.11/site-packages (from moviepy) (4.66.2)\n",
      "Requirement already satisfied: numpy>=1.17.3 in /Users/kimsungwook/Dev/anaconda3/lib/python3.11/site-packages (from moviepy) (1.26.4)\n",
      "Requirement already satisfied: requests<3.0,>=2.8.1 in /Users/kimsungwook/Dev/anaconda3/lib/python3.11/site-packages (from moviepy) (2.31.0)\n",
      "Collecting proglog<=1.0.0 (from moviepy)\n",
      "  Downloading proglog-0.1.10-py3-none-any.whl.metadata (639 bytes)\n",
      "Requirement already satisfied: pillow>=8.3.2 in /Users/kimsungwook/Dev/anaconda3/lib/python3.11/site-packages (from imageio<3.0,>=2.5->moviepy) (10.3.0)\n",
      "Requirement already satisfied: setuptools in /Users/kimsungwook/Dev/anaconda3/lib/python3.11/site-packages (from imageio_ffmpeg>=0.2.0->moviepy) (68.2.2)\n",
      "Requirement already satisfied: charset-normalizer<4,>=2 in /Users/kimsungwook/Dev/anaconda3/lib/python3.11/site-packages (from requests<3.0,>=2.8.1->moviepy) (3.3.2)\n",
      "Requirement already satisfied: idna<4,>=2.5 in /Users/kimsungwook/Dev/anaconda3/lib/python3.11/site-packages (from requests<3.0,>=2.8.1->moviepy) (3.6)\n",
      "Requirement already satisfied: urllib3<3,>=1.21.1 in /Users/kimsungwook/Dev/anaconda3/lib/python3.11/site-packages (from requests<3.0,>=2.8.1->moviepy) (2.2.1)\n",
      "Requirement already satisfied: certifi>=2017.4.17 in /Users/kimsungwook/Dev/anaconda3/lib/python3.11/site-packages (from requests<3.0,>=2.8.1->moviepy) (2024.2.2)\n",
      "Downloading decorator-4.4.2-py2.py3-none-any.whl (9.2 kB)\n",
      "Downloading proglog-0.1.10-py3-none-any.whl (6.1 kB)\n",
      "Building wheels for collected packages: moviepy, imageio_ffmpeg\n",
      "  Building wheel for moviepy (setup.py) ... \u001b[?25ldone\n",
      "\u001b[?25h  Created wheel for moviepy: filename=moviepy-1.0.3-py3-none-any.whl size=110721 sha256=760452d225aa89d74f95b837e4cb71e33db2b7814e6966fa33a6d2f55d68baee\n",
      "  Stored in directory: /Users/kimsungwook/Library/Caches/pip/wheels/83/b1/d9/119ef7c144b44d591ec0a9a140465133c23ea95d2a161184ba\n",
      "  Building wheel for imageio_ffmpeg (setup.py) ... \u001b[?25ldone\n",
      "\u001b[?25h  Created wheel for imageio_ffmpeg: filename=imageio_ffmpeg-0.4.9-py3-none-any.whl size=16367 sha256=3b4045f3d0dec1530e69b1cbde55528a60c370bc913f7f47967cea3823671d75\n",
      "  Stored in directory: /Users/kimsungwook/Library/Caches/pip/wheels/c2/59/44/0cbb1f424d0220bd91b6c046e6ddef47722ba718c9051865b4\n",
      "Successfully built moviepy imageio_ffmpeg\n",
      "Installing collected packages: proglog, imageio_ffmpeg, decorator, moviepy\n",
      "  Attempting uninstall: decorator\n",
      "    Found existing installation: decorator 5.1.1\n",
      "    Uninstalling decorator-5.1.1:\n",
      "      Successfully uninstalled decorator-5.1.1\n",
      "Successfully installed decorator-4.4.2 imageio_ffmpeg-0.4.9 moviepy-1.0.3 proglog-0.1.10\n"
     ]
    }
   ],
   "source": [
    "!pip install moviepy"
   ]
  },
  {
   "cell_type": "code",
   "execution_count": 1,
   "metadata": {},
   "outputs": [],
   "source": [
    "from moviepy.editor import VideoFileClip, concatenate_videoclips"
   ]
  },
  {
   "cell_type": "code",
   "execution_count": 2,
   "metadata": {},
   "outputs": [],
   "source": [
    "# make_clip_video(원본 비디오 경로, 저장할 클립명, 시작 시간, 끝 시간)\n",
    "\n",
    "def make_clip_video(path, save_path, start_t, end_t):\n",
    "    clip_video = VideoFileClip(path).subclip(start_t, end_t)\n",
    "    clip_video.write_videofile(save_path)"
   ]
  },
  {
   "cell_type": "code",
   "execution_count": 4,
   "metadata": {},
   "outputs": [],
   "source": [
    "import glob"
   ]
  },
  {
   "cell_type": "code",
   "execution_count": 5,
   "metadata": {},
   "outputs": [],
   "source": [
    "path1 = sorted(glob.glob('../datas/dataset_aihub_ksw/raw/*.mp4')) # 학습하려는 영상이 있는 경로로 설정"
   ]
  },
  {
   "cell_type": "code",
   "execution_count": 6,
   "metadata": {},
   "outputs": [
    {
     "data": {
      "text/plain": [
       "['../datas/dataset_aihub_ksw/raw/C_3_12_14_BU_SMB_09-01_14-49-58_CA_RGB_DF2_F2.mp4',\n",
       " '../datas/dataset_aihub_ksw/raw/C_3_12_14_BU_SMB_09-01_14-49-58_CB_RGB_DF2_F2.mp4',\n",
       " '../datas/dataset_aihub_ksw/raw/C_3_12_14_BU_SMB_09-01_14-49-58_CC_RGB_DF2_F2.mp4',\n",
       " '../datas/dataset_aihub_ksw/raw/C_3_12_14_BU_SMB_09-01_14-49-58_CD_RGB_DF2_F2.mp4',\n",
       " '../datas/dataset_aihub_ksw/raw/C_3_12_14_BU_SYB_09-28_14-28-05_CA_RGB_DF2_F2.mp4',\n",
       " '../datas/dataset_aihub_ksw/raw/C_3_12_14_BU_SYB_09-28_14-28-05_CB_RGB_DF2_F2.mp4',\n",
       " '../datas/dataset_aihub_ksw/raw/C_3_12_14_BU_SYB_09-28_14-28-05_CC_RGB_DF2_F2.mp4',\n",
       " '../datas/dataset_aihub_ksw/raw/C_3_12_14_BU_SYB_09-28_14-28-05_CD_RGB_DF2_F2.mp4',\n",
       " '../datas/dataset_aihub_ksw/raw/C_3_12_15_BU_SMA_09-07_16-03-10_CA_RGB_DF2_F2.mp4',\n",
       " '../datas/dataset_aihub_ksw/raw/C_3_12_15_BU_SMB_09-01_14-52-11_CA_RGB_DF2_F2.mp4',\n",
       " '../datas/dataset_aihub_ksw/raw/C_3_12_15_BU_SMB_09-01_14-52-11_CB_RGB_DF2_F2.mp4',\n",
       " '../datas/dataset_aihub_ksw/raw/C_3_12_15_BU_SMB_09-01_14-52-11_CC_RGB_DF2_F2.mp4',\n",
       " '../datas/dataset_aihub_ksw/raw/C_3_12_15_BU_SMB_09-01_14-52-11_CD_RGB_DF2_F2.mp4',\n",
       " '../datas/dataset_aihub_ksw/raw/C_3_12_15_BU_SYA_09-24_14-03-20_CA_RGB_DF2_F2.mp4',\n",
       " '../datas/dataset_aihub_ksw/raw/C_3_12_15_BU_SYA_09-24_14-03-20_CB_RGB_DF2_F2.mp4',\n",
       " '../datas/dataset_aihub_ksw/raw/C_3_12_15_BU_SYA_09-24_14-03-20_CD_RGB_DF2_F2.mp4',\n",
       " '../datas/dataset_aihub_ksw/raw/C_3_12_15_BU_SYB_09-28_14-30-06_CA_RGB_DF2_F2.mp4',\n",
       " '../datas/dataset_aihub_ksw/raw/C_3_12_15_BU_SYB_09-28_14-30-06_CB_RGB_DF2_F2.mp4',\n",
       " '../datas/dataset_aihub_ksw/raw/C_3_12_15_BU_SYB_09-28_14-30-06_CC_RGB_DF2_F2.mp4',\n",
       " '../datas/dataset_aihub_ksw/raw/C_3_12_15_BU_SYB_09-28_14-30-06_CD_RGB_DF2_F2.mp4',\n",
       " '../datas/dataset_aihub_ksw/raw/C_3_12_16_BU_SMB_09-01_14-40-24_CA_RGB_DF2_F2.mp4',\n",
       " '../datas/dataset_aihub_ksw/raw/C_3_12_16_BU_SMB_09-01_14-40-24_CB_RGB_DF2_F2.mp4',\n",
       " '../datas/dataset_aihub_ksw/raw/C_3_12_16_BU_SMB_09-01_14-40-24_CC_RGB_DF2_F2.mp4',\n",
       " '../datas/dataset_aihub_ksw/raw/C_3_12_16_BU_SMB_09-01_14-40-24_CD_RGB_DF2_F2.mp4']"
      ]
     },
     "execution_count": 6,
     "metadata": {},
     "output_type": "execute_result"
    }
   ],
   "source": [
    "path1"
   ]
  },
  {
   "cell_type": "code",
   "execution_count": 5,
   "metadata": {
    "scrolled": true
   },
   "outputs": [
    {
     "name": "stdout",
     "output_type": "stream",
     "text": [
      "Moviepy - Building video 01_pocket_36.mp4.\n",
      "Moviepy - Writing video 01_pocket_36.mp4\n",
      "\n"
     ]
    },
    {
     "name": "stderr",
     "output_type": "stream",
     "text": [
      "                                                                                                     \r"
     ]
    },
    {
     "name": "stdout",
     "output_type": "stream",
     "text": [
      "Moviepy - Done !\n",
      "Moviepy - video ready 01_pocket_36.mp4\n",
      "Moviepy - Building video 02_pocket_30.mp4.\n",
      "Moviepy - Writing video 02_pocket_30.mp4\n",
      "\n"
     ]
    },
    {
     "name": "stderr",
     "output_type": "stream",
     "text": [
      "                                                                                                     \r"
     ]
    },
    {
     "name": "stdout",
     "output_type": "stream",
     "text": [
      "Moviepy - Done !\n",
      "Moviepy - video ready 02_pocket_30.mp4\n",
      "Moviepy - Building video 01_normal_36.mp4.\n",
      "Moviepy - Writing video 01_normal_36.mp4\n",
      "\n"
     ]
    },
    {
     "name": "stderr",
     "output_type": "stream",
     "text": [
      "                                                                                                     \r"
     ]
    },
    {
     "name": "stdout",
     "output_type": "stream",
     "text": [
      "Moviepy - Done !\n",
      "Moviepy - video ready 01_normal_36.mp4\n",
      "Moviepy - Building video 02_normal_30.mp4.\n",
      "Moviepy - Writing video 02_normal_30.mp4\n",
      "\n"
     ]
    },
    {
     "name": "stderr",
     "output_type": "stream",
     "text": [
      "                                                                                                     \r"
     ]
    },
    {
     "name": "stdout",
     "output_type": "stream",
     "text": [
      "Moviepy - Done !\n",
      "Moviepy - video ready 02_normal_30.mp4\n"
     ]
    }
   ],
   "source": [
    "# extract clips\n",
    "# 한 영상 안에 이상행동 클립이 평균 3개 추출 가능\n",
    "\n",
    "#1\n",
    "make_clip_video(path1, '01_pocket_36.mp4', 22, 34)\n",
    "make_clip_video(path1, '02_pocket_30.mp4', 41, 51)\n",
    "\n",
    "make_clip_video(path1, '01_normal_36.mp4', 4, 16)\n",
    "make_clip_video(path1, '02_normal_30.mp4', 11, 21)"
   ]
  },
  {
   "cell_type": "code",
   "execution_count": 7,
   "metadata": {},
   "outputs": [],
   "source": [
    "no = 201 # 파일명 앞의 숫자(1씩 증가, 필수는 아님)"
   ]
  },
  {
   "cell_type": "code",
   "execution_count": 8,
   "metadata": {
    "scrolled": true
   },
   "outputs": [
    {
     "name": "stdout",
     "output_type": "stream",
     "text": [
      "Moviepy - Building video 201_pocket_36.mp4.\n",
      "Moviepy - Writing video 201_pocket_36.mp4\n",
      "\n"
     ]
    },
    {
     "name": "stderr",
     "output_type": "stream",
     "text": [
      "                                                                                                     \r"
     ]
    },
    {
     "name": "stdout",
     "output_type": "stream",
     "text": [
      "Moviepy - Done !\n",
      "Moviepy - video ready 201_pocket_36.mp4\n",
      "Moviepy - Building video 201_normal_36.mp4.\n",
      "Moviepy - Writing video 201_normal_36.mp4\n",
      "\n"
     ]
    },
    {
     "name": "stderr",
     "output_type": "stream",
     "text": [
      "                                                                                                     \r"
     ]
    },
    {
     "name": "stdout",
     "output_type": "stream",
     "text": [
      "Moviepy - Done !\n",
      "Moviepy - video ready 201_normal_36.mp4\n",
      "Moviepy - Building video 202_pocket_30.mp4.\n",
      "Moviepy - Writing video 202_pocket_30.mp4\n",
      "\n"
     ]
    },
    {
     "name": "stderr",
     "output_type": "stream",
     "text": [
      "                                                                                                     \r"
     ]
    },
    {
     "name": "stdout",
     "output_type": "stream",
     "text": [
      "Moviepy - Done !\n",
      "Moviepy - video ready 202_pocket_30.mp4\n",
      "Moviepy - Building video 202_normal_30.mp4.\n",
      "Moviepy - Writing video 202_normal_30.mp4\n",
      "\n"
     ]
    },
    {
     "name": "stderr",
     "output_type": "stream",
     "text": [
      "                                                                                                     \r"
     ]
    },
    {
     "name": "stdout",
     "output_type": "stream",
     "text": [
      "Moviepy - Done !\n",
      "Moviepy - video ready 202_normal_30.mp4\n",
      "Moviepy - Building video 203_pocket_36.mp4.\n",
      "Moviepy - Writing video 203_pocket_36.mp4\n",
      "\n"
     ]
    },
    {
     "name": "stderr",
     "output_type": "stream",
     "text": [
      "                                                                                                     \r"
     ]
    },
    {
     "name": "stdout",
     "output_type": "stream",
     "text": [
      "Moviepy - Done !\n",
      "Moviepy - video ready 203_pocket_36.mp4\n",
      "Moviepy - Building video 203_normal_36.mp4.\n",
      "Moviepy - Writing video 203_normal_36.mp4\n",
      "\n"
     ]
    },
    {
     "name": "stderr",
     "output_type": "stream",
     "text": [
      "                                                                                                     \r"
     ]
    },
    {
     "name": "stdout",
     "output_type": "stream",
     "text": [
      "Moviepy - Done !\n",
      "Moviepy - video ready 203_normal_36.mp4\n",
      "Moviepy - Building video 204_pocket_30.mp4.\n",
      "Moviepy - Writing video 204_pocket_30.mp4\n",
      "\n"
     ]
    },
    {
     "name": "stderr",
     "output_type": "stream",
     "text": [
      "                                                                                                     \r"
     ]
    },
    {
     "name": "stdout",
     "output_type": "stream",
     "text": [
      "Moviepy - Done !\n",
      "Moviepy - video ready 204_pocket_30.mp4\n",
      "Moviepy - Building video 204_normal_30.mp4.\n",
      "Moviepy - Writing video 204_normal_30.mp4\n",
      "\n"
     ]
    },
    {
     "name": "stderr",
     "output_type": "stream",
     "text": [
      "                                                                                                     \r"
     ]
    },
    {
     "name": "stdout",
     "output_type": "stream",
     "text": [
      "Moviepy - Done !\n",
      "Moviepy - video ready 204_normal_30.mp4\n",
      "Moviepy - Building video 205_pocket_36.mp4.\n",
      "Moviepy - Writing video 205_pocket_36.mp4\n",
      "\n"
     ]
    },
    {
     "name": "stderr",
     "output_type": "stream",
     "text": [
      "                                                                                                     \r"
     ]
    },
    {
     "name": "stdout",
     "output_type": "stream",
     "text": [
      "Moviepy - Done !\n",
      "Moviepy - video ready 205_pocket_36.mp4\n",
      "Moviepy - Building video 205_normal_36.mp4.\n",
      "Moviepy - Writing video 205_normal_36.mp4\n",
      "\n"
     ]
    },
    {
     "name": "stderr",
     "output_type": "stream",
     "text": [
      "                                                                                                     \r"
     ]
    },
    {
     "name": "stdout",
     "output_type": "stream",
     "text": [
      "Moviepy - Done !\n",
      "Moviepy - video ready 205_normal_36.mp4\n",
      "Moviepy - Building video 206_pocket_30.mp4.\n",
      "Moviepy - Writing video 206_pocket_30.mp4\n",
      "\n"
     ]
    },
    {
     "name": "stderr",
     "output_type": "stream",
     "text": [
      "                                                                                                     \r"
     ]
    },
    {
     "name": "stdout",
     "output_type": "stream",
     "text": [
      "Moviepy - Done !\n",
      "Moviepy - video ready 206_pocket_30.mp4\n",
      "Moviepy - Building video 206_normal_30.mp4.\n",
      "Moviepy - Writing video 206_normal_30.mp4\n",
      "\n"
     ]
    },
    {
     "name": "stderr",
     "output_type": "stream",
     "text": [
      "                                                                                                     \r"
     ]
    },
    {
     "name": "stdout",
     "output_type": "stream",
     "text": [
      "Moviepy - Done !\n",
      "Moviepy - video ready 206_normal_30.mp4\n",
      "Moviepy - Building video 207_pocket_36.mp4.\n",
      "Moviepy - Writing video 207_pocket_36.mp4\n",
      "\n"
     ]
    },
    {
     "name": "stderr",
     "output_type": "stream",
     "text": [
      "                                                                                                     \r"
     ]
    },
    {
     "name": "stdout",
     "output_type": "stream",
     "text": [
      "Moviepy - Done !\n",
      "Moviepy - video ready 207_pocket_36.mp4\n",
      "Moviepy - Building video 207_normal_36.mp4.\n",
      "Moviepy - Writing video 207_normal_36.mp4\n",
      "\n"
     ]
    },
    {
     "name": "stderr",
     "output_type": "stream",
     "text": [
      "                                                                                                     \r"
     ]
    },
    {
     "name": "stdout",
     "output_type": "stream",
     "text": [
      "Moviepy - Done !\n",
      "Moviepy - video ready 207_normal_36.mp4\n",
      "Moviepy - Building video 208_pocket_30.mp4.\n",
      "Moviepy - Writing video 208_pocket_30.mp4\n",
      "\n"
     ]
    },
    {
     "name": "stderr",
     "output_type": "stream",
     "text": [
      "                                                                                                     \r"
     ]
    },
    {
     "name": "stdout",
     "output_type": "stream",
     "text": [
      "Moviepy - Done !\n",
      "Moviepy - video ready 208_pocket_30.mp4\n",
      "Moviepy - Building video 208_normal_30.mp4.\n",
      "Moviepy - Writing video 208_normal_30.mp4\n",
      "\n"
     ]
    },
    {
     "name": "stderr",
     "output_type": "stream",
     "text": [
      "                                                                                                     \r"
     ]
    },
    {
     "name": "stdout",
     "output_type": "stream",
     "text": [
      "Moviepy - Done !\n",
      "Moviepy - video ready 208_normal_30.mp4\n",
      "Moviepy - Building video 209_pocket_36.mp4.\n",
      "Moviepy - Writing video 209_pocket_36.mp4\n",
      "\n"
     ]
    },
    {
     "name": "stderr",
     "output_type": "stream",
     "text": [
      "                                                                                                     \r"
     ]
    },
    {
     "name": "stdout",
     "output_type": "stream",
     "text": [
      "Moviepy - Done !\n",
      "Moviepy - video ready 209_pocket_36.mp4\n",
      "Moviepy - Building video 209_normal_36.mp4.\n",
      "Moviepy - Writing video 209_normal_36.mp4\n",
      "\n"
     ]
    },
    {
     "name": "stderr",
     "output_type": "stream",
     "text": [
      "                                                                                                     \r"
     ]
    },
    {
     "name": "stdout",
     "output_type": "stream",
     "text": [
      "Moviepy - Done !\n",
      "Moviepy - video ready 209_normal_36.mp4\n",
      "Moviepy - Building video 210_pocket_30.mp4.\n",
      "Moviepy - Writing video 210_pocket_30.mp4\n",
      "\n"
     ]
    },
    {
     "name": "stderr",
     "output_type": "stream",
     "text": [
      "                                                                                                     \r"
     ]
    },
    {
     "name": "stdout",
     "output_type": "stream",
     "text": [
      "Moviepy - Done !\n",
      "Moviepy - video ready 210_pocket_30.mp4\n",
      "Moviepy - Building video 210_normal_30.mp4.\n",
      "Moviepy - Writing video 210_normal_30.mp4\n",
      "\n"
     ]
    },
    {
     "name": "stderr",
     "output_type": "stream",
     "text": [
      "                                                                                                     \r"
     ]
    },
    {
     "name": "stdout",
     "output_type": "stream",
     "text": [
      "Moviepy - Done !\n",
      "Moviepy - video ready 210_normal_30.mp4\n",
      "Moviepy - Building video 211_pocket_36.mp4.\n",
      "Moviepy - Writing video 211_pocket_36.mp4\n",
      "\n"
     ]
    },
    {
     "name": "stderr",
     "output_type": "stream",
     "text": [
      "                                                                                                     \r"
     ]
    },
    {
     "name": "stdout",
     "output_type": "stream",
     "text": [
      "Moviepy - Done !\n",
      "Moviepy - video ready 211_pocket_36.mp4\n",
      "Moviepy - Building video 211_normal_36.mp4.\n",
      "Moviepy - Writing video 211_normal_36.mp4\n",
      "\n"
     ]
    },
    {
     "name": "stderr",
     "output_type": "stream",
     "text": [
      "                                                                                                     \r"
     ]
    },
    {
     "name": "stdout",
     "output_type": "stream",
     "text": [
      "Moviepy - Done !\n",
      "Moviepy - video ready 211_normal_36.mp4\n",
      "Moviepy - Building video 212_pocket_30.mp4.\n",
      "Moviepy - Writing video 212_pocket_30.mp4\n",
      "\n"
     ]
    },
    {
     "name": "stderr",
     "output_type": "stream",
     "text": [
      "                                                                                                     \r"
     ]
    },
    {
     "name": "stdout",
     "output_type": "stream",
     "text": [
      "Moviepy - Done !\n",
      "Moviepy - video ready 212_pocket_30.mp4\n",
      "Moviepy - Building video 212_normal_30.mp4.\n",
      "Moviepy - Writing video 212_normal_30.mp4\n",
      "\n"
     ]
    },
    {
     "name": "stderr",
     "output_type": "stream",
     "text": [
      "                                                                                                     \r"
     ]
    },
    {
     "name": "stdout",
     "output_type": "stream",
     "text": [
      "Moviepy - Done !\n",
      "Moviepy - video ready 212_normal_30.mp4\n",
      "Moviepy - Building video 213_pocket_36.mp4.\n",
      "Moviepy - Writing video 213_pocket_36.mp4\n",
      "\n"
     ]
    },
    {
     "name": "stderr",
     "output_type": "stream",
     "text": [
      "                                                                                                     \r"
     ]
    },
    {
     "name": "stdout",
     "output_type": "stream",
     "text": [
      "Moviepy - Done !\n",
      "Moviepy - video ready 213_pocket_36.mp4\n",
      "Moviepy - Building video 213_normal_36.mp4.\n",
      "Moviepy - Writing video 213_normal_36.mp4\n",
      "\n"
     ]
    },
    {
     "name": "stderr",
     "output_type": "stream",
     "text": [
      "                                                                                                     \r"
     ]
    },
    {
     "name": "stdout",
     "output_type": "stream",
     "text": [
      "Moviepy - Done !\n",
      "Moviepy - video ready 213_normal_36.mp4\n",
      "Moviepy - Building video 214_pocket_30.mp4.\n",
      "Moviepy - Writing video 214_pocket_30.mp4\n",
      "\n"
     ]
    },
    {
     "name": "stderr",
     "output_type": "stream",
     "text": [
      "                                                                                                     \r"
     ]
    },
    {
     "name": "stdout",
     "output_type": "stream",
     "text": [
      "Moviepy - Done !\n",
      "Moviepy - video ready 214_pocket_30.mp4\n",
      "Moviepy - Building video 214_normal_30.mp4.\n",
      "Moviepy - Writing video 214_normal_30.mp4\n",
      "\n"
     ]
    },
    {
     "name": "stderr",
     "output_type": "stream",
     "text": [
      "                                                                                                     \r"
     ]
    },
    {
     "name": "stdout",
     "output_type": "stream",
     "text": [
      "Moviepy - Done !\n",
      "Moviepy - video ready 214_normal_30.mp4\n",
      "Moviepy - Building video 215_pocket_36.mp4.\n",
      "Moviepy - Writing video 215_pocket_36.mp4\n",
      "\n"
     ]
    },
    {
     "name": "stderr",
     "output_type": "stream",
     "text": [
      "                                                                                                     \r"
     ]
    },
    {
     "name": "stdout",
     "output_type": "stream",
     "text": [
      "Moviepy - Done !\n",
      "Moviepy - video ready 215_pocket_36.mp4\n",
      "Moviepy - Building video 215_normal_36.mp4.\n",
      "Moviepy - Writing video 215_normal_36.mp4\n",
      "\n"
     ]
    },
    {
     "name": "stderr",
     "output_type": "stream",
     "text": [
      "                                                                                                     \r"
     ]
    },
    {
     "name": "stdout",
     "output_type": "stream",
     "text": [
      "Moviepy - Done !\n",
      "Moviepy - video ready 215_normal_36.mp4\n",
      "Moviepy - Building video 216_pocket_30.mp4.\n",
      "Moviepy - Writing video 216_pocket_30.mp4\n",
      "\n"
     ]
    },
    {
     "name": "stderr",
     "output_type": "stream",
     "text": [
      "                                                                                                     \r"
     ]
    },
    {
     "name": "stdout",
     "output_type": "stream",
     "text": [
      "Moviepy - Done !\n",
      "Moviepy - video ready 216_pocket_30.mp4\n",
      "Moviepy - Building video 216_normal_30.mp4.\n",
      "Moviepy - Writing video 216_normal_30.mp4\n",
      "\n"
     ]
    },
    {
     "name": "stderr",
     "output_type": "stream",
     "text": [
      "                                                                                                     \r"
     ]
    },
    {
     "name": "stdout",
     "output_type": "stream",
     "text": [
      "Moviepy - Done !\n",
      "Moviepy - video ready 216_normal_30.mp4\n",
      "Moviepy - Building video 217_pocket_36.mp4.\n",
      "Moviepy - Writing video 217_pocket_36.mp4\n",
      "\n"
     ]
    },
    {
     "name": "stderr",
     "output_type": "stream",
     "text": [
      "                                                                                                     \r"
     ]
    },
    {
     "name": "stdout",
     "output_type": "stream",
     "text": [
      "Moviepy - Done !\n",
      "Moviepy - video ready 217_pocket_36.mp4\n",
      "Moviepy - Building video 217_normal_36.mp4.\n",
      "Moviepy - Writing video 217_normal_36.mp4\n",
      "\n"
     ]
    },
    {
     "name": "stderr",
     "output_type": "stream",
     "text": [
      "                                                                                                     \r"
     ]
    },
    {
     "name": "stdout",
     "output_type": "stream",
     "text": [
      "Moviepy - Done !\n",
      "Moviepy - video ready 217_normal_36.mp4\n",
      "Moviepy - Building video 218_pocket_30.mp4.\n",
      "Moviepy - Writing video 218_pocket_30.mp4\n",
      "\n"
     ]
    },
    {
     "name": "stderr",
     "output_type": "stream",
     "text": [
      "                                                                                                     \r"
     ]
    },
    {
     "name": "stdout",
     "output_type": "stream",
     "text": [
      "Moviepy - Done !\n",
      "Moviepy - video ready 218_pocket_30.mp4\n",
      "Moviepy - Building video 218_normal_30.mp4.\n",
      "Moviepy - Writing video 218_normal_30.mp4\n",
      "\n"
     ]
    },
    {
     "name": "stderr",
     "output_type": "stream",
     "text": [
      "                                                                                                     \r"
     ]
    },
    {
     "name": "stdout",
     "output_type": "stream",
     "text": [
      "Moviepy - Done !\n",
      "Moviepy - video ready 218_normal_30.mp4\n",
      "Moviepy - Building video 219_pocket_36.mp4.\n",
      "Moviepy - Writing video 219_pocket_36.mp4\n",
      "\n"
     ]
    },
    {
     "name": "stderr",
     "output_type": "stream",
     "text": [
      "                                                                                                     \r"
     ]
    },
    {
     "name": "stdout",
     "output_type": "stream",
     "text": [
      "Moviepy - Done !\n",
      "Moviepy - video ready 219_pocket_36.mp4\n",
      "Moviepy - Building video 219_normal_36.mp4.\n",
      "Moviepy - Writing video 219_normal_36.mp4\n",
      "\n"
     ]
    },
    {
     "name": "stderr",
     "output_type": "stream",
     "text": [
      "                                                                                                     \r"
     ]
    },
    {
     "name": "stdout",
     "output_type": "stream",
     "text": [
      "Moviepy - Done !\n",
      "Moviepy - video ready 219_normal_36.mp4\n",
      "Moviepy - Building video 220_pocket_30.mp4.\n",
      "Moviepy - Writing video 220_pocket_30.mp4\n",
      "\n"
     ]
    },
    {
     "name": "stderr",
     "output_type": "stream",
     "text": [
      "                                                                                                     \r"
     ]
    },
    {
     "name": "stdout",
     "output_type": "stream",
     "text": [
      "Moviepy - Done !\n",
      "Moviepy - video ready 220_pocket_30.mp4\n",
      "Moviepy - Building video 220_normal_30.mp4.\n",
      "Moviepy - Writing video 220_normal_30.mp4\n",
      "\n"
     ]
    },
    {
     "name": "stderr",
     "output_type": "stream",
     "text": [
      "                                                                                                     \r"
     ]
    },
    {
     "name": "stdout",
     "output_type": "stream",
     "text": [
      "Moviepy - Done !\n",
      "Moviepy - video ready 220_normal_30.mp4\n",
      "Moviepy - Building video 221_pocket_36.mp4.\n",
      "Moviepy - Writing video 221_pocket_36.mp4\n",
      "\n"
     ]
    },
    {
     "name": "stderr",
     "output_type": "stream",
     "text": [
      "                                                                                                     \r"
     ]
    },
    {
     "name": "stdout",
     "output_type": "stream",
     "text": [
      "Moviepy - Done !\n",
      "Moviepy - video ready 221_pocket_36.mp4\n",
      "Moviepy - Building video 221_normal_36.mp4.\n",
      "Moviepy - Writing video 221_normal_36.mp4\n",
      "\n"
     ]
    },
    {
     "name": "stderr",
     "output_type": "stream",
     "text": [
      "                                                                                                     \r"
     ]
    },
    {
     "name": "stdout",
     "output_type": "stream",
     "text": [
      "Moviepy - Done !\n",
      "Moviepy - video ready 221_normal_36.mp4\n",
      "Moviepy - Building video 222_pocket_30.mp4.\n",
      "Moviepy - Writing video 222_pocket_30.mp4\n",
      "\n"
     ]
    },
    {
     "name": "stderr",
     "output_type": "stream",
     "text": [
      "                                                                                                     \r"
     ]
    },
    {
     "name": "stdout",
     "output_type": "stream",
     "text": [
      "Moviepy - Done !\n",
      "Moviepy - video ready 222_pocket_30.mp4\n",
      "Moviepy - Building video 222_normal_30.mp4.\n",
      "Moviepy - Writing video 222_normal_30.mp4\n",
      "\n"
     ]
    },
    {
     "name": "stderr",
     "output_type": "stream",
     "text": [
      "                                                                                                     \r"
     ]
    },
    {
     "name": "stdout",
     "output_type": "stream",
     "text": [
      "Moviepy - Done !\n",
      "Moviepy - video ready 222_normal_30.mp4\n",
      "Moviepy - Building video 223_pocket_36.mp4.\n",
      "Moviepy - Writing video 223_pocket_36.mp4\n",
      "\n"
     ]
    },
    {
     "name": "stderr",
     "output_type": "stream",
     "text": [
      "                                                                                                     \r"
     ]
    },
    {
     "name": "stdout",
     "output_type": "stream",
     "text": [
      "Moviepy - Done !\n",
      "Moviepy - video ready 223_pocket_36.mp4\n",
      "Moviepy - Building video 223_normal_36.mp4.\n",
      "Moviepy - Writing video 223_normal_36.mp4\n",
      "\n"
     ]
    },
    {
     "name": "stderr",
     "output_type": "stream",
     "text": [
      "                                                                                                     \r"
     ]
    },
    {
     "name": "stdout",
     "output_type": "stream",
     "text": [
      "Moviepy - Done !\n",
      "Moviepy - video ready 223_normal_36.mp4\n",
      "Moviepy - Building video 224_pocket_30.mp4.\n",
      "Moviepy - Writing video 224_pocket_30.mp4\n",
      "\n"
     ]
    },
    {
     "name": "stderr",
     "output_type": "stream",
     "text": [
      "                                                                                                     \r"
     ]
    },
    {
     "name": "stdout",
     "output_type": "stream",
     "text": [
      "Moviepy - Done !\n",
      "Moviepy - video ready 224_pocket_30.mp4\n",
      "Moviepy - Building video 224_normal_30.mp4.\n",
      "Moviepy - Writing video 224_normal_30.mp4\n",
      "\n"
     ]
    },
    {
     "name": "stderr",
     "output_type": "stream",
     "text": [
      "                                                                                                     \r"
     ]
    },
    {
     "name": "stdout",
     "output_type": "stream",
     "text": [
      "Moviepy - Done !\n",
      "Moviepy - video ready 224_normal_30.mp4\n",
      "Moviepy - Building video 225_pocket_36.mp4.\n",
      "Moviepy - Writing video 225_pocket_36.mp4\n",
      "\n"
     ]
    },
    {
     "name": "stderr",
     "output_type": "stream",
     "text": [
      "                                                                                                     \r"
     ]
    },
    {
     "name": "stdout",
     "output_type": "stream",
     "text": [
      "Moviepy - Done !\n",
      "Moviepy - video ready 225_pocket_36.mp4\n",
      "Moviepy - Building video 225_normal_36.mp4.\n",
      "Moviepy - Writing video 225_normal_36.mp4\n",
      "\n"
     ]
    },
    {
     "name": "stderr",
     "output_type": "stream",
     "text": [
      "                                                                                                     \r"
     ]
    },
    {
     "name": "stdout",
     "output_type": "stream",
     "text": [
      "Moviepy - Done !\n",
      "Moviepy - video ready 225_normal_36.mp4\n",
      "Moviepy - Building video 226_pocket_30.mp4.\n",
      "Moviepy - Writing video 226_pocket_30.mp4\n",
      "\n"
     ]
    },
    {
     "name": "stderr",
     "output_type": "stream",
     "text": [
      "                                                                                                     \r"
     ]
    },
    {
     "name": "stdout",
     "output_type": "stream",
     "text": [
      "Moviepy - Done !\n",
      "Moviepy - video ready 226_pocket_30.mp4\n",
      "Moviepy - Building video 226_normal_30.mp4.\n",
      "Moviepy - Writing video 226_normal_30.mp4\n",
      "\n"
     ]
    },
    {
     "name": "stderr",
     "output_type": "stream",
     "text": [
      "                                                                                                     \r"
     ]
    },
    {
     "name": "stdout",
     "output_type": "stream",
     "text": [
      "Moviepy - Done !\n",
      "Moviepy - video ready 226_normal_30.mp4\n",
      "Moviepy - Building video 227_pocket_36.mp4.\n",
      "Moviepy - Writing video 227_pocket_36.mp4\n",
      "\n"
     ]
    },
    {
     "name": "stderr",
     "output_type": "stream",
     "text": [
      "                                                                                                     \r"
     ]
    },
    {
     "name": "stdout",
     "output_type": "stream",
     "text": [
      "Moviepy - Done !\n",
      "Moviepy - video ready 227_pocket_36.mp4\n",
      "Moviepy - Building video 227_normal_36.mp4.\n",
      "Moviepy - Writing video 227_normal_36.mp4\n",
      "\n"
     ]
    },
    {
     "name": "stderr",
     "output_type": "stream",
     "text": [
      "                                                                                                     \r"
     ]
    },
    {
     "name": "stdout",
     "output_type": "stream",
     "text": [
      "Moviepy - Done !\n",
      "Moviepy - video ready 227_normal_36.mp4\n",
      "Moviepy - Building video 228_pocket_30.mp4.\n",
      "Moviepy - Writing video 228_pocket_30.mp4\n",
      "\n"
     ]
    },
    {
     "name": "stderr",
     "output_type": "stream",
     "text": [
      "                                                                                                     \r"
     ]
    },
    {
     "name": "stdout",
     "output_type": "stream",
     "text": [
      "Moviepy - Done !\n",
      "Moviepy - video ready 228_pocket_30.mp4\n",
      "Moviepy - Building video 228_normal_30.mp4.\n",
      "Moviepy - Writing video 228_normal_30.mp4\n",
      "\n"
     ]
    },
    {
     "name": "stderr",
     "output_type": "stream",
     "text": [
      "                                                                                                     \r"
     ]
    },
    {
     "name": "stdout",
     "output_type": "stream",
     "text": [
      "Moviepy - Done !\n",
      "Moviepy - video ready 228_normal_30.mp4\n",
      "Moviepy - Building video 229_pocket_36.mp4.\n",
      "Moviepy - Writing video 229_pocket_36.mp4\n",
      "\n"
     ]
    },
    {
     "name": "stderr",
     "output_type": "stream",
     "text": [
      "                                                                                                     \r"
     ]
    },
    {
     "name": "stdout",
     "output_type": "stream",
     "text": [
      "Moviepy - Done !\n",
      "Moviepy - video ready 229_pocket_36.mp4\n",
      "Moviepy - Building video 229_normal_36.mp4.\n",
      "Moviepy - Writing video 229_normal_36.mp4\n",
      "\n"
     ]
    },
    {
     "name": "stderr",
     "output_type": "stream",
     "text": [
      "                                                                                                     \r"
     ]
    },
    {
     "name": "stdout",
     "output_type": "stream",
     "text": [
      "Moviepy - Done !\n",
      "Moviepy - video ready 229_normal_36.mp4\n",
      "Moviepy - Building video 230_pocket_30.mp4.\n",
      "Moviepy - Writing video 230_pocket_30.mp4\n",
      "\n"
     ]
    },
    {
     "name": "stderr",
     "output_type": "stream",
     "text": [
      "                                                                                                     \r"
     ]
    },
    {
     "name": "stdout",
     "output_type": "stream",
     "text": [
      "Moviepy - Done !\n",
      "Moviepy - video ready 230_pocket_30.mp4\n",
      "Moviepy - Building video 230_normal_30.mp4.\n",
      "Moviepy - Writing video 230_normal_30.mp4\n",
      "\n"
     ]
    },
    {
     "name": "stderr",
     "output_type": "stream",
     "text": [
      "                                                                                                     \r"
     ]
    },
    {
     "name": "stdout",
     "output_type": "stream",
     "text": [
      "Moviepy - Done !\n",
      "Moviepy - video ready 230_normal_30.mp4\n",
      "Moviepy - Building video 231_pocket_36.mp4.\n",
      "Moviepy - Writing video 231_pocket_36.mp4\n",
      "\n"
     ]
    },
    {
     "name": "stderr",
     "output_type": "stream",
     "text": [
      "                                                                                                     \r"
     ]
    },
    {
     "name": "stdout",
     "output_type": "stream",
     "text": [
      "Moviepy - Done !\n",
      "Moviepy - video ready 231_pocket_36.mp4\n",
      "Moviepy - Building video 231_normal_36.mp4.\n",
      "Moviepy - Writing video 231_normal_36.mp4\n",
      "\n"
     ]
    },
    {
     "name": "stderr",
     "output_type": "stream",
     "text": [
      "                                                                                                     \r"
     ]
    },
    {
     "name": "stdout",
     "output_type": "stream",
     "text": [
      "Moviepy - Done !\n",
      "Moviepy - video ready 231_normal_36.mp4\n",
      "Moviepy - Building video 232_pocket_30.mp4.\n",
      "Moviepy - Writing video 232_pocket_30.mp4\n",
      "\n"
     ]
    },
    {
     "name": "stderr",
     "output_type": "stream",
     "text": [
      "                                                                                                     \r"
     ]
    },
    {
     "name": "stdout",
     "output_type": "stream",
     "text": [
      "Moviepy - Done !\n",
      "Moviepy - video ready 232_pocket_30.mp4\n",
      "Moviepy - Building video 232_normal_30.mp4.\n",
      "Moviepy - Writing video 232_normal_30.mp4\n",
      "\n"
     ]
    },
    {
     "name": "stderr",
     "output_type": "stream",
     "text": [
      "                                                                                                     \r"
     ]
    },
    {
     "name": "stdout",
     "output_type": "stream",
     "text": [
      "Moviepy - Done !\n",
      "Moviepy - video ready 232_normal_30.mp4\n",
      "Moviepy - Building video 233_pocket_36.mp4.\n",
      "Moviepy - Writing video 233_pocket_36.mp4\n",
      "\n"
     ]
    },
    {
     "name": "stderr",
     "output_type": "stream",
     "text": [
      "                                                                                                     \r"
     ]
    },
    {
     "name": "stdout",
     "output_type": "stream",
     "text": [
      "Moviepy - Done !\n",
      "Moviepy - video ready 233_pocket_36.mp4\n",
      "Moviepy - Building video 233_normal_36.mp4.\n",
      "Moviepy - Writing video 233_normal_36.mp4\n",
      "\n"
     ]
    },
    {
     "name": "stderr",
     "output_type": "stream",
     "text": [
      "                                                                                                     \r"
     ]
    },
    {
     "name": "stdout",
     "output_type": "stream",
     "text": [
      "Moviepy - Done !\n",
      "Moviepy - video ready 233_normal_36.mp4\n",
      "Moviepy - Building video 234_pocket_30.mp4.\n",
      "Moviepy - Writing video 234_pocket_30.mp4\n",
      "\n"
     ]
    },
    {
     "name": "stderr",
     "output_type": "stream",
     "text": [
      "                                                                                                     \r"
     ]
    },
    {
     "name": "stdout",
     "output_type": "stream",
     "text": [
      "Moviepy - Done !\n",
      "Moviepy - video ready 234_pocket_30.mp4\n",
      "Moviepy - Building video 234_normal_30.mp4.\n",
      "Moviepy - Writing video 234_normal_30.mp4\n",
      "\n"
     ]
    },
    {
     "name": "stderr",
     "output_type": "stream",
     "text": [
      "                                                                                                     \r"
     ]
    },
    {
     "name": "stdout",
     "output_type": "stream",
     "text": [
      "Moviepy - Done !\n",
      "Moviepy - video ready 234_normal_30.mp4\n",
      "Moviepy - Building video 235_pocket_36.mp4.\n",
      "Moviepy - Writing video 235_pocket_36.mp4\n",
      "\n"
     ]
    },
    {
     "name": "stderr",
     "output_type": "stream",
     "text": [
      "                                                                                                     \r"
     ]
    },
    {
     "name": "stdout",
     "output_type": "stream",
     "text": [
      "Moviepy - Done !\n",
      "Moviepy - video ready 235_pocket_36.mp4\n",
      "Moviepy - Building video 235_normal_36.mp4.\n",
      "Moviepy - Writing video 235_normal_36.mp4\n",
      "\n"
     ]
    },
    {
     "name": "stderr",
     "output_type": "stream",
     "text": [
      "                                                                                                     \r"
     ]
    },
    {
     "name": "stdout",
     "output_type": "stream",
     "text": [
      "Moviepy - Done !\n",
      "Moviepy - video ready 235_normal_36.mp4\n",
      "Moviepy - Building video 236_pocket_30.mp4.\n",
      "Moviepy - Writing video 236_pocket_30.mp4\n",
      "\n"
     ]
    },
    {
     "name": "stderr",
     "output_type": "stream",
     "text": [
      "                                                                                                     \r"
     ]
    },
    {
     "name": "stdout",
     "output_type": "stream",
     "text": [
      "Moviepy - Done !\n",
      "Moviepy - video ready 236_pocket_30.mp4\n",
      "Moviepy - Building video 236_normal_30.mp4.\n",
      "Moviepy - Writing video 236_normal_30.mp4\n",
      "\n"
     ]
    },
    {
     "name": "stderr",
     "output_type": "stream",
     "text": [
      "                                                                                                     \r"
     ]
    },
    {
     "name": "stdout",
     "output_type": "stream",
     "text": [
      "Moviepy - Done !\n",
      "Moviepy - video ready 236_normal_30.mp4\n",
      "Moviepy - Building video 237_pocket_36.mp4.\n",
      "Moviepy - Writing video 237_pocket_36.mp4\n",
      "\n"
     ]
    },
    {
     "name": "stderr",
     "output_type": "stream",
     "text": [
      "                                                                                                     \r"
     ]
    },
    {
     "name": "stdout",
     "output_type": "stream",
     "text": [
      "Moviepy - Done !\n",
      "Moviepy - video ready 237_pocket_36.mp4\n",
      "Moviepy - Building video 237_normal_36.mp4.\n",
      "Moviepy - Writing video 237_normal_36.mp4\n",
      "\n"
     ]
    },
    {
     "name": "stderr",
     "output_type": "stream",
     "text": [
      "                                                                                                     \r"
     ]
    },
    {
     "name": "stdout",
     "output_type": "stream",
     "text": [
      "Moviepy - Done !\n",
      "Moviepy - video ready 237_normal_36.mp4\n",
      "Moviepy - Building video 238_pocket_30.mp4.\n",
      "Moviepy - Writing video 238_pocket_30.mp4\n",
      "\n"
     ]
    },
    {
     "name": "stderr",
     "output_type": "stream",
     "text": [
      "                                                                                                     \r"
     ]
    },
    {
     "name": "stdout",
     "output_type": "stream",
     "text": [
      "Moviepy - Done !\n",
      "Moviepy - video ready 238_pocket_30.mp4\n",
      "Moviepy - Building video 238_normal_30.mp4.\n",
      "Moviepy - Writing video 238_normal_30.mp4\n",
      "\n"
     ]
    },
    {
     "name": "stderr",
     "output_type": "stream",
     "text": [
      "                                                                                                     \r"
     ]
    },
    {
     "name": "stdout",
     "output_type": "stream",
     "text": [
      "Moviepy - Done !\n",
      "Moviepy - video ready 238_normal_30.mp4\n",
      "Moviepy - Building video 239_pocket_36.mp4.\n",
      "Moviepy - Writing video 239_pocket_36.mp4\n",
      "\n"
     ]
    },
    {
     "name": "stderr",
     "output_type": "stream",
     "text": [
      "                                                                                                     \r"
     ]
    },
    {
     "name": "stdout",
     "output_type": "stream",
     "text": [
      "Moviepy - Done !\n",
      "Moviepy - video ready 239_pocket_36.mp4\n",
      "Moviepy - Building video 239_normal_36.mp4.\n",
      "Moviepy - Writing video 239_normal_36.mp4\n",
      "\n"
     ]
    },
    {
     "name": "stderr",
     "output_type": "stream",
     "text": [
      "                                                                                                     \r"
     ]
    },
    {
     "name": "stdout",
     "output_type": "stream",
     "text": [
      "Moviepy - Done !\n",
      "Moviepy - video ready 239_normal_36.mp4\n",
      "Moviepy - Building video 240_pocket_30.mp4.\n",
      "Moviepy - Writing video 240_pocket_30.mp4\n",
      "\n"
     ]
    },
    {
     "name": "stderr",
     "output_type": "stream",
     "text": [
      "                                                                                                     \r"
     ]
    },
    {
     "name": "stdout",
     "output_type": "stream",
     "text": [
      "Moviepy - Done !\n",
      "Moviepy - video ready 240_pocket_30.mp4\n",
      "Moviepy - Building video 240_normal_30.mp4.\n",
      "Moviepy - Writing video 240_normal_30.mp4\n",
      "\n"
     ]
    },
    {
     "name": "stderr",
     "output_type": "stream",
     "text": [
      "                                                                                                     \r"
     ]
    },
    {
     "name": "stdout",
     "output_type": "stream",
     "text": [
      "Moviepy - Done !\n",
      "Moviepy - video ready 240_normal_30.mp4\n",
      "Moviepy - Building video 241_pocket_36.mp4.\n",
      "Moviepy - Writing video 241_pocket_36.mp4\n",
      "\n"
     ]
    },
    {
     "name": "stderr",
     "output_type": "stream",
     "text": [
      "                                                                                                     \r"
     ]
    },
    {
     "name": "stdout",
     "output_type": "stream",
     "text": [
      "Moviepy - Done !\n",
      "Moviepy - video ready 241_pocket_36.mp4\n",
      "Moviepy - Building video 241_normal_36.mp4.\n",
      "Moviepy - Writing video 241_normal_36.mp4\n",
      "\n"
     ]
    },
    {
     "name": "stderr",
     "output_type": "stream",
     "text": [
      "                                                                                                     \r"
     ]
    },
    {
     "name": "stdout",
     "output_type": "stream",
     "text": [
      "Moviepy - Done !\n",
      "Moviepy - video ready 241_normal_36.mp4\n",
      "Moviepy - Building video 242_pocket_30.mp4.\n",
      "Moviepy - Writing video 242_pocket_30.mp4\n",
      "\n"
     ]
    },
    {
     "name": "stderr",
     "output_type": "stream",
     "text": [
      "                                                                                                     \r"
     ]
    },
    {
     "name": "stdout",
     "output_type": "stream",
     "text": [
      "Moviepy - Done !\n",
      "Moviepy - video ready 242_pocket_30.mp4\n",
      "Moviepy - Building video 242_normal_30.mp4.\n",
      "Moviepy - Writing video 242_normal_30.mp4\n",
      "\n"
     ]
    },
    {
     "name": "stderr",
     "output_type": "stream",
     "text": [
      "                                                                                                     \r"
     ]
    },
    {
     "name": "stdout",
     "output_type": "stream",
     "text": [
      "Moviepy - Done !\n",
      "Moviepy - video ready 242_normal_30.mp4\n",
      "Moviepy - Building video 243_pocket_36.mp4.\n",
      "Moviepy - Writing video 243_pocket_36.mp4\n",
      "\n"
     ]
    },
    {
     "name": "stderr",
     "output_type": "stream",
     "text": [
      "                                                                                                     \r"
     ]
    },
    {
     "name": "stdout",
     "output_type": "stream",
     "text": [
      "Moviepy - Done !\n",
      "Moviepy - video ready 243_pocket_36.mp4\n",
      "Moviepy - Building video 243_normal_36.mp4.\n",
      "Moviepy - Writing video 243_normal_36.mp4\n",
      "\n"
     ]
    },
    {
     "name": "stderr",
     "output_type": "stream",
     "text": [
      "                                                                                                     \r"
     ]
    },
    {
     "name": "stdout",
     "output_type": "stream",
     "text": [
      "Moviepy - Done !\n",
      "Moviepy - video ready 243_normal_36.mp4\n",
      "Moviepy - Building video 244_pocket_30.mp4.\n",
      "Moviepy - Writing video 244_pocket_30.mp4\n",
      "\n"
     ]
    },
    {
     "name": "stderr",
     "output_type": "stream",
     "text": [
      "                                                                                                     \r"
     ]
    },
    {
     "name": "stdout",
     "output_type": "stream",
     "text": [
      "Moviepy - Done !\n",
      "Moviepy - video ready 244_pocket_30.mp4\n",
      "Moviepy - Building video 244_normal_30.mp4.\n",
      "Moviepy - Writing video 244_normal_30.mp4\n",
      "\n"
     ]
    },
    {
     "name": "stderr",
     "output_type": "stream",
     "text": [
      "                                                                                                     \r"
     ]
    },
    {
     "name": "stdout",
     "output_type": "stream",
     "text": [
      "Moviepy - Done !\n",
      "Moviepy - video ready 244_normal_30.mp4\n",
      "Moviepy - Building video 245_pocket_36.mp4.\n",
      "Moviepy - Writing video 245_pocket_36.mp4\n",
      "\n"
     ]
    },
    {
     "name": "stderr",
     "output_type": "stream",
     "text": [
      "                                                                                                     \r"
     ]
    },
    {
     "name": "stdout",
     "output_type": "stream",
     "text": [
      "Moviepy - Done !\n",
      "Moviepy - video ready 245_pocket_36.mp4\n",
      "Moviepy - Building video 245_normal_36.mp4.\n",
      "Moviepy - Writing video 245_normal_36.mp4\n",
      "\n"
     ]
    },
    {
     "name": "stderr",
     "output_type": "stream",
     "text": [
      "                                                                                                     \r"
     ]
    },
    {
     "name": "stdout",
     "output_type": "stream",
     "text": [
      "Moviepy - Done !\n",
      "Moviepy - video ready 245_normal_36.mp4\n",
      "Moviepy - Building video 246_pocket_30.mp4.\n",
      "Moviepy - Writing video 246_pocket_30.mp4\n",
      "\n"
     ]
    },
    {
     "name": "stderr",
     "output_type": "stream",
     "text": [
      "                                                                                                     \r"
     ]
    },
    {
     "name": "stdout",
     "output_type": "stream",
     "text": [
      "Moviepy - Done !\n",
      "Moviepy - video ready 246_pocket_30.mp4\n",
      "Moviepy - Building video 246_normal_30.mp4.\n",
      "Moviepy - Writing video 246_normal_30.mp4\n",
      "\n"
     ]
    },
    {
     "name": "stderr",
     "output_type": "stream",
     "text": [
      "                                                                                                     \r"
     ]
    },
    {
     "name": "stdout",
     "output_type": "stream",
     "text": [
      "Moviepy - Done !\n",
      "Moviepy - video ready 246_normal_30.mp4\n",
      "Moviepy - Building video 247_pocket_36.mp4.\n",
      "Moviepy - Writing video 247_pocket_36.mp4\n",
      "\n"
     ]
    },
    {
     "name": "stderr",
     "output_type": "stream",
     "text": [
      "                                                                                                     \r"
     ]
    },
    {
     "name": "stdout",
     "output_type": "stream",
     "text": [
      "Moviepy - Done !\n",
      "Moviepy - video ready 247_pocket_36.mp4\n",
      "Moviepy - Building video 247_normal_36.mp4.\n",
      "Moviepy - Writing video 247_normal_36.mp4\n",
      "\n"
     ]
    },
    {
     "name": "stderr",
     "output_type": "stream",
     "text": [
      "                                                                                                     \r"
     ]
    },
    {
     "name": "stdout",
     "output_type": "stream",
     "text": [
      "Moviepy - Done !\n",
      "Moviepy - video ready 247_normal_36.mp4\n",
      "Moviepy - Building video 248_pocket_30.mp4.\n",
      "Moviepy - Writing video 248_pocket_30.mp4\n",
      "\n"
     ]
    },
    {
     "name": "stderr",
     "output_type": "stream",
     "text": [
      "                                                                                                     \r"
     ]
    },
    {
     "name": "stdout",
     "output_type": "stream",
     "text": [
      "Moviepy - Done !\n",
      "Moviepy - video ready 248_pocket_30.mp4\n",
      "Moviepy - Building video 248_normal_30.mp4.\n",
      "Moviepy - Writing video 248_normal_30.mp4\n",
      "\n"
     ]
    },
    {
     "name": "stderr",
     "output_type": "stream",
     "text": [
      "                                                                                                     \r"
     ]
    },
    {
     "name": "stdout",
     "output_type": "stream",
     "text": [
      "Moviepy - Done !\n",
      "Moviepy - video ready 248_normal_30.mp4\n"
     ]
    }
   ],
   "source": [
    "for path in path1:    \n",
    "    output1 = str(no)+'_pocket_36.mp4'\n",
    "    make_clip_video(path, output1, 22, 34)\n",
    "    output2 = str(no)+'_normal_36.mp4'\n",
    "    make_clip_video(path, output2, 4, 16)\n",
    "    no = no+1\n",
    "    output3 = str(no)+'_pocket_30.mp4'\n",
    "    make_clip_video(path, output3, 41, 51)\n",
    "    output4 = str(no)+'_normal_30.mp4'\n",
    "    make_clip_video(path, output4, 11, 21)\n",
    "    no = no+1"
   ]
  },
  {
   "cell_type": "code",
   "execution_count": 9,
   "metadata": {},
   "outputs": [
    {
     "name": "stdout",
     "output_type": "stream",
     "text": [
      "['../datas/dataset_aihub_ksw/raw/re/C_3_12_14_BU_SMC_07-27_13-13-44_CA_RGB_DF2_F2.mp4', '../datas/dataset_aihub_ksw/raw/re/C_3_12_14_BU_SMC_07-27_13-13-46_CC_RGB_DF2_F2.mp4', '../datas/dataset_aihub_ksw/raw/re/C_3_12_14_BU_SMC_07-27_13-13-47_CB_RGB_DF2_F2.mp4']\n"
     ]
    }
   ],
   "source": [
    "path2 = sorted(glob.glob('../datas/dataset_aihub_ksw/raw/re/C_3_12_14_BU_SMC_07-27*.mp4'))\n",
    "print(path2)"
   ]
  },
  {
   "cell_type": "code",
   "execution_count": 10,
   "metadata": {
    "scrolled": true
   },
   "outputs": [
    {
     "name": "stdout",
     "output_type": "stream",
     "text": [
      "Moviepy - Building video 249_pocket_36.mp4.\n",
      "Moviepy - Writing video 249_pocket_36.mp4\n",
      "\n"
     ]
    },
    {
     "name": "stderr",
     "output_type": "stream",
     "text": [
      "                                                                                                     \r"
     ]
    },
    {
     "name": "stdout",
     "output_type": "stream",
     "text": [
      "Moviepy - Done !\n",
      "Moviepy - video ready 249_pocket_36.mp4\n",
      "Moviepy - Building video 249_normal_36.mp4.\n",
      "Moviepy - Writing video 249_normal_36.mp4\n",
      "\n"
     ]
    },
    {
     "name": "stderr",
     "output_type": "stream",
     "text": [
      "                                                                                                     \r"
     ]
    },
    {
     "name": "stdout",
     "output_type": "stream",
     "text": [
      "Moviepy - Done !\n",
      "Moviepy - video ready 249_normal_36.mp4\n",
      "Moviepy - Building video 250_pocket_30.mp4.\n",
      "Moviepy - Writing video 250_pocket_30.mp4\n",
      "\n"
     ]
    },
    {
     "name": "stderr",
     "output_type": "stream",
     "text": [
      "                                                                                                     \r"
     ]
    },
    {
     "name": "stdout",
     "output_type": "stream",
     "text": [
      "Moviepy - Done !\n",
      "Moviepy - video ready 250_pocket_30.mp4\n",
      "Moviepy - Building video 250_normal_30.mp4.\n",
      "Moviepy - Writing video 250_normal_30.mp4\n",
      "\n"
     ]
    },
    {
     "name": "stderr",
     "output_type": "stream",
     "text": [
      "                                                                                                     \r"
     ]
    },
    {
     "name": "stdout",
     "output_type": "stream",
     "text": [
      "Moviepy - Done !\n",
      "Moviepy - video ready 250_normal_30.mp4\n",
      "Moviepy - Building video 251_pocket_36.mp4.\n",
      "Moviepy - Writing video 251_pocket_36.mp4\n",
      "\n"
     ]
    },
    {
     "name": "stderr",
     "output_type": "stream",
     "text": [
      "                                                                                                     \r"
     ]
    },
    {
     "name": "stdout",
     "output_type": "stream",
     "text": [
      "Moviepy - Done !\n",
      "Moviepy - video ready 251_pocket_36.mp4\n",
      "Moviepy - Building video 251_normal_36.mp4.\n",
      "Moviepy - Writing video 251_normal_36.mp4\n",
      "\n"
     ]
    },
    {
     "name": "stderr",
     "output_type": "stream",
     "text": [
      "                                                                                                     \r"
     ]
    },
    {
     "name": "stdout",
     "output_type": "stream",
     "text": [
      "Moviepy - Done !\n",
      "Moviepy - video ready 251_normal_36.mp4\n",
      "Moviepy - Building video 252_pocket_30.mp4.\n",
      "Moviepy - Writing video 252_pocket_30.mp4\n",
      "\n"
     ]
    },
    {
     "name": "stderr",
     "output_type": "stream",
     "text": [
      "                                                                                                     \r"
     ]
    },
    {
     "name": "stdout",
     "output_type": "stream",
     "text": [
      "Moviepy - Done !\n",
      "Moviepy - video ready 252_pocket_30.mp4\n",
      "Moviepy - Building video 252_normal_30.mp4.\n",
      "Moviepy - Writing video 252_normal_30.mp4\n",
      "\n"
     ]
    },
    {
     "name": "stderr",
     "output_type": "stream",
     "text": [
      "                                                                                                     \r"
     ]
    },
    {
     "name": "stdout",
     "output_type": "stream",
     "text": [
      "Moviepy - Done !\n",
      "Moviepy - video ready 252_normal_30.mp4\n",
      "Moviepy - Building video 253_pocket_36.mp4.\n",
      "Moviepy - Writing video 253_pocket_36.mp4\n",
      "\n"
     ]
    },
    {
     "name": "stderr",
     "output_type": "stream",
     "text": [
      "                                                                                                     \r"
     ]
    },
    {
     "name": "stdout",
     "output_type": "stream",
     "text": [
      "Moviepy - Done !\n",
      "Moviepy - video ready 253_pocket_36.mp4\n",
      "Moviepy - Building video 253_normal_36.mp4.\n",
      "Moviepy - Writing video 253_normal_36.mp4\n",
      "\n"
     ]
    },
    {
     "name": "stderr",
     "output_type": "stream",
     "text": [
      "                                                                                                     \r"
     ]
    },
    {
     "name": "stdout",
     "output_type": "stream",
     "text": [
      "Moviepy - Done !\n",
      "Moviepy - video ready 253_normal_36.mp4\n",
      "Moviepy - Building video 254_pocket_30.mp4.\n",
      "Moviepy - Writing video 254_pocket_30.mp4\n",
      "\n"
     ]
    },
    {
     "name": "stderr",
     "output_type": "stream",
     "text": [
      "                                                                                                     \r"
     ]
    },
    {
     "name": "stdout",
     "output_type": "stream",
     "text": [
      "Moviepy - Done !\n",
      "Moviepy - video ready 254_pocket_30.mp4\n",
      "Moviepy - Building video 254_normal_30.mp4.\n",
      "Moviepy - Writing video 254_normal_30.mp4\n",
      "\n"
     ]
    },
    {
     "name": "stderr",
     "output_type": "stream",
     "text": [
      "                                                                                                     \r"
     ]
    },
    {
     "name": "stdout",
     "output_type": "stream",
     "text": [
      "Moviepy - Done !\n",
      "Moviepy - video ready 254_normal_30.mp4\n"
     ]
    }
   ],
   "source": [
    "for path in path2:\n",
    "    output1 = str(no)+'_pocket_36.mp4'\n",
    "    make_clip_video(path, output1, 34, 46)\n",
    "    output2 = str(no)+'_normal_36.mp4'\n",
    "    make_clip_video(path, output2, 4, 16)\n",
    "    no = no+1\n",
    "    output3 = str(no)+'_pocket_30.mp4'\n",
    "    make_clip_video(path, output3, 41, 51)\n",
    "    output4 = str(no)+'_normal_30.mp4'\n",
    "    make_clip_video(path, output4, 11, 21)\n",
    "    no = no+1"
   ]
  },
  {
   "cell_type": "code",
   "execution_count": 11,
   "metadata": {},
   "outputs": [
    {
     "name": "stdout",
     "output_type": "stream",
     "text": [
      "['../datas/dataset_aihub_ksw/raw/re/C_3_12_14_BU_SYA_09-24_14-01-32_CA_RGB_DF2_F2.mp4', '../datas/dataset_aihub_ksw/raw/re/C_3_12_14_BU_SYA_09-24_14-01-32_CB_RGB_DF2_F2.mp4', '../datas/dataset_aihub_ksw/raw/re/C_3_12_14_BU_SYA_09-24_14-01-32_CC_RGB_DF2_F2.mp4', '../datas/dataset_aihub_ksw/raw/re/C_3_12_14_BU_SYA_09-24_14-01-32_CD_RGB_DF2_F2.mp4']\n"
     ]
    }
   ],
   "source": [
    "path3 = sorted(glob.glob('../datas/dataset_aihub_ksw/raw/re/C_3_12_14_BU_SYA_09-24*.mp4'))\n",
    "print(path3)"
   ]
  },
  {
   "cell_type": "code",
   "execution_count": 12,
   "metadata": {
    "scrolled": true
   },
   "outputs": [
    {
     "name": "stdout",
     "output_type": "stream",
     "text": [
      "Moviepy - Building video 255_pocket_36.mp4.\n",
      "Moviepy - Writing video 255_pocket_36.mp4\n",
      "\n"
     ]
    },
    {
     "name": "stderr",
     "output_type": "stream",
     "text": [
      "                                                                                                     \r"
     ]
    },
    {
     "name": "stdout",
     "output_type": "stream",
     "text": [
      "Moviepy - Done !\n",
      "Moviepy - video ready 255_pocket_36.mp4\n",
      "Moviepy - Building video 255_normal_36.mp4.\n",
      "Moviepy - Writing video 255_normal_36.mp4\n",
      "\n"
     ]
    },
    {
     "name": "stderr",
     "output_type": "stream",
     "text": [
      "                                                                                                     \r"
     ]
    },
    {
     "name": "stdout",
     "output_type": "stream",
     "text": [
      "Moviepy - Done !\n",
      "Moviepy - video ready 255_normal_36.mp4\n",
      "Moviepy - Building video 256_pocket_30.mp4.\n",
      "Moviepy - Writing video 256_pocket_30.mp4\n",
      "\n"
     ]
    },
    {
     "name": "stderr",
     "output_type": "stream",
     "text": [
      "                                                                                                     \r"
     ]
    },
    {
     "name": "stdout",
     "output_type": "stream",
     "text": [
      "Moviepy - Done !\n",
      "Moviepy - video ready 256_pocket_30.mp4\n",
      "Moviepy - Building video 256_normal_30.mp4.\n",
      "Moviepy - Writing video 256_normal_30.mp4\n",
      "\n"
     ]
    },
    {
     "name": "stderr",
     "output_type": "stream",
     "text": [
      "                                                                                                     \r"
     ]
    },
    {
     "name": "stdout",
     "output_type": "stream",
     "text": [
      "Moviepy - Done !\n",
      "Moviepy - video ready 256_normal_30.mp4\n",
      "Moviepy - Building video 257_pocket_36.mp4.\n",
      "Moviepy - Writing video 257_pocket_36.mp4\n",
      "\n"
     ]
    },
    {
     "name": "stderr",
     "output_type": "stream",
     "text": [
      "                                                                                                     \r"
     ]
    },
    {
     "name": "stdout",
     "output_type": "stream",
     "text": [
      "Moviepy - Done !\n",
      "Moviepy - video ready 257_pocket_36.mp4\n",
      "Moviepy - Building video 257_normal_36.mp4.\n",
      "Moviepy - Writing video 257_normal_36.mp4\n",
      "\n"
     ]
    },
    {
     "name": "stderr",
     "output_type": "stream",
     "text": [
      "                                                                                                     \r"
     ]
    },
    {
     "name": "stdout",
     "output_type": "stream",
     "text": [
      "Moviepy - Done !\n",
      "Moviepy - video ready 257_normal_36.mp4\n",
      "Moviepy - Building video 258_pocket_30.mp4.\n",
      "Moviepy - Writing video 258_pocket_30.mp4\n",
      "\n"
     ]
    },
    {
     "name": "stderr",
     "output_type": "stream",
     "text": [
      "                                                                                                     \r"
     ]
    },
    {
     "name": "stdout",
     "output_type": "stream",
     "text": [
      "Moviepy - Done !\n",
      "Moviepy - video ready 258_pocket_30.mp4\n",
      "Moviepy - Building video 258_normal_30.mp4.\n",
      "Moviepy - Writing video 258_normal_30.mp4\n",
      "\n"
     ]
    },
    {
     "name": "stderr",
     "output_type": "stream",
     "text": [
      "                                                                                                     \r"
     ]
    },
    {
     "name": "stdout",
     "output_type": "stream",
     "text": [
      "Moviepy - Done !\n",
      "Moviepy - video ready 258_normal_30.mp4\n",
      "Moviepy - Building video 259_pocket_36.mp4.\n",
      "Moviepy - Writing video 259_pocket_36.mp4\n",
      "\n"
     ]
    },
    {
     "name": "stderr",
     "output_type": "stream",
     "text": [
      "                                                                                                     \r"
     ]
    },
    {
     "name": "stdout",
     "output_type": "stream",
     "text": [
      "Moviepy - Done !\n",
      "Moviepy - video ready 259_pocket_36.mp4\n",
      "Moviepy - Building video 259_normal_36.mp4.\n",
      "Moviepy - Writing video 259_normal_36.mp4\n",
      "\n"
     ]
    },
    {
     "name": "stderr",
     "output_type": "stream",
     "text": [
      "                                                                                                     \r"
     ]
    },
    {
     "name": "stdout",
     "output_type": "stream",
     "text": [
      "Moviepy - Done !\n",
      "Moviepy - video ready 259_normal_36.mp4\n",
      "Moviepy - Building video 260_pocket_30.mp4.\n",
      "Moviepy - Writing video 260_pocket_30.mp4\n",
      "\n"
     ]
    },
    {
     "name": "stderr",
     "output_type": "stream",
     "text": [
      "                                                                                                     \r"
     ]
    },
    {
     "name": "stdout",
     "output_type": "stream",
     "text": [
      "Moviepy - Done !\n",
      "Moviepy - video ready 260_pocket_30.mp4\n",
      "Moviepy - Building video 260_normal_30.mp4.\n",
      "Moviepy - Writing video 260_normal_30.mp4\n",
      "\n"
     ]
    },
    {
     "name": "stderr",
     "output_type": "stream",
     "text": [
      "                                                                                                     \r"
     ]
    },
    {
     "name": "stdout",
     "output_type": "stream",
     "text": [
      "Moviepy - Done !\n",
      "Moviepy - video ready 260_normal_30.mp4\n",
      "Moviepy - Building video 261_pocket_36.mp4.\n",
      "Moviepy - Writing video 261_pocket_36.mp4\n",
      "\n"
     ]
    },
    {
     "name": "stderr",
     "output_type": "stream",
     "text": [
      "                                                                                                     \r"
     ]
    },
    {
     "name": "stdout",
     "output_type": "stream",
     "text": [
      "Moviepy - Done !\n",
      "Moviepy - video ready 261_pocket_36.mp4\n",
      "Moviepy - Building video 261_normal_36.mp4.\n",
      "Moviepy - Writing video 261_normal_36.mp4\n",
      "\n"
     ]
    },
    {
     "name": "stderr",
     "output_type": "stream",
     "text": [
      "                                                                                                     \r"
     ]
    },
    {
     "name": "stdout",
     "output_type": "stream",
     "text": [
      "Moviepy - Done !\n",
      "Moviepy - video ready 261_normal_36.mp4\n",
      "Moviepy - Building video 262_pocket_30.mp4.\n",
      "Moviepy - Writing video 262_pocket_30.mp4\n",
      "\n"
     ]
    },
    {
     "name": "stderr",
     "output_type": "stream",
     "text": [
      "                                                                                                     \r"
     ]
    },
    {
     "name": "stdout",
     "output_type": "stream",
     "text": [
      "Moviepy - Done !\n",
      "Moviepy - video ready 262_pocket_30.mp4\n",
      "Moviepy - Building video 262_normal_30.mp4.\n",
      "Moviepy - Writing video 262_normal_30.mp4\n",
      "\n"
     ]
    },
    {
     "name": "stderr",
     "output_type": "stream",
     "text": [
      "                                                                                                     \r"
     ]
    },
    {
     "name": "stdout",
     "output_type": "stream",
     "text": [
      "Moviepy - Done !\n",
      "Moviepy - video ready 262_normal_30.mp4\n"
     ]
    }
   ],
   "source": [
    "for path in path3:\n",
    "    output1 = str(no)+'_pocket_36.mp4'\n",
    "    make_clip_video(path, output1, 27, 39)\n",
    "    output2 = str(no)+'_normal_36.mp4'\n",
    "    make_clip_video(path, output2, 4, 16)\n",
    "    no = no+1\n",
    "    output3 = str(no)+'_pocket_30.mp4'\n",
    "    make_clip_video(path, output3, 41, 51)\n",
    "    output4 = str(no)+'_normal_30.mp4'\n",
    "    make_clip_video(path, output4, 11, 21)\n",
    "    no = no+1"
   ]
  },
  {
   "cell_type": "code",
   "execution_count": 13,
   "metadata": {},
   "outputs": [
    {
     "name": "stdout",
     "output_type": "stream",
     "text": [
      "['../datas/dataset_aihub_ksw/raw/re/C_3_12_15_BU_DYA_07-31_10-53-29_CA_RGB_DF2_M3.mp4', '../datas/dataset_aihub_ksw/raw/re/C_3_12_15_BU_DYA_07-31_10-53-32_CB_RGB_DF2_M3.mp4', '../datas/dataset_aihub_ksw/raw/re/C_3_12_15_BU_DYA_07-31_10-53-32_CC_RGB_DF2_M3.mp4']\n"
     ]
    }
   ],
   "source": [
    "path4 = sorted(glob.glob('../datas/dataset_aihub_ksw/raw/re/C_3_12_15_BU_DYA_07-31*.mp4'))\n",
    "print(path4)"
   ]
  },
  {
   "cell_type": "code",
   "execution_count": 14,
   "metadata": {
    "scrolled": true
   },
   "outputs": [
    {
     "name": "stdout",
     "output_type": "stream",
     "text": [
      "Moviepy - Building video 263_pocket_36.mp4.\n",
      "Moviepy - Writing video 263_pocket_36.mp4\n",
      "\n"
     ]
    },
    {
     "name": "stderr",
     "output_type": "stream",
     "text": [
      "                                                                                                     \r"
     ]
    },
    {
     "name": "stdout",
     "output_type": "stream",
     "text": [
      "Moviepy - Done !\n",
      "Moviepy - video ready 263_pocket_36.mp4\n",
      "Moviepy - Building video 263_normal_36.mp4.\n",
      "Moviepy - Writing video 263_normal_36.mp4\n",
      "\n"
     ]
    },
    {
     "name": "stderr",
     "output_type": "stream",
     "text": [
      "                                                                                                     \r"
     ]
    },
    {
     "name": "stdout",
     "output_type": "stream",
     "text": [
      "Moviepy - Done !\n",
      "Moviepy - video ready 263_normal_36.mp4\n",
      "Moviepy - Building video 264_pocket_30.mp4.\n",
      "Moviepy - Writing video 264_pocket_30.mp4\n",
      "\n"
     ]
    },
    {
     "name": "stderr",
     "output_type": "stream",
     "text": [
      "                                                                                                     \r"
     ]
    },
    {
     "name": "stdout",
     "output_type": "stream",
     "text": [
      "Moviepy - Done !\n",
      "Moviepy - video ready 264_pocket_30.mp4\n",
      "Moviepy - Building video 264_normal_30.mp4.\n",
      "Moviepy - Writing video 264_normal_30.mp4\n",
      "\n"
     ]
    },
    {
     "name": "stderr",
     "output_type": "stream",
     "text": [
      "                                                                                                     \r"
     ]
    },
    {
     "name": "stdout",
     "output_type": "stream",
     "text": [
      "Moviepy - Done !\n",
      "Moviepy - video ready 264_normal_30.mp4\n",
      "Moviepy - Building video 265_pocket_36.mp4.\n",
      "Moviepy - Writing video 265_pocket_36.mp4\n",
      "\n"
     ]
    },
    {
     "name": "stderr",
     "output_type": "stream",
     "text": [
      "                                                                                                     \r"
     ]
    },
    {
     "name": "stdout",
     "output_type": "stream",
     "text": [
      "Moviepy - Done !\n",
      "Moviepy - video ready 265_pocket_36.mp4\n",
      "Moviepy - Building video 265_normal_36.mp4.\n",
      "Moviepy - Writing video 265_normal_36.mp4\n",
      "\n"
     ]
    },
    {
     "name": "stderr",
     "output_type": "stream",
     "text": [
      "                                                                                                     \r"
     ]
    },
    {
     "name": "stdout",
     "output_type": "stream",
     "text": [
      "Moviepy - Done !\n",
      "Moviepy - video ready 265_normal_36.mp4\n",
      "Moviepy - Building video 266_pocket_30.mp4.\n",
      "Moviepy - Writing video 266_pocket_30.mp4\n",
      "\n"
     ]
    },
    {
     "name": "stderr",
     "output_type": "stream",
     "text": [
      "                                                                                                     \r"
     ]
    },
    {
     "name": "stdout",
     "output_type": "stream",
     "text": [
      "Moviepy - Done !\n",
      "Moviepy - video ready 266_pocket_30.mp4\n",
      "Moviepy - Building video 266_normal_30.mp4.\n",
      "Moviepy - Writing video 266_normal_30.mp4\n",
      "\n"
     ]
    },
    {
     "name": "stderr",
     "output_type": "stream",
     "text": [
      "                                                                                                     \r"
     ]
    },
    {
     "name": "stdout",
     "output_type": "stream",
     "text": [
      "Moviepy - Done !\n",
      "Moviepy - video ready 266_normal_30.mp4\n",
      "Moviepy - Building video 267_pocket_36.mp4.\n",
      "Moviepy - Writing video 267_pocket_36.mp4\n",
      "\n"
     ]
    },
    {
     "name": "stderr",
     "output_type": "stream",
     "text": [
      "                                                                                                     \r"
     ]
    },
    {
     "name": "stdout",
     "output_type": "stream",
     "text": [
      "Moviepy - Done !\n",
      "Moviepy - video ready 267_pocket_36.mp4\n",
      "Moviepy - Building video 267_normal_36.mp4.\n",
      "Moviepy - Writing video 267_normal_36.mp4\n",
      "\n"
     ]
    },
    {
     "name": "stderr",
     "output_type": "stream",
     "text": [
      "                                                                                                     \r"
     ]
    },
    {
     "name": "stdout",
     "output_type": "stream",
     "text": [
      "Moviepy - Done !\n",
      "Moviepy - video ready 267_normal_36.mp4\n",
      "Moviepy - Building video 268_pocket_30.mp4.\n",
      "Moviepy - Writing video 268_pocket_30.mp4\n",
      "\n"
     ]
    },
    {
     "name": "stderr",
     "output_type": "stream",
     "text": [
      "                                                                                                     \r"
     ]
    },
    {
     "name": "stdout",
     "output_type": "stream",
     "text": [
      "Moviepy - Done !\n",
      "Moviepy - video ready 268_pocket_30.mp4\n",
      "Moviepy - Building video 268_normal_30.mp4.\n",
      "Moviepy - Writing video 268_normal_30.mp4\n",
      "\n"
     ]
    },
    {
     "name": "stderr",
     "output_type": "stream",
     "text": [
      "                                                                                                     \r"
     ]
    },
    {
     "name": "stdout",
     "output_type": "stream",
     "text": [
      "Moviepy - Done !\n",
      "Moviepy - video ready 268_normal_30.mp4\n"
     ]
    }
   ],
   "source": [
    "for path in path4:\n",
    "    output1 = str(no)+'_pocket_36.mp4'\n",
    "    make_clip_video(path, output1, 27, 39)\n",
    "    output2 = str(no)+'_normal_36.mp4'\n",
    "    make_clip_video(path, output2, 4, 16)\n",
    "    no = no+1\n",
    "    output3 = str(no)+'_pocket_30.mp4'\n",
    "    make_clip_video(path, output3, 50, 60)\n",
    "    output4 = str(no)+'_normal_30.mp4'\n",
    "    make_clip_video(path, output4, 11, 21)\n",
    "    no = no+1"
   ]
  },
  {
   "cell_type": "code",
   "execution_count": 15,
   "metadata": {},
   "outputs": [
    {
     "name": "stdout",
     "output_type": "stream",
     "text": [
      "['../datas/dataset_aihub_ksw/raw/re/C_3_12_16_BU_DYA_07-31_10-55-31_CA_RGB_DF2_M3.mp4', '../datas/dataset_aihub_ksw/raw/re/C_3_12_16_BU_DYA_07-31_10-55-33_CC_RGB_DF2_M3.mp4', '../datas/dataset_aihub_ksw/raw/re/C_3_12_16_BU_DYA_07-31_10-55-34_CB_RGB_DF2_M3.mp4']\n"
     ]
    }
   ],
   "source": [
    "path5 = sorted(glob.glob('../datas/dataset_aihub_ksw/raw/re/C_3_12_16_BU_DYA_07-31*.mp4'))\n",
    "print(path5)"
   ]
  },
  {
   "cell_type": "code",
   "execution_count": 16,
   "metadata": {
    "scrolled": true
   },
   "outputs": [
    {
     "name": "stdout",
     "output_type": "stream",
     "text": [
      "Moviepy - Building video 269_pocket_36.mp4.\n",
      "Moviepy - Writing video 269_pocket_36.mp4\n",
      "\n"
     ]
    },
    {
     "name": "stderr",
     "output_type": "stream",
     "text": [
      "                                                                                                     \r"
     ]
    },
    {
     "name": "stdout",
     "output_type": "stream",
     "text": [
      "Moviepy - Done !\n",
      "Moviepy - video ready 269_pocket_36.mp4\n",
      "Moviepy - Building video 269_normal_36.mp4.\n",
      "Moviepy - Writing video 269_normal_36.mp4\n",
      "\n"
     ]
    },
    {
     "name": "stderr",
     "output_type": "stream",
     "text": [
      "                                                                                                     \r"
     ]
    },
    {
     "name": "stdout",
     "output_type": "stream",
     "text": [
      "Moviepy - Done !\n",
      "Moviepy - video ready 269_normal_36.mp4\n",
      "Moviepy - Building video 270_pocket_30.mp4.\n",
      "Moviepy - Writing video 270_pocket_30.mp4\n",
      "\n"
     ]
    },
    {
     "name": "stderr",
     "output_type": "stream",
     "text": [
      "                                                                                                     \r"
     ]
    },
    {
     "name": "stdout",
     "output_type": "stream",
     "text": [
      "Moviepy - Done !\n",
      "Moviepy - video ready 270_pocket_30.mp4\n",
      "Moviepy - Building video 270_normal_30.mp4.\n",
      "Moviepy - Writing video 270_normal_30.mp4\n",
      "\n"
     ]
    },
    {
     "name": "stderr",
     "output_type": "stream",
     "text": [
      "                                                                                                     \r"
     ]
    },
    {
     "name": "stdout",
     "output_type": "stream",
     "text": [
      "Moviepy - Done !\n",
      "Moviepy - video ready 270_normal_30.mp4\n",
      "Moviepy - Building video 271_pocket_36.mp4.\n",
      "Moviepy - Writing video 271_pocket_36.mp4\n",
      "\n"
     ]
    },
    {
     "name": "stderr",
     "output_type": "stream",
     "text": [
      "                                                                                                     \r"
     ]
    },
    {
     "name": "stdout",
     "output_type": "stream",
     "text": [
      "Moviepy - Done !\n",
      "Moviepy - video ready 271_pocket_36.mp4\n",
      "Moviepy - Building video 271_normal_36.mp4.\n",
      "Moviepy - Writing video 271_normal_36.mp4\n",
      "\n"
     ]
    },
    {
     "name": "stderr",
     "output_type": "stream",
     "text": [
      "                                                                                                     \r"
     ]
    },
    {
     "name": "stdout",
     "output_type": "stream",
     "text": [
      "Moviepy - Done !\n",
      "Moviepy - video ready 271_normal_36.mp4\n",
      "Moviepy - Building video 272_pocket_30.mp4.\n",
      "Moviepy - Writing video 272_pocket_30.mp4\n",
      "\n"
     ]
    },
    {
     "name": "stderr",
     "output_type": "stream",
     "text": [
      "                                                                                                     \r"
     ]
    },
    {
     "name": "stdout",
     "output_type": "stream",
     "text": [
      "Moviepy - Done !\n",
      "Moviepy - video ready 272_pocket_30.mp4\n",
      "Moviepy - Building video 272_normal_30.mp4.\n",
      "Moviepy - Writing video 272_normal_30.mp4\n",
      "\n"
     ]
    },
    {
     "name": "stderr",
     "output_type": "stream",
     "text": [
      "                                                                                                     \r"
     ]
    },
    {
     "name": "stdout",
     "output_type": "stream",
     "text": [
      "Moviepy - Done !\n",
      "Moviepy - video ready 272_normal_30.mp4\n",
      "Moviepy - Building video 273_pocket_36.mp4.\n",
      "Moviepy - Writing video 273_pocket_36.mp4\n",
      "\n"
     ]
    },
    {
     "name": "stderr",
     "output_type": "stream",
     "text": [
      "                                                                                                     \r"
     ]
    },
    {
     "name": "stdout",
     "output_type": "stream",
     "text": [
      "Moviepy - Done !\n",
      "Moviepy - video ready 273_pocket_36.mp4\n",
      "Moviepy - Building video 273_normal_36.mp4.\n",
      "Moviepy - Writing video 273_normal_36.mp4\n",
      "\n"
     ]
    },
    {
     "name": "stderr",
     "output_type": "stream",
     "text": [
      "                                                                                                     \r"
     ]
    },
    {
     "name": "stdout",
     "output_type": "stream",
     "text": [
      "Moviepy - Done !\n",
      "Moviepy - video ready 273_normal_36.mp4\n",
      "Moviepy - Building video 274_pocket_30.mp4.\n",
      "Moviepy - Writing video 274_pocket_30.mp4\n",
      "\n"
     ]
    },
    {
     "name": "stderr",
     "output_type": "stream",
     "text": [
      "                                                                                                     \r"
     ]
    },
    {
     "name": "stdout",
     "output_type": "stream",
     "text": [
      "Moviepy - Done !\n",
      "Moviepy - video ready 274_pocket_30.mp4\n",
      "Moviepy - Building video 274_normal_30.mp4.\n",
      "Moviepy - Writing video 274_normal_30.mp4\n",
      "\n"
     ]
    },
    {
     "name": "stderr",
     "output_type": "stream",
     "text": [
      "                                                                                                     \r"
     ]
    },
    {
     "name": "stdout",
     "output_type": "stream",
     "text": [
      "Moviepy - Done !\n",
      "Moviepy - video ready 274_normal_30.mp4\n"
     ]
    }
   ],
   "source": [
    "for path in path5:\n",
    "    output1 = str(no)+'_pocket_36.mp4'\n",
    "    make_clip_video(path, output1, 34, 46)\n",
    "    output2 = str(no)+'_normal_36.mp4'\n",
    "    make_clip_video(path, output2, 4, 16)\n",
    "    no = no+1\n",
    "    output3 = str(no)+'_pocket_30.mp4'\n",
    "    make_clip_video(path, output3, 45, 55)\n",
    "    output4 = str(no)+'_normal_30.mp4'\n",
    "    make_clip_video(path, output4, 11, 21)\n",
    "    no = no+1"
   ]
  }
 ],
 "metadata": {
  "kernelspec": {
   "display_name": "yolo5test",
   "language": "python",
   "name": "yolo5test"
  },
  "language_info": {
   "codemirror_mode": {
    "name": "ipython",
    "version": 3
   },
   "file_extension": ".py",
   "mimetype": "text/x-python",
   "name": "python",
   "nbconvert_exporter": "python",
   "pygments_lexer": "ipython3",
   "version": "3.11.7"
  }
 },
 "nbformat": 4,
 "nbformat_minor": 4
}
