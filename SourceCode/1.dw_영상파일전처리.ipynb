{
 "cells": [
  {
   "cell_type": "code",
   "execution_count": 1,
   "metadata": {},
   "outputs": [],
   "source": [
    "import glob\n",
    "import pandas as pd\n",
    "from moviepy.editor import VideoFileClip, concatenate_videoclips\n",
    "import moviepy\n",
    "from moviepy.editor import *\n",
    "import pygame\n",
    "import cv2\n",
    "\n",
    "path = []\n",
    "PATH_r = 'aihub에서 다운받은 데이터가 들어있는 파일 경로'\n",
    "per = input('담당 인원의 이름을 입력하세요 : ')\n",
    "\n",
    "# make_clip_video(원본 비디오 경로, 저장할 클립명, 시작 시간, 끝 시간) -> 저장하는 함수\n",
    "def make_clip_video(path, save_path, start_t, end_t):\n",
    "    clip_video = VideoFileClip(path).subclip(start_t, end_t)\n",
    "    clip_video.write_videofile(save_path)\n",
    "\n",
    "def name_file(df,name):\n",
    "    return df[df['담당']==name]\n",
    "\n",
    "def where_to_where(df,name):\n",
    "    minn = int(df['제목'][0].split('~')[0])\n",
    "    maxx = int(df['제목'][0].split('~')[1])\n",
    "    return minn, maxx\n",
    "\n",
    "def make_clip_video(path, save_path, start_t, end_t):\n",
    "    clip_video = VideoFileClip(path).subclip(start_t, end_t)\n",
    "    clip_video.write_videofile(save_path)\n",
    "\n",
    "df = pd.read_csv('영상전처리담당.csv')\n",
    "df = name_file(df,per)\n",
    "df.drop('제목',axis=1,inplace=True)\n",
    "df.reset_index(inplace=True)\n",
    "\n",
    "ab = []\n",
    "norm = []\n",
    "\n",
    "def abinput(vdo):\n",
    "    st = int(input('이상행동 시작구간을 입력하세요 : (길이: 10초 자동입력)'))\n",
    "    fin = st+10\n",
    "    global ab\n",
    "    for i in range(len(vdo)):\n",
    "        ab.append([vdo[i].split('\\\\')[-1],st,fin])\n",
    "    return ab[-5:]\n",
    "\n",
    "def norminput(vdo):\n",
    "    st = int(input('정상행동 시작구간을 입력하세요 : (길이: 10초 자동입력)'))\n",
    "    fin = st+10\n",
    "    global norm\n",
    "    for i in range(len(vdo)):\n",
    "        norm.append([vdo[i].split('\\\\')[-1],st,fin])\n",
    "    return norm[-5:]\n"
   ]
  },
  {
   "cell_type": "code",
   "execution_count": 7,
   "metadata": {},
   "outputs": [
    {
     "name": "stdout",
     "output_type": "stream",
     "text": [
      "FPS: 0.0\n",
      "Interrupt\n"
     ]
    }
   ],
   "source": [
    "for i in range(1):\n",
    "    # 영상을 확인하며 시간 입력을 하기위해 pygame을 이용하여 영상 재생\n",
    "    pygame.init()\n",
    "    screen_width = 512\n",
    "    screen_height = 349 \n",
    "    screen = pygame.display.set_mode((screen_width, screen_height))\n",
    "    pygame.display.set_caption(df['name'][i])\n",
    "    #FPS\n",
    "    clock = pygame.time.Clock()\n",
    "    dt = clock.tick(3) #게임화면의 초당 프레임 수를 설정\n",
    "    print(\"FPS: \" +str(clock.get_fps()))\n",
    "    game_font = pygame.font.Font(None, 40) #폰트 객체 생성 (폰트, 크기)\n",
    "    # 시작 시간\n",
    "    start_ticks = pygame.time.get_ticks() #현재 tick을 받아옴\n",
    "    elapsed_time = (pygame.time.get_ticks() - start_ticks) / 1000   #경과 시간(ms)에 1000을 나눠 초 단위로 표시\n",
    "    total_time = 100\n",
    "    timer = game_font.render(str(int(elapsed_time)),True,(255,255,255))    #출력할 글자, True, 글자 색상\n",
    "    # 총 시간\n",
    "    screen.blit(timer, (100,100)) #타이머 위치\n",
    "\n",
    "    # df에 있어서 영상의 종류를 파악하고 data 폴더에서 가져온다\n",
    "    vdo = glob.glob(PATH_r + df['name'][i] +'*.mp4')\n",
    "    clip_video = VideoFileClip(vdo[0]).subclip(0, 60) # 첫번째 영상만 조회하고 시간을 추출한다\n",
    "    clip_video.preview()\n",
    "    pygame.quit()\n",
    "\n",
    "    # 이상행동의 갯수를 파악함\n",
    "    N = int(input('입력할 이상행동 구간 갯수를 알려주세요 : '))\n",
    "    # 이때 균형있는 데이터 구축을 위해 이상행동 데이터와 정상 데이터의 갯수를 동일시한다.\n",
    "    for j in range(N):\n",
    "        abinput(vdo)\n",
    "        norminput(vdo)"
   ]
  },
  {
   "cell_type": "code",
   "execution_count": 8,
   "metadata": {},
   "outputs": [
    {
     "name": "stdout",
     "output_type": "stream",
     "text": [
      "Moviepy - Building video result/0_abnormal_30.mp4.\n",
      "Moviepy - Writing video result/0_abnormal_30.mp4\n",
      "\n"
     ]
    },
    {
     "name": "stderr",
     "output_type": "stream",
     "text": [
      "                                                            \r"
     ]
    },
    {
     "name": "stdout",
     "output_type": "stream",
     "text": [
      "Moviepy - Done !\n",
      "Moviepy - video ready result/0_abnormal_30.mp4\n",
      "Moviepy - Building video result/0_normal_30.mp4.\n",
      "Moviepy - Writing video result/0_normal_30.mp4\n",
      "\n"
     ]
    },
    {
     "name": "stderr",
     "output_type": "stream",
     "text": [
      "                                                            \r"
     ]
    },
    {
     "name": "stdout",
     "output_type": "stream",
     "text": [
      "Moviepy - Done !\n",
      "Moviepy - video ready result/0_normal_30.mp4\n",
      "Moviepy - Building video result/1_abnormal_30.mp4.\n",
      "Moviepy - Writing video result/1_abnormal_30.mp4\n",
      "\n"
     ]
    },
    {
     "name": "stderr",
     "output_type": "stream",
     "text": [
      "                                                            \r"
     ]
    },
    {
     "name": "stdout",
     "output_type": "stream",
     "text": [
      "Moviepy - Done !\n",
      "Moviepy - video ready result/1_abnormal_30.mp4\n",
      "Moviepy - Building video result/1_normal_30.mp4.\n",
      "Moviepy - Writing video result/1_normal_30.mp4\n",
      "\n"
     ]
    },
    {
     "name": "stderr",
     "output_type": "stream",
     "text": [
      "                                                            \r"
     ]
    },
    {
     "name": "stdout",
     "output_type": "stream",
     "text": [
      "Moviepy - Done !\n",
      "Moviepy - video ready result/1_normal_30.mp4\n",
      "Moviepy - Building video result/2_abnormal_30.mp4.\n",
      "Moviepy - Writing video result/2_abnormal_30.mp4\n",
      "\n"
     ]
    },
    {
     "name": "stderr",
     "output_type": "stream",
     "text": [
      "                                                            \r"
     ]
    },
    {
     "name": "stdout",
     "output_type": "stream",
     "text": [
      "Moviepy - Done !\n",
      "Moviepy - video ready result/2_abnormal_30.mp4\n",
      "Moviepy - Building video result/2_normal_30.mp4.\n",
      "Moviepy - Writing video result/2_normal_30.mp4\n",
      "\n"
     ]
    },
    {
     "name": "stderr",
     "output_type": "stream",
     "text": [
      "                                                            \r"
     ]
    },
    {
     "name": "stdout",
     "output_type": "stream",
     "text": [
      "Moviepy - Done !\n",
      "Moviepy - video ready result/2_normal_30.mp4\n"
     ]
    }
   ],
   "source": [
    "# 위 ab와 norm에 저장된 영상 제목과 구간에 대해 \n",
    "# make_clip_video를 통해 저장하도록 한다.\n",
    "for i in range(len(ab)):\n",
    "    make_clip_video(PATH_r+ab[i][0],f'result/{i}_abnormal_30.mp4',ab[i][1],ab[i][2])\n",
    "    make_clip_video(PATH_r+norm[i][0],f'result/{i}_normal_30.mp4',norm[i][1],norm[i][2])"
   ]
  },
  {
   "cell_type": "code",
   "execution_count": null,
   "metadata": {},
   "outputs": [],
   "source": []
  }
 ],
 "metadata": {
  "kernelspec": {
   "display_name": "base",
   "language": "python",
   "name": "python3"
  },
  "language_info": {
   "codemirror_mode": {
    "name": "ipython",
    "version": 3
   },
   "file_extension": ".py",
   "mimetype": "text/x-python",
   "name": "python",
   "nbconvert_exporter": "python",
   "pygments_lexer": "ipython3",
   "version": "3.11.8"
  }
 },
 "nbformat": 4,
 "nbformat_minor": 2
}
