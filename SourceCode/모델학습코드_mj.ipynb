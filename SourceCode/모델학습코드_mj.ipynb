{
 "cells": [
  {
   "cell_type": "code",
   "execution_count": 1,
   "id": "e70acf1f-7cea-41a3-ac1a-7b51ec51fca2",
   "metadata": {},
   "outputs": [
    {
     "name": "stdout",
     "output_type": "stream",
     "text": [
      "WARNING:tensorflow:From c:\\Users\\Playdata\\anaconda3\\Lib\\site-packages\\keras\\src\\losses.py:2976: The name tf.losses.sparse_softmax_cross_entropy is deprecated. Please use tf.compat.v1.losses.sparse_softmax_cross_entropy instead.\n",
      "\n"
     ]
    }
   ],
   "source": [
    "import os\n",
    "import cv2\n",
    "import torch\n",
    "import mediapipe as mp\n",
    "import numpy as np\n",
    "import random\n",
    "import gc\n",
    "import time\n",
    "from glob import glob\n",
    "from tqdm import tqdm\n",
    "\n",
    "%matplotlib inline\n"
   ]
  },
  {
   "cell_type": "code",
   "execution_count": 2,
   "id": "546b1989-9b15-47a3-aba7-5481de433008",
   "metadata": {},
   "outputs": [
    {
     "name": "stderr",
     "output_type": "stream",
     "text": [
      "Using cache found in /home/raccoon/.cache/torch/hub/ultralytics_yolov5_master\n",
      "YOLOv5 🚀 2024-4-19 Python-3.11.7 torch-2.2.2+cu121 CUDA:0 (NVIDIA GeForce GTX 1080 Ti, 11170MiB)\n",
      "\n",
      "Fusing layers... \n",
      "YOLOv5s summary: 213 layers, 7225885 parameters, 0 gradients, 16.4 GFLOPs\n",
      "Adding AutoShape... \n"
     ]
    }
   ],
   "source": [
    "# torch_ver Yolov5\n",
    "yolo_model = torch.hub.load('ultralytics/yolov5', 'yolov5s',\n",
    "                            device='cuda:0' if torch.cuda.is_available() else 'cpu')  # 예측 모델\n",
    "yolo_model.classes = [0]  # 예측 클래스 (0 : 사람)"
   ]
  },
  {
   "cell_type": "code",
   "execution_count": 58,
   "id": "ee45c478-fbda-4dde-a178-d3e51c6e3bd7",
   "metadata": {},
   "outputs": [
    {
     "name": "stdout",
     "output_type": "stream",
     "text": [
      "Pose : Only Body\n"
     ]
    }
   ],
   "source": [
    "BATCH_SIZE = 40\n",
    "EPOCH = 500\n",
    "NUM_LAYERS = 1     # LSTM model: num_layers\n",
    "start_dot = 11      # mp.solutions.pose 시작 포인트 (0: 얼굴부터 발목까지, 11: 어깨부터 발목까지)\n",
    "n_CONFIDENCE = 0.3    # MediaPipe Min Detectin confidence check\n",
    "y_CONFIDENCE = 0.3    # Yolv5 Min Detectin confidence check\n",
    "\n",
    "# Mediapipe 데이터 전처리 #\n",
    "mp_pose = mp.solutions.pose\n",
    "attention_dot = [n for n in range(start_dot, 29)]\n",
    "\n",
    "# 라인 그리기\n",
    "if start_dot == 11:\n",
    "    \"\"\"몸 부분만\"\"\"\n",
    "    draw_line = [[11, 13], [13, 15], [15, 21], [15, 19], [15, 17], [17, 19], \\\n",
    "                [12, 14], [14, 16], [16, 22], [16, 20], [16, 18], [18, 20], \\\n",
    "                [23, 25], [25, 27], [24, 26], [26, 28], [11, 12], [11, 23], \\\n",
    "                [23, 24], [12, 24]]\n",
    "    print('Pose : Only Body')\n",
    "\n",
    "else:\n",
    "    \"\"\"얼굴 포함\"\"\"\n",
    "    draw_line = [[11, 13], [13, 15], [15, 21], [15, 19], [15, 17], [17, 19], \\\n",
    "                [12, 14], [14, 16], [16, 22], [16, 20], [16, 18], [18, 20], \\\n",
    "                [23, 25], [25, 27], [24, 26], [26, 28], [11, 12], [11, 23], \\\n",
    "                [23, 24], [12, 24], [9, 10], [0, 5], [0, 2], [5, 8], [2, 7]]\n",
    "    print('Pose : Face + Body')"
   ]
  },
  {
   "cell_type": "code",
   "execution_count": 59,
   "id": "3d4105ea-4584-418c-8515-629a6d93affa",
   "metadata": {},
   "outputs": [],
   "source": [
    "# Yolov4 바운딩 box 안에서 media pipe 데이터 전처리 함수\n",
    "\n",
    "def get_skeleton(video_path, attention_dot, draw_line):\n",
    "    frame_length = 30 # LSTM 모델에 넣을 frame 수\n",
    "\n",
    "    xy_list_list, xy_list_list_flip = [], []\n",
    "    cv2.destroyAllWindows()\n",
    "    pose = mp_pose.Pose(static_image_mode = True, model_complexity = 1, \\\n",
    "                        enable_segmentation = False, min_detection_confidence = n_CONFIDENCE)\n",
    "    cap = cv2.VideoCapture(video_path)\n",
    "\n",
    "    if cap.isOpened():\n",
    "\n",
    "        while True:\n",
    "            ret, img = cap.read()\n",
    "\n",
    "            if ret == True:\n",
    "\n",
    "                \"\"\" Yolo 바운딩 박스 및 좌표 추출\"\"\"\n",
    "                img = cv2.resize(img, (640, 640))\n",
    "                res = yolo_model(img)\n",
    "                res_refine = res.pandas().xyxy[0].values\n",
    "                nms_human = len(res_refine)\n",
    "                if nms_human > 0:\n",
    "                    for bbox in res_refine:\n",
    "                        \"\"\"바운딩 박스 상하좌우 크기 조절\"\"\"\n",
    "                        xx1, yy1, xx2, yy2 = int(bbox[0])-10, int(bbox[1]), int(bbox[2])+10, int(bbox[3])\n",
    "                        if xx1 < 0:\n",
    "                            xx1 = 0\n",
    "                        elif xx2 > 639:\n",
    "                            xx2 = 639\n",
    "                        if yy1 < 0:\n",
    "                            yy1 = 0\n",
    "                        elif yy2 > 639:\n",
    "                            yy2 = 639\n",
    "\n",
    "                        start_point = (xx1, yy1)\n",
    "                        end_point = (xx2, yy2)\n",
    "\n",
    "                        \"\"\" Yolov5 바운딩 박스 좌표 안에서 mediapipe Pose 추출\"\"\"\n",
    "                        if bbox[4] > y_CONFIDENCE: # bbox[4] : confidence 데이터\n",
    "                            # img = cv2.rectangle(img, start_point, end_point, (0, 0, 255), 2) # 바운딩 박스 그리기 : 데이터 추출 확인용\n",
    "                            c_img = img[yy1:yy2, xx1:xx2] # 바운딩 박스 좌표\n",
    "                            results = pose.process(cv2.cvtColor(c_img, cv2.COLOR_BGR2RGB)) # Yolov5 바운딩 박스 좌표 안에서 'mp_pose' 좌표\n",
    "\n",
    "                            if not results.pose_landmarks: continue\n",
    "                            idx = 0\n",
    "                            draw_line_dic = {}\n",
    "                            xy_list, xy_list_flip = [], []\n",
    "                            # 33 반복문 진행 : 33개 중 18개의 dot\n",
    "                            for x_and_y in results.pose_landmarks.landmark:\n",
    "                                if idx in attention_dot:\n",
    "                                    xy_list.append(x_and_y.x)\n",
    "                                    xy_list.append(x_and_y.y)\n",
    "                                    xy_list_flip.append(1 - x_and_y.x)\n",
    "                                    xy_list_flip.append(x_and_y.y)\n",
    "\n",
    "                                    x, y = int(x_and_y.x*(xx2-xx1)), int(x_and_y.y*(yy2-yy1))\n",
    "                                    draw_line_dic[idx] = [x, y]\n",
    "                                idx += 1\n",
    "\n",
    "                            if len(xy_list) != len(attention_dot) * 2:\n",
    "                                print('Error : attention_dot 데이터 오류')\n",
    "\n",
    "                            xy_list_list.append(xy_list)\n",
    "                            xy_list_list_flip.append(xy_list_flip)\n",
    "\n",
    "                            \"\"\"mediapipe line 그리기 부분 : 데이터 추출(dot) 확인용\"\"\"\n",
    "                            # for line in draw_line:\n",
    "                            #     x1, y1 = draw_line_dic[line[0]][0], draw_line_dic[line[0]][1]\n",
    "                            #     x2, y2 = draw_line_dic[line[1]][0], draw_line_dic[line[1]][1]\n",
    "                            #     c_img = cv2.line(c_img, (x1, y1), (x2, y2), (0, 255, 0), 4)\n",
    "                            # # cv2.imshow('Landmark Image', img)\n",
    "                            # cv2_imshow(img)\n",
    "                            # cv2.waitKey(1)\n",
    "\n",
    "            elif ret == False: break\n",
    "\n",
    "\n",
    "        # 부족한 프레임 수 맞추기\n",
    "        if len(xy_list_list_flip) < 15:\n",
    "            return False, False\n",
    "        elif len(xy_list_list_flip) < frame_length:\n",
    "            f_ln = frame_length - len(xy_list_list_flip)\n",
    "            for _ in range(f_ln):\n",
    "                xy_list_list.append(xy_list_list[-1])\n",
    "                xy_list_list_flip.append(xy_list_list_flip[-1])\n",
    "\n",
    "    cap.release()\n",
    "    cv2.destroyAllWindows()\n",
    "\n",
    "\n",
    "    return xy_list_list, xy_list_list_flip"
   ]
  },
  {
   "cell_type": "code",
   "execution_count": 2,
   "id": "18756fd9-daa3-43fa-bd78-035f1d16cfc9",
   "metadata": {},
   "outputs": [
    {
     "data": {
      "text/plain": [
       "'/home/raccoon/jnwork/dataset/dataset_aihub2/'"
      ]
     },
     "execution_count": 2,
     "metadata": {},
     "output_type": "execute_result"
    }
   ],
   "source": [
    "# train 영상 경로 설정 \n",
    "video_path = f'/home/raccoon/jnwork/dataset/dataset_aihub2/' # dataset 경로\n",
    "video_path"
   ]
  },
  {
   "cell_type": "code",
   "execution_count": 7,
   "id": "e2ad90c6-8e67-4744-a0bf-219c6800b79a",
   "metadata": {},
   "outputs": [
    {
     "name": "stderr",
     "output_type": "stream",
     "text": [
      "WARNING: All log messages before absl::InitializeLog() is called are written to STDERR\n",
      "I0000 00:00:1713927756.947412   48388 gl_context_egl.cc:85] Successfully initialized EGL. Major : 1 Minor: 5\n",
      "I0000 00:00:1713927756.965923   48458 gl_context.cc:357] GL version: 3.2 (OpenGL ES 3.2 NVIDIA 535.171.04), renderer: NVIDIA GeForce GTX 1080 Ti/PCIe/SSE2\n",
      "INFO: Created TensorFlow Lite XNNPACK delegate for CPU.\n",
      "I0000 00:00:1713927760.809107   48388 gl_context_egl.cc:85] Successfully initialized EGL. Major : 1 Minor: 5\n",
      "I0000 00:00:1713927760.816669   48486 gl_context.cc:357] GL version: 3.2 (OpenGL ES 3.2 NVIDIA 535.171.04), renderer: NVIDIA GeForce GTX 1080 Ti/PCIe/SSE2\n",
      "I0000 00:00:1713927765.144686   48388 gl_context_egl.cc:85] Successfully initialized EGL. Major : 1 Minor: 5\n",
      "I0000 00:00:1713927765.152156   48513 gl_context.cc:357] GL version: 3.2 (OpenGL ES 3.2 NVIDIA 535.171.04), renderer: NVIDIA GeForce GTX 1080 Ti/PCIe/SSE2\n",
      "I0000 00:00:1713927767.655908   48388 gl_context_egl.cc:85] Successfully initialized EGL. Major : 1 Minor: 5\n",
      "I0000 00:00:1713927767.664303   48539 gl_context.cc:357] GL version: 3.2 (OpenGL ES 3.2 NVIDIA 535.171.04), renderer: NVIDIA GeForce GTX 1080 Ti/PCIe/SSE2\n",
      "I0000 00:00:1713927771.740588   48388 gl_context_egl.cc:85] Successfully initialized EGL. Major : 1 Minor: 5\n",
      "I0000 00:00:1713927771.748167   48567 gl_context.cc:357] GL version: 3.2 (OpenGL ES 3.2 NVIDIA 535.171.04), renderer: NVIDIA GeForce GTX 1080 Ti/PCIe/SSE2\n",
      "I0000 00:00:1713927776.181971   48388 gl_context_egl.cc:85] Successfully initialized EGL. Major : 1 Minor: 5\n",
      "I0000 00:00:1713927776.189167   48594 gl_context.cc:357] GL version: 3.2 (OpenGL ES 3.2 NVIDIA 535.171.04), renderer: NVIDIA GeForce GTX 1080 Ti/PCIe/SSE2\n",
      "I0000 00:00:1713927777.328141   48388 gl_context_egl.cc:85] Successfully initialized EGL. Major : 1 Minor: 5\n",
      "I0000 00:00:1713927777.334970   48620 gl_context.cc:357] GL version: 3.2 (OpenGL ES 3.2 NVIDIA 535.171.04), renderer: NVIDIA GeForce GTX 1080 Ti/PCIe/SSE2\n",
      "I0000 00:00:1713927780.744152   48388 gl_context_egl.cc:85] Successfully initialized EGL. Major : 1 Minor: 5\n",
      "I0000 00:00:1713927780.751949   48648 gl_context.cc:357] GL version: 3.2 (OpenGL ES 3.2 NVIDIA 535.171.04), renderer: NVIDIA GeForce GTX 1080 Ti/PCIe/SSE2\n",
      "I0000 00:00:1713927783.305094   48388 gl_context_egl.cc:85] Successfully initialized EGL. Major : 1 Minor: 5\n",
      "I0000 00:00:1713927783.312312   48674 gl_context.cc:357] GL version: 3.2 (OpenGL ES 3.2 NVIDIA 535.171.04), renderer: NVIDIA GeForce GTX 1080 Ti/PCIe/SSE2\n",
      "I0000 00:00:1713927785.966902   48388 gl_context_egl.cc:85] Successfully initialized EGL. Major : 1 Minor: 5\n",
      "I0000 00:00:1713927785.975578   48700 gl_context.cc:357] GL version: 3.2 (OpenGL ES 3.2 NVIDIA 535.171.04), renderer: NVIDIA GeForce GTX 1080 Ti/PCIe/SSE2\n",
      "I0000 00:00:1713927787.031289   48388 gl_context_egl.cc:85] Successfully initialized EGL. Major : 1 Minor: 5\n",
      "I0000 00:00:1713927787.038438   48726 gl_context.cc:357] GL version: 3.2 (OpenGL ES 3.2 NVIDIA 535.171.04), renderer: NVIDIA GeForce GTX 1080 Ti/PCIe/SSE2\n",
      "I0000 00:00:1713927789.304188   48388 gl_context_egl.cc:85] Successfully initialized EGL. Major : 1 Minor: 5\n",
      "I0000 00:00:1713927789.311185   48752 gl_context.cc:357] GL version: 3.2 (OpenGL ES 3.2 NVIDIA 535.171.04), renderer: NVIDIA GeForce GTX 1080 Ti/PCIe/SSE2\n",
      "I0000 00:00:1713927791.496228   48388 gl_context_egl.cc:85] Successfully initialized EGL. Major : 1 Minor: 5\n",
      "I0000 00:00:1713927791.503398   48779 gl_context.cc:357] GL version: 3.2 (OpenGL ES 3.2 NVIDIA 535.171.04), renderer: NVIDIA GeForce GTX 1080 Ti/PCIe/SSE2\n",
      "I0000 00:00:1713927796.036362   48388 gl_context_egl.cc:85] Successfully initialized EGL. Major : 1 Minor: 5\n",
      "I0000 00:00:1713927796.043757   48806 gl_context.cc:357] GL version: 3.2 (OpenGL ES 3.2 NVIDIA 535.171.04), renderer: NVIDIA GeForce GTX 1080 Ti/PCIe/SSE2\n",
      "I0000 00:00:1713927798.117171   48388 gl_context_egl.cc:85] Successfully initialized EGL. Major : 1 Minor: 5\n",
      "I0000 00:00:1713927798.124511   48832 gl_context.cc:357] GL version: 3.2 (OpenGL ES 3.2 NVIDIA 535.171.04), renderer: NVIDIA GeForce GTX 1080 Ti/PCIe/SSE2\n",
      "I0000 00:00:1713927802.686051   48388 gl_context_egl.cc:85] Successfully initialized EGL. Major : 1 Minor: 5\n",
      "I0000 00:00:1713927802.693282   48861 gl_context.cc:357] GL version: 3.2 (OpenGL ES 3.2 NVIDIA 535.171.04), renderer: NVIDIA GeForce GTX 1080 Ti/PCIe/SSE2\n",
      "I0000 00:00:1713927804.904716   48388 gl_context_egl.cc:85] Successfully initialized EGL. Major : 1 Minor: 5\n",
      "I0000 00:00:1713927804.912371   48887 gl_context.cc:357] GL version: 3.2 (OpenGL ES 3.2 NVIDIA 535.171.04), renderer: NVIDIA GeForce GTX 1080 Ti/PCIe/SSE2\n",
      "I0000 00:00:1713927807.561407   48388 gl_context_egl.cc:85] Successfully initialized EGL. Major : 1 Minor: 5\n",
      "I0000 00:00:1713927807.569587   48913 gl_context.cc:357] GL version: 3.2 (OpenGL ES 3.2 NVIDIA 535.171.04), renderer: NVIDIA GeForce GTX 1080 Ti/PCIe/SSE2\n",
      "I0000 00:00:1713927809.147145   48388 gl_context_egl.cc:85] Successfully initialized EGL. Major : 1 Minor: 5\n",
      "I0000 00:00:1713927809.154808   48939 gl_context.cc:357] GL version: 3.2 (OpenGL ES 3.2 NVIDIA 535.171.04), renderer: NVIDIA GeForce GTX 1080 Ti/PCIe/SSE2\n",
      "I0000 00:00:1713927812.015661   48388 gl_context_egl.cc:85] Successfully initialized EGL. Major : 1 Minor: 5\n",
      "I0000 00:00:1713927812.022955   48966 gl_context.cc:357] GL version: 3.2 (OpenGL ES 3.2 NVIDIA 535.171.04), renderer: NVIDIA GeForce GTX 1080 Ti/PCIe/SSE2\n",
      "I0000 00:00:1713927813.154642   48388 gl_context_egl.cc:85] Successfully initialized EGL. Major : 1 Minor: 5\n",
      "I0000 00:00:1713927813.162216   48992 gl_context.cc:357] GL version: 3.2 (OpenGL ES 3.2 NVIDIA 535.171.04), renderer: NVIDIA GeForce GTX 1080 Ti/PCIe/SSE2\n",
      "I0000 00:00:1713927815.337351   48388 gl_context_egl.cc:85] Successfully initialized EGL. Major : 1 Minor: 5\n",
      "I0000 00:00:1713927815.345853   49018 gl_context.cc:357] GL version: 3.2 (OpenGL ES 3.2 NVIDIA 535.171.04), renderer: NVIDIA GeForce GTX 1080 Ti/PCIe/SSE2\n",
      "I0000 00:00:1713927818.133875   48388 gl_context_egl.cc:85] Successfully initialized EGL. Major : 1 Minor: 5\n",
      "I0000 00:00:1713927818.141057   49044 gl_context.cc:357] GL version: 3.2 (OpenGL ES 3.2 NVIDIA 535.171.04), renderer: NVIDIA GeForce GTX 1080 Ti/PCIe/SSE2\n",
      "I0000 00:00:1713927819.727319   48388 gl_context_egl.cc:85] Successfully initialized EGL. Major : 1 Minor: 5\n",
      "I0000 00:00:1713927819.734633   49071 gl_context.cc:357] GL version: 3.2 (OpenGL ES 3.2 NVIDIA 535.171.04), renderer: NVIDIA GeForce GTX 1080 Ti/PCIe/SSE2\n",
      "I0000 00:00:1713927823.761953   48388 gl_context_egl.cc:85] Successfully initialized EGL. Major : 1 Minor: 5\n",
      "I0000 00:00:1713927823.769240   49098 gl_context.cc:357] GL version: 3.2 (OpenGL ES 3.2 NVIDIA 535.171.04), renderer: NVIDIA GeForce GTX 1080 Ti/PCIe/SSE2\n",
      "I0000 00:00:1713927825.548870   48388 gl_context_egl.cc:85] Successfully initialized EGL. Major : 1 Minor: 5\n",
      "I0000 00:00:1713927825.556083   49124 gl_context.cc:357] GL version: 3.2 (OpenGL ES 3.2 NVIDIA 535.171.04), renderer: NVIDIA GeForce GTX 1080 Ti/PCIe/SSE2\n",
      "I0000 00:00:1713927828.303512   48388 gl_context_egl.cc:85] Successfully initialized EGL. Major : 1 Minor: 5\n",
      "I0000 00:00:1713927828.311709   49153 gl_context.cc:357] GL version: 3.2 (OpenGL ES 3.2 NVIDIA 535.171.04), renderer: NVIDIA GeForce GTX 1080 Ti/PCIe/SSE2\n",
      "I0000 00:00:1713927832.073506   48388 gl_context_egl.cc:85] Successfully initialized EGL. Major : 1 Minor: 5\n",
      "I0000 00:00:1713927832.080856   49181 gl_context.cc:357] GL version: 3.2 (OpenGL ES 3.2 NVIDIA 535.171.04), renderer: NVIDIA GeForce GTX 1080 Ti/PCIe/SSE2\n",
      "I0000 00:00:1713927834.846486   48388 gl_context_egl.cc:85] Successfully initialized EGL. Major : 1 Minor: 5\n",
      "I0000 00:00:1713927834.854808   49208 gl_context.cc:357] GL version: 3.2 (OpenGL ES 3.2 NVIDIA 535.171.04), renderer: NVIDIA GeForce GTX 1080 Ti/PCIe/SSE2\n",
      "I0000 00:00:1713927835.674197   48388 gl_context_egl.cc:85] Successfully initialized EGL. Major : 1 Minor: 5\n",
      "I0000 00:00:1713927835.681457   49233 gl_context.cc:357] GL version: 3.2 (OpenGL ES 3.2 NVIDIA 535.171.04), renderer: NVIDIA GeForce GTX 1080 Ti/PCIe/SSE2\n",
      "I0000 00:00:1713927838.062087   48388 gl_context_egl.cc:85] Successfully initialized EGL. Major : 1 Minor: 5\n",
      "I0000 00:00:1713927838.069544   49259 gl_context.cc:357] GL version: 3.2 (OpenGL ES 3.2 NVIDIA 535.171.04), renderer: NVIDIA GeForce GTX 1080 Ti/PCIe/SSE2\n",
      "I0000 00:00:1713927840.353087   48388 gl_context_egl.cc:85] Successfully initialized EGL. Major : 1 Minor: 5\n",
      "I0000 00:00:1713927840.397138   49285 gl_context.cc:357] GL version: 3.2 (OpenGL ES 3.2 NVIDIA 535.171.04), renderer: NVIDIA GeForce GTX 1080 Ti/PCIe/SSE2\n",
      "I0000 00:00:1713927841.913599   48388 gl_context_egl.cc:85] Successfully initialized EGL. Major : 1 Minor: 5\n",
      "I0000 00:00:1713927841.921030   49311 gl_context.cc:357] GL version: 3.2 (OpenGL ES 3.2 NVIDIA 535.171.04), renderer: NVIDIA GeForce GTX 1080 Ti/PCIe/SSE2\n",
      "I0000 00:00:1713927845.099451   48388 gl_context_egl.cc:85] Successfully initialized EGL. Major : 1 Minor: 5\n",
      "I0000 00:00:1713927845.107604   49336 gl_context.cc:357] GL version: 3.2 (OpenGL ES 3.2 NVIDIA 535.171.04), renderer: NVIDIA GeForce GTX 1080 Ti/PCIe/SSE2\n",
      "I0000 00:00:1713927847.954731   48388 gl_context_egl.cc:85] Successfully initialized EGL. Major : 1 Minor: 5\n",
      "I0000 00:00:1713927847.962836   49361 gl_context.cc:357] GL version: 3.2 (OpenGL ES 3.2 NVIDIA 535.171.04), renderer: NVIDIA GeForce GTX 1080 Ti/PCIe/SSE2\n",
      "I0000 00:00:1713927849.519758   48388 gl_context_egl.cc:85] Successfully initialized EGL. Major : 1 Minor: 5\n",
      "I0000 00:00:1713927849.527039   49386 gl_context.cc:357] GL version: 3.2 (OpenGL ES 3.2 NVIDIA 535.171.04), renderer: NVIDIA GeForce GTX 1080 Ti/PCIe/SSE2\n",
      "I0000 00:00:1713927851.769097   48388 gl_context_egl.cc:85] Successfully initialized EGL. Major : 1 Minor: 5\n",
      "I0000 00:00:1713927851.776945   49411 gl_context.cc:357] GL version: 3.2 (OpenGL ES 3.2 NVIDIA 535.171.04), renderer: NVIDIA GeForce GTX 1080 Ti/PCIe/SSE2\n",
      "I0000 00:00:1713927855.014526   48388 gl_context_egl.cc:85] Successfully initialized EGL. Major : 1 Minor: 5\n",
      "I0000 00:00:1713927855.022010   49436 gl_context.cc:357] GL version: 3.2 (OpenGL ES 3.2 NVIDIA 535.171.04), renderer: NVIDIA GeForce GTX 1080 Ti/PCIe/SSE2\n",
      "I0000 00:00:1713927860.127635   48388 gl_context_egl.cc:85] Successfully initialized EGL. Major : 1 Minor: 5\n",
      "I0000 00:00:1713927860.135405   49461 gl_context.cc:357] GL version: 3.2 (OpenGL ES 3.2 NVIDIA 535.171.04), renderer: NVIDIA GeForce GTX 1080 Ti/PCIe/SSE2\n",
      "I0000 00:00:1713927864.905037   48388 gl_context_egl.cc:85] Successfully initialized EGL. Major : 1 Minor: 5\n",
      "I0000 00:00:1713927864.912824   49486 gl_context.cc:357] GL version: 3.2 (OpenGL ES 3.2 NVIDIA 535.171.04), renderer: NVIDIA GeForce GTX 1080 Ti/PCIe/SSE2\n",
      "I0000 00:00:1713927868.614302   48388 gl_context_egl.cc:85] Successfully initialized EGL. Major : 1 Minor: 5\n",
      "I0000 00:00:1713927868.622527   49511 gl_context.cc:357] GL version: 3.2 (OpenGL ES 3.2 NVIDIA 535.171.04), renderer: NVIDIA GeForce GTX 1080 Ti/PCIe/SSE2\n",
      "I0000 00:00:1713927871.167561   48388 gl_context_egl.cc:85] Successfully initialized EGL. Major : 1 Minor: 5\n",
      "I0000 00:00:1713927871.175711   49536 gl_context.cc:357] GL version: 3.2 (OpenGL ES 3.2 NVIDIA 535.171.04), renderer: NVIDIA GeForce GTX 1080 Ti/PCIe/SSE2\n",
      "I0000 00:00:1713927875.626562   48388 gl_context_egl.cc:85] Successfully initialized EGL. Major : 1 Minor: 5\n",
      "I0000 00:00:1713927875.634886   49561 gl_context.cc:357] GL version: 3.2 (OpenGL ES 3.2 NVIDIA 535.171.04), renderer: NVIDIA GeForce GTX 1080 Ti/PCIe/SSE2\n",
      "I0000 00:00:1713927880.425137   48388 gl_context_egl.cc:85] Successfully initialized EGL. Major : 1 Minor: 5\n",
      "I0000 00:00:1713927880.432820   49586 gl_context.cc:357] GL version: 3.2 (OpenGL ES 3.2 NVIDIA 535.171.04), renderer: NVIDIA GeForce GTX 1080 Ti/PCIe/SSE2\n",
      "I0000 00:00:1713927882.584404   48388 gl_context_egl.cc:85] Successfully initialized EGL. Major : 1 Minor: 5\n",
      "I0000 00:00:1713927882.592229   49611 gl_context.cc:357] GL version: 3.2 (OpenGL ES 3.2 NVIDIA 535.171.04), renderer: NVIDIA GeForce GTX 1080 Ti/PCIe/SSE2\n",
      "I0000 00:00:1713927885.487226   48388 gl_context_egl.cc:85] Successfully initialized EGL. Major : 1 Minor: 5\n",
      "I0000 00:00:1713927885.496405   49636 gl_context.cc:357] GL version: 3.2 (OpenGL ES 3.2 NVIDIA 535.171.04), renderer: NVIDIA GeForce GTX 1080 Ti/PCIe/SSE2\n",
      "I0000 00:00:1713927887.535638   48388 gl_context_egl.cc:85] Successfully initialized EGL. Major : 1 Minor: 5\n",
      "I0000 00:00:1713927887.543323   49661 gl_context.cc:357] GL version: 3.2 (OpenGL ES 3.2 NVIDIA 535.171.04), renderer: NVIDIA GeForce GTX 1080 Ti/PCIe/SSE2\n",
      "I0000 00:00:1713927890.942203   48388 gl_context_egl.cc:85] Successfully initialized EGL. Major : 1 Minor: 5\n",
      "I0000 00:00:1713927890.949884   49686 gl_context.cc:357] GL version: 3.2 (OpenGL ES 3.2 NVIDIA 535.171.04), renderer: NVIDIA GeForce GTX 1080 Ti/PCIe/SSE2\n",
      "I0000 00:00:1713927892.793861   48388 gl_context_egl.cc:85] Successfully initialized EGL. Major : 1 Minor: 5\n",
      "I0000 00:00:1713927892.801285   49711 gl_context.cc:357] GL version: 3.2 (OpenGL ES 3.2 NVIDIA 535.171.04), renderer: NVIDIA GeForce GTX 1080 Ti/PCIe/SSE2\n",
      "I0000 00:00:1713927893.830282   48388 gl_context_egl.cc:85] Successfully initialized EGL. Major : 1 Minor: 5\n",
      "I0000 00:00:1713927893.838154   49736 gl_context.cc:357] GL version: 3.2 (OpenGL ES 3.2 NVIDIA 535.171.04), renderer: NVIDIA GeForce GTX 1080 Ti/PCIe/SSE2\n",
      "I0000 00:00:1713927897.026338   48388 gl_context_egl.cc:85] Successfully initialized EGL. Major : 1 Minor: 5\n",
      "I0000 00:00:1713927897.034071   49761 gl_context.cc:357] GL version: 3.2 (OpenGL ES 3.2 NVIDIA 535.171.04), renderer: NVIDIA GeForce GTX 1080 Ti/PCIe/SSE2\n",
      "I0000 00:00:1713927901.822476   48388 gl_context_egl.cc:85] Successfully initialized EGL. Major : 1 Minor: 5\n",
      "I0000 00:00:1713927901.830543   49786 gl_context.cc:357] GL version: 3.2 (OpenGL ES 3.2 NVIDIA 535.171.04), renderer: NVIDIA GeForce GTX 1080 Ti/PCIe/SSE2\n",
      "I0000 00:00:1713927903.754714   48388 gl_context_egl.cc:85] Successfully initialized EGL. Major : 1 Minor: 5\n",
      "I0000 00:00:1713927903.762516   49811 gl_context.cc:357] GL version: 3.2 (OpenGL ES 3.2 NVIDIA 535.171.04), renderer: NVIDIA GeForce GTX 1080 Ti/PCIe/SSE2\n",
      "I0000 00:00:1713927905.902132   48388 gl_context_egl.cc:85] Successfully initialized EGL. Major : 1 Minor: 5\n",
      "I0000 00:00:1713927905.910241   49836 gl_context.cc:357] GL version: 3.2 (OpenGL ES 3.2 NVIDIA 535.171.04), renderer: NVIDIA GeForce GTX 1080 Ti/PCIe/SSE2\n",
      "I0000 00:00:1713927907.025584   48388 gl_context_egl.cc:85] Successfully initialized EGL. Major : 1 Minor: 5\n",
      "I0000 00:00:1713927907.033103   49861 gl_context.cc:357] GL version: 3.2 (OpenGL ES 3.2 NVIDIA 535.171.04), renderer: NVIDIA GeForce GTX 1080 Ti/PCIe/SSE2\n",
      "I0000 00:00:1713927908.037127   48388 gl_context_egl.cc:85] Successfully initialized EGL. Major : 1 Minor: 5\n",
      "I0000 00:00:1713927908.044307   49886 gl_context.cc:357] GL version: 3.2 (OpenGL ES 3.2 NVIDIA 535.171.04), renderer: NVIDIA GeForce GTX 1080 Ti/PCIe/SSE2\n",
      "I0000 00:00:1713927911.003736   48388 gl_context_egl.cc:85] Successfully initialized EGL. Major : 1 Minor: 5\n",
      "I0000 00:00:1713927911.012232   49911 gl_context.cc:357] GL version: 3.2 (OpenGL ES 3.2 NVIDIA 535.171.04), renderer: NVIDIA GeForce GTX 1080 Ti/PCIe/SSE2\n",
      "I0000 00:00:1713927913.778074   48388 gl_context_egl.cc:85] Successfully initialized EGL. Major : 1 Minor: 5\n",
      "I0000 00:00:1713927913.785671   49936 gl_context.cc:357] GL version: 3.2 (OpenGL ES 3.2 NVIDIA 535.171.04), renderer: NVIDIA GeForce GTX 1080 Ti/PCIe/SSE2\n",
      "I0000 00:00:1713927916.390255   48388 gl_context_egl.cc:85] Successfully initialized EGL. Major : 1 Minor: 5\n",
      "I0000 00:00:1713927916.398283   49961 gl_context.cc:357] GL version: 3.2 (OpenGL ES 3.2 NVIDIA 535.171.04), renderer: NVIDIA GeForce GTX 1080 Ti/PCIe/SSE2\n",
      "I0000 00:00:1713927917.965554   48388 gl_context_egl.cc:85] Successfully initialized EGL. Major : 1 Minor: 5\n",
      "I0000 00:00:1713927917.974194   49986 gl_context.cc:357] GL version: 3.2 (OpenGL ES 3.2 NVIDIA 535.171.04), renderer: NVIDIA GeForce GTX 1080 Ti/PCIe/SSE2\n",
      "I0000 00:00:1713927919.129829   48388 gl_context_egl.cc:85] Successfully initialized EGL. Major : 1 Minor: 5\n",
      "I0000 00:00:1713927919.137413   50011 gl_context.cc:357] GL version: 3.2 (OpenGL ES 3.2 NVIDIA 535.171.04), renderer: NVIDIA GeForce GTX 1080 Ti/PCIe/SSE2\n",
      "I0000 00:00:1713927922.834330   48388 gl_context_egl.cc:85] Successfully initialized EGL. Major : 1 Minor: 5\n",
      "I0000 00:00:1713927922.842136   50036 gl_context.cc:357] GL version: 3.2 (OpenGL ES 3.2 NVIDIA 535.171.04), renderer: NVIDIA GeForce GTX 1080 Ti/PCIe/SSE2\n",
      "I0000 00:00:1713927923.699036   48388 gl_context_egl.cc:85] Successfully initialized EGL. Major : 1 Minor: 5\n",
      "I0000 00:00:1713927923.706342   50061 gl_context.cc:357] GL version: 3.2 (OpenGL ES 3.2 NVIDIA 535.171.04), renderer: NVIDIA GeForce GTX 1080 Ti/PCIe/SSE2\n",
      "I0000 00:00:1713927927.954915   48388 gl_context_egl.cc:85] Successfully initialized EGL. Major : 1 Minor: 5\n",
      "I0000 00:00:1713927927.962859   50086 gl_context.cc:357] GL version: 3.2 (OpenGL ES 3.2 NVIDIA 535.171.04), renderer: NVIDIA GeForce GTX 1080 Ti/PCIe/SSE2\n",
      "I0000 00:00:1713927930.021159   48388 gl_context_egl.cc:85] Successfully initialized EGL. Major : 1 Minor: 5\n",
      "I0000 00:00:1713927930.030419   50111 gl_context.cc:357] GL version: 3.2 (OpenGL ES 3.2 NVIDIA 535.171.04), renderer: NVIDIA GeForce GTX 1080 Ti/PCIe/SSE2\n",
      "I0000 00:00:1713927932.750354   48388 gl_context_egl.cc:85] Successfully initialized EGL. Major : 1 Minor: 5\n",
      "I0000 00:00:1713927932.758231   50136 gl_context.cc:357] GL version: 3.2 (OpenGL ES 3.2 NVIDIA 535.171.04), renderer: NVIDIA GeForce GTX 1080 Ti/PCIe/SSE2\n",
      "I0000 00:00:1713927935.511528   48388 gl_context_egl.cc:85] Successfully initialized EGL. Major : 1 Minor: 5\n",
      "I0000 00:00:1713927935.520216   50161 gl_context.cc:357] GL version: 3.2 (OpenGL ES 3.2 NVIDIA 535.171.04), renderer: NVIDIA GeForce GTX 1080 Ti/PCIe/SSE2\n",
      "I0000 00:00:1713927937.026753   48388 gl_context_egl.cc:85] Successfully initialized EGL. Major : 1 Minor: 5\n",
      "I0000 00:00:1713927937.035160   50186 gl_context.cc:357] GL version: 3.2 (OpenGL ES 3.2 NVIDIA 535.171.04), renderer: NVIDIA GeForce GTX 1080 Ti/PCIe/SSE2\n",
      "I0000 00:00:1713927939.538191   48388 gl_context_egl.cc:85] Successfully initialized EGL. Major : 1 Minor: 5\n",
      "I0000 00:00:1713927939.546101   50211 gl_context.cc:357] GL version: 3.2 (OpenGL ES 3.2 NVIDIA 535.171.04), renderer: NVIDIA GeForce GTX 1080 Ti/PCIe/SSE2\n",
      "I0000 00:00:1713927940.345152   48388 gl_context_egl.cc:85] Successfully initialized EGL. Major : 1 Minor: 5\n",
      "I0000 00:00:1713927940.353014   50236 gl_context.cc:357] GL version: 3.2 (OpenGL ES 3.2 NVIDIA 535.171.04), renderer: NVIDIA GeForce GTX 1080 Ti/PCIe/SSE2\n",
      "I0000 00:00:1713927941.331363   48388 gl_context_egl.cc:85] Successfully initialized EGL. Major : 1 Minor: 5\n",
      "I0000 00:00:1713927941.339253   50261 gl_context.cc:357] GL version: 3.2 (OpenGL ES 3.2 NVIDIA 535.171.04), renderer: NVIDIA GeForce GTX 1080 Ti/PCIe/SSE2\n",
      "I0000 00:00:1713927943.319488   48388 gl_context_egl.cc:85] Successfully initialized EGL. Major : 1 Minor: 5\n",
      "I0000 00:00:1713927943.327670   50286 gl_context.cc:357] GL version: 3.2 (OpenGL ES 3.2 NVIDIA 535.171.04), renderer: NVIDIA GeForce GTX 1080 Ti/PCIe/SSE2\n",
      "I0000 00:00:1713927947.317030   48388 gl_context_egl.cc:85] Successfully initialized EGL. Major : 1 Minor: 5\n",
      "I0000 00:00:1713927947.325181   50314 gl_context.cc:357] GL version: 3.2 (OpenGL ES 3.2 NVIDIA 535.171.04), renderer: NVIDIA GeForce GTX 1080 Ti/PCIe/SSE2\n",
      "I0000 00:00:1713927948.907510   48388 gl_context_egl.cc:85] Successfully initialized EGL. Major : 1 Minor: 5\n",
      "I0000 00:00:1713927948.916929   50339 gl_context.cc:357] GL version: 3.2 (OpenGL ES 3.2 NVIDIA 535.171.04), renderer: NVIDIA GeForce GTX 1080 Ti/PCIe/SSE2\n",
      "I0000 00:00:1713927951.159188   48388 gl_context_egl.cc:85] Successfully initialized EGL. Major : 1 Minor: 5\n",
      "I0000 00:00:1713927951.167607   50364 gl_context.cc:357] GL version: 3.2 (OpenGL ES 3.2 NVIDIA 535.171.04), renderer: NVIDIA GeForce GTX 1080 Ti/PCIe/SSE2\n",
      "I0000 00:00:1713927953.208384   48388 gl_context_egl.cc:85] Successfully initialized EGL. Major : 1 Minor: 5\n",
      "I0000 00:00:1713927953.216365   50389 gl_context.cc:357] GL version: 3.2 (OpenGL ES 3.2 NVIDIA 535.171.04), renderer: NVIDIA GeForce GTX 1080 Ti/PCIe/SSE2\n",
      "I0000 00:00:1713927956.000143   48388 gl_context_egl.cc:85] Successfully initialized EGL. Major : 1 Minor: 5\n",
      "I0000 00:00:1713927956.008677   50414 gl_context.cc:357] GL version: 3.2 (OpenGL ES 3.2 NVIDIA 535.171.04), renderer: NVIDIA GeForce GTX 1080 Ti/PCIe/SSE2\n",
      "I0000 00:00:1713927957.586267   48388 gl_context_egl.cc:85] Successfully initialized EGL. Major : 1 Minor: 5\n",
      "I0000 00:00:1713927957.595613   50439 gl_context.cc:357] GL version: 3.2 (OpenGL ES 3.2 NVIDIA 535.171.04), renderer: NVIDIA GeForce GTX 1080 Ti/PCIe/SSE2\n",
      "I0000 00:00:1713927959.558253   48388 gl_context_egl.cc:85] Successfully initialized EGL. Major : 1 Minor: 5\n",
      "I0000 00:00:1713927959.575071   50464 gl_context.cc:357] GL version: 3.2 (OpenGL ES 3.2 NVIDIA 535.171.04), renderer: NVIDIA GeForce GTX 1080 Ti/PCIe/SSE2\n",
      "I0000 00:00:1713927963.711499   48388 gl_context_egl.cc:85] Successfully initialized EGL. Major : 1 Minor: 5\n",
      "I0000 00:00:1713927963.728621   50489 gl_context.cc:357] GL version: 3.2 (OpenGL ES 3.2 NVIDIA 535.171.04), renderer: NVIDIA GeForce GTX 1080 Ti/PCIe/SSE2\n",
      "I0000 00:00:1713927966.549180   48388 gl_context_egl.cc:85] Successfully initialized EGL. Major : 1 Minor: 5\n",
      "I0000 00:00:1713927966.565780   50514 gl_context.cc:357] GL version: 3.2 (OpenGL ES 3.2 NVIDIA 535.171.04), renderer: NVIDIA GeForce GTX 1080 Ti/PCIe/SSE2\n",
      "I0000 00:00:1713927969.281933   48388 gl_context_egl.cc:85] Successfully initialized EGL. Major : 1 Minor: 5\n",
      "I0000 00:00:1713927969.299696   50539 gl_context.cc:357] GL version: 3.2 (OpenGL ES 3.2 NVIDIA 535.171.04), renderer: NVIDIA GeForce GTX 1080 Ti/PCIe/SSE2\n",
      "I0000 00:00:1713927971.878149   48388 gl_context_egl.cc:85] Successfully initialized EGL. Major : 1 Minor: 5\n",
      "I0000 00:00:1713927971.928041   50564 gl_context.cc:357] GL version: 3.2 (OpenGL ES 3.2 NVIDIA 535.171.04), renderer: NVIDIA GeForce GTX 1080 Ti/PCIe/SSE2\n",
      "I0000 00:00:1713927973.197792   48388 gl_context_egl.cc:85] Successfully initialized EGL. Major : 1 Minor: 5\n",
      "I0000 00:00:1713927973.215196   50589 gl_context.cc:357] GL version: 3.2 (OpenGL ES 3.2 NVIDIA 535.171.04), renderer: NVIDIA GeForce GTX 1080 Ti/PCIe/SSE2\n",
      "I0000 00:00:1713927975.897256   48388 gl_context_egl.cc:85] Successfully initialized EGL. Major : 1 Minor: 5\n",
      "I0000 00:00:1713927975.914094   50614 gl_context.cc:357] GL version: 3.2 (OpenGL ES 3.2 NVIDIA 535.171.04), renderer: NVIDIA GeForce GTX 1080 Ti/PCIe/SSE2\n",
      "I0000 00:00:1713927978.386499   48388 gl_context_egl.cc:85] Successfully initialized EGL. Major : 1 Minor: 5\n",
      "I0000 00:00:1713927978.403831   50639 gl_context.cc:357] GL version: 3.2 (OpenGL ES 3.2 NVIDIA 535.171.04), renderer: NVIDIA GeForce GTX 1080 Ti/PCIe/SSE2\n",
      "I0000 00:00:1713927982.527780   48388 gl_context_egl.cc:85] Successfully initialized EGL. Major : 1 Minor: 5\n",
      "I0000 00:00:1713927982.544439   50664 gl_context.cc:357] GL version: 3.2 (OpenGL ES 3.2 NVIDIA 535.171.04), renderer: NVIDIA GeForce GTX 1080 Ti/PCIe/SSE2\n",
      "I0000 00:00:1713927984.260467   48388 gl_context_egl.cc:85] Successfully initialized EGL. Major : 1 Minor: 5\n",
      "I0000 00:00:1713927984.277864   50689 gl_context.cc:357] GL version: 3.2 (OpenGL ES 3.2 NVIDIA 535.171.04), renderer: NVIDIA GeForce GTX 1080 Ti/PCIe/SSE2\n",
      "I0000 00:00:1713927986.891811   48388 gl_context_egl.cc:85] Successfully initialized EGL. Major : 1 Minor: 5\n",
      "I0000 00:00:1713927986.908978   50714 gl_context.cc:357] GL version: 3.2 (OpenGL ES 3.2 NVIDIA 535.171.04), renderer: NVIDIA GeForce GTX 1080 Ti/PCIe/SSE2\n",
      "I0000 00:00:1713927989.731062   48388 gl_context_egl.cc:85] Successfully initialized EGL. Major : 1 Minor: 5\n",
      "I0000 00:00:1713927989.748502   50739 gl_context.cc:357] GL version: 3.2 (OpenGL ES 3.2 NVIDIA 535.171.04), renderer: NVIDIA GeForce GTX 1080 Ti/PCIe/SSE2\n"
     ]
    }
   ],
   "source": [
    "# 영상 데이터에서 mp pose landmark dot 데이터 추출 부분\n",
    "raw_data = []\n",
    "\n",
    "for video_name in os.listdir(video_path):\n",
    "    if int(video_name.split('_')[2][:2]) >= 30: # video name 참조\n",
    "        if video_name.split('_')[1] == 'normal': label = 0\n",
    "        else: label = 1\n",
    "        skel_data_n, skel_data_f = get_skeleton('{}/{}'.format(video_path, video_name), attention_dot, draw_line)\n",
    "        if skel_data_n != False:\n",
    "\n",
    "            seq_list_n = skel_data_n[:30]\n",
    "            seq_list_f = skel_data_f[:30]\n",
    "            raw_data.append({'key':label, 'value':seq_list_n})\n",
    "            raw_data.append({'key':label, 'value':seq_list_f})\n",
    "random.shuffle(raw_data)\n"
   ]
  },
  {
   "cell_type": "code",
   "execution_count": 9,
   "id": "834d2d20-27df-4627-9c47-2a94766b063d",
   "metadata": {},
   "outputs": [],
   "source": [
    "# raw_data에 폴더 별로(약 100개) 랜드마크 추출해서 pickle 파일로 저장해놓기 \n",
    "import pickle\n",
    "raw_data = []\n",
    "with open(\"data5.pickle\",\"wb\") as f:\n",
    "    pickle.dump(raw_data, f)"
   ]
  },
  {
   "cell_type": "code",
   "execution_count": 62,
   "id": "c1b76cc5-e4dc-4828-b550-80c285400a5a",
   "metadata": {},
   "outputs": [],
   "source": [
    "# 저장한 pickle 파일 불러와 병합하기 \n",
    "for i in range(1, 6):\n",
    "    with open(\"data\" + str(i) + \".pickle\", \"rb\") as f:\n",
    "        raw_data += pickle.load(f)   "
   ]
  },
  {
   "cell_type": "code",
   "execution_count": 63,
   "id": "532ab900-24b0-4bf9-b4fb-33acb1a82485",
   "metadata": {},
   "outputs": [
    {
     "name": "stdout",
     "output_type": "stream",
     "text": [
      "806\n"
     ]
    }
   ],
   "source": [
    "print(len(raw_data))\n",
    "# dataset 길이 출력"
   ]
  },
  {
   "cell_type": "code",
   "execution_count": 64,
   "id": "472ea161-66b0-407a-89b7-8a420e7795f5",
   "metadata": {},
   "outputs": [],
   "source": [
    "# raw_data 셔플 \n",
    "random.shuffle(raw_data)"
   ]
  },
  {
   "cell_type": "code",
   "execution_count": 65,
   "id": "7f60cda9-cbec-4b34-8898-97f085439da0",
   "metadata": {},
   "outputs": [
    {
     "name": "stdout",
     "output_type": "stream",
     "text": [
      "normal data: 382 | abnormal data: 424\n"
     ]
    }
   ],
   "source": [
    "# normal, abnormal 데이터 개수 확인 \n",
    "nd = 0\n",
    "ad = 0\n",
    "for i in range(len(raw_data)):\n",
    "    if raw_data[i]['key'] == 0:\n",
    "        nd += 1\n",
    "    else:\n",
    "        ad += 1\n",
    "print('normal data:', nd, '| abnormal data:', ad)"
   ]
  },
  {
   "cell_type": "markdown",
   "id": "269f9e8e-45f5-40ea-9d11-31b55cd1c56d",
   "metadata": {},
   "source": [
    "## 모델링"
   ]
  },
  {
   "cell_type": "code",
   "execution_count": null,
   "id": "75362bfb",
   "metadata": {},
   "outputs": [],
   "source": [
    "import torch\n",
    "import torch.nn as nn\n",
    "import torch.optim as optim\n",
    "import torch.nn.functional as F\n",
    "from torch.cuda import memory_allocated, empty_cache\n",
    "from torch.optim import Adam\n",
    "from torch.utils.data import random_split\n",
    "from torch.utils.data import Dataset, DataLoader"
   ]
  },
  {
   "cell_type": "code",
   "execution_count": 60,
   "id": "5f18e703-6fd0-4502-adff-6cef550c9ab7",
   "metadata": {},
   "outputs": [
    {
     "data": {
      "text/plain": [
       "device(type='cuda')"
      ]
     },
     "execution_count": 60,
     "metadata": {},
     "output_type": "execute_result"
    }
   ],
   "source": [
    "device = torch.device('cuda' if torch.cuda.is_available() else 'cpu')\n",
    "device"
   ]
  },
  {
   "cell_type": "code",
   "execution_count": 66,
   "id": "f50611bf-057d-4c6e-8b2f-5f6585b7f64e",
   "metadata": {},
   "outputs": [],
   "source": [
    "# MediaPipe로 제작한 데이터 셋(raw_data)을 Tensor 형식으로 변환할 수 있도록 class 설정\n",
    "class MyDataset(Dataset):\n",
    "    def __init__(self, seq_list):  #seq_list는 딕셔너리의 리스트로 구성\n",
    "        self.X = []\n",
    "        self.y = []\n",
    "        for dic in seq_list :\n",
    "            self.y.append(dic['key'])\n",
    "            self.X.append(dic['value'])\n",
    "\n",
    "    def __getitem__(self, index): #__getitem__: 이 메서드는 주어진 인덱스에 해당하는 데이터를 반환, torch.Tensor 형식으로 입력 데이터와 라벨을 반환\n",
    "        data = self.X[index]\n",
    "        label = self.y[index]\n",
    "        return torch.Tensor(np.array(data)), torch.tensor(np.array(int(label)))\n",
    "\n",
    "    def __len__(self):\n",
    "        return len(self.X)"
   ]
  },
  {
   "cell_type": "code",
   "execution_count": 67,
   "id": "a4fbc67e-dcc1-42f2-8285-79847dc82d88",
   "metadata": {},
   "outputs": [
    {
     "name": "stdout",
     "output_type": "stream",
     "text": [
      "644, 80, 82\n"
     ]
    }
   ],
   "source": [
    "# # raw_data에 들어간 영상별 랜드마크 데이터 train, validation, test set 으로 split\n",
    "split_ratio = [0.8, 0.1, 0.1]\n",
    "train_len = int(len(raw_data) * split_ratio[0])\n",
    "val_len = int(len(raw_data) * split_ratio[1])\n",
    "test_len = len(raw_data) - train_len - val_len\n",
    "\n",
    "print('{}, {}, {}'.format(train_len, val_len, test_len))"
   ]
  },
  {
   "cell_type": "code",
   "execution_count": 68,
   "id": "52ea1e98-ece1-4281-ad6a-35d80637d3b2",
   "metadata": {},
   "outputs": [],
   "source": [
    "train_dataset = MyDataset(raw_data) \n",
    "train_data, valid_data, test_data = random_split(train_dataset, [train_len, val_len, test_len]) \n",
    "\n",
    "train_loader = DataLoader(train_data, batch_size=BATCH_SIZE)\n",
    "val_loader = DataLoader(valid_data, batch_size=BATCH_SIZE)\n",
    "test_loader = DataLoader(test_data, batch_size=BATCH_SIZE)"
   ]
  },
  {
   "cell_type": "code",
   "execution_count": 69,
   "id": "c2e52c7f-d583-4dec-ae08-30b1c927e4ee",
   "metadata": {},
   "outputs": [],
   "source": [
    "# LSTM\n",
    "class skeleton_LSTM(nn.Module):\n",
    "    def __init__(self):\n",
    "        super(skeleton_LSTM, self).__init__()\n",
    "        self.lstm1 = nn.LSTM(input_size=len(attention_dot) * 2, hidden_size=128, num_layers=NUM_LAYERS, batch_first=True)\n",
    "        self.lstm2 = nn.LSTM(input_size=128, hidden_size=256, num_layers=NUM_LAYERS, batch_first=True)\n",
    "        self.lstm3 = nn.LSTM(input_size=256, hidden_size=512, num_layers=NUM_LAYERS, batch_first=True)\n",
    "        self.dropout1 = nn.Dropout(0.1)\n",
    "        self.lstm4 = nn.LSTM(input_size=512, hidden_size=256, num_layers=NUM_LAYERS, batch_first=True)\n",
    "        self.lstm5 = nn.LSTM(input_size=256, hidden_size=128, num_layers=NUM_LAYERS, batch_first=True)\n",
    "        self.lstm6 = nn.LSTM(input_size=128, hidden_size=64, num_layers=NUM_LAYERS, batch_first=True)\n",
    "        self.dropout2 = nn.Dropout(0.1)\n",
    "        self.lstm7 = nn.LSTM(input_size=64, hidden_size=32, num_layers=NUM_LAYERS, batch_first=True)\n",
    "        self.fc = nn.Linear(32,2)\n",
    "\n",
    "    def forward(self, x) :\n",
    "        x, _ = self.lstm1(x)\n",
    "        x, _ = self.lstm2(x)\n",
    "        x, _ = self.lstm3(x)\n",
    "        x = self.dropout1(x)\n",
    "        x, _ = self.lstm4(x)\n",
    "        x, _ = self.lstm5(x)\n",
    "        x, _ = self.lstm6(x)\n",
    "        x = self.dropout2(x)\n",
    "        x, _ = self.lstm7(x)\n",
    "        x = self.fc(x[:,-1,:]) # x[배치 크기, 시퀀스 길이, 은닉 상태 크기], [:, -1, :] -> 마지막 시간 단계만 선택\n",
    "\n",
    "        return x"
   ]
  },
  {
   "cell_type": "code",
   "execution_count": 70,
   "id": "e539733b-1516-4b17-8b6b-4c824446961a",
   "metadata": {},
   "outputs": [],
   "source": [
    "# 모델 초기화\n",
    "import matplotlib.pyplot as plt\n",
    "def init_model():\n",
    "    global net, loss_fn, optim\n",
    "    plt.rc('font', size = 10)\n",
    "    net = skeleton_LSTM().to(device)\n",
    "    loss_fn = nn.CrossEntropyLoss()\n",
    "    optim = Adam(net.parameters(), lr=0.0001)\n",
    "    \n",
    "# epoch 카운터 초기화\n",
    "def init_epoch():\n",
    "    global epoch_cnt\n",
    "    epoch_cnt = 0\n",
    "\n",
    "# 모든 Log를 초기화\n",
    "def init_log():\n",
    "    global log_stack, iter_log, tloss_log, tacc_log, vloss_log, vacc_log, time_log\n",
    "    plt.rc('font', size = 10)\n",
    "    iter_log, tloss_log, tacc_log, vloss_log, vacc_log = [], [], [], [], []\n",
    "    time_log, log_stack = [], []"
   ]
  },
  {
   "cell_type": "code",
   "execution_count": 71,
   "id": "5d3d981d-4353-45e1-a9ed-24ec74b05354",
   "metadata": {},
   "outputs": [],
   "source": [
    "# 학습추이 그래프\n",
    "def record_train_log(_tloss, _tacc, _time):\n",
    "    # Train Log 기록\n",
    "    time_log.append(_time)\n",
    "    tloss_log.append(_tloss)\n",
    "    tacc_log.append(_tacc)\n",
    "    iter_log.append(epoch_cnt)\n",
    "\n",
    "def record_valid_log(_vloss, _vacc):\n",
    "    # Validation Log 기록\n",
    "    vloss_log.append(_vloss)\n",
    "    vacc_log.append(_vacc)\n",
    "\n",
    "def last(log_list):\n",
    "    # last 안의 마지막 숫자를 반환(print_log 함수에서 사용)\n",
    "    if len(log_list) > 0:\n",
    "        return log_list[len(log_list) - 1]\n",
    "    else:\n",
    "        return -1\n",
    "\n",
    "from IPython.display import Image, clear_output\n",
    "def print_log():\n",
    "    # 학습 추이 출력 : 소숫점 3자리까지\n",
    "    train_loss = round(float(last(tloss_log)), 3)\n",
    "    train_acc = round(float(last(tacc_log)), 3)\n",
    "    val_loss = round(float(last(vloss_log)), 3)\n",
    "    val_acc = round(float(last(vacc_log)), 3)\n",
    "    time_spent = round(float(last(time_log)), 3)\n",
    "\n",
    "    log_str = 'Epoch: {:3} | T_Loss {:5} | T_Acc {:5} | V_Loss {:5} | V_Acc {:5} | {:5}'.format(last(iter_log), train_loss, train_acc, val_loss, val_acc, time_spent)\n",
    "\n",
    "    log_stack.append(log_str)\n",
    "    \n",
    "    # 학습 추이 그래프 출력\n",
    "    hist_fig, loss_axis = plt.subplots(figsize=(10, 3), dpi=99)\n",
    "    hist_fig.patch.set_facecolor('white')\n",
    "\n",
    "    # Loss Line 구성\n",
    "    loss_t_line = plt.plot(iter_log, tloss_log, label='Train_Loss', color='red', marker='o')\n",
    "    loss_v_line = plt.plot(iter_log, vloss_log, label='Valid_Loss', color='blue', marker='s')\n",
    "    loss_axis.set_xlabel('epoch')\n",
    "    loss_axis.set_ylabel('loss')\n",
    "\n",
    "    # Acc, Line 구성\n",
    "    acc_axis = loss_axis.twinx()\n",
    "    acc_t_line = acc_axis.plot(iter_log, tacc_log, label='Train_Acc', color='red', marker='+')\n",
    "    acc_v_line = acc_axis.plot(iter_log, vacc_log, label='Valid_Acc', color='blue', marker='x')\n",
    "    acc_axis.set_ylabel('accuracy')\n",
    "\n",
    "    # 그래프 출력\n",
    "    hist_lines = loss_t_line + loss_v_line + acc_t_line + acc_v_line\n",
    "    loss_axis.legend(hist_lines, [l.get_label() for l in hist_lines])\n",
    "    loss_axis.grid()\n",
    "    plt.title('Learning history until epoch {}'.format(last(iter_log)))\n",
    "    plt.draw()\n",
    "\n",
    "    # 텍스트 로그 출력\n",
    "    clear_output(wait=True)\n",
    "    plt.show()\n",
    "    for idx in reversed(range(len(log_stack))):\n",
    "        print(log_stack[idx])"
   ]
  },
  {
   "cell_type": "code",
   "execution_count": 72,
   "id": "05b1f8f4-f532-4046-a48a-5fffc9bc3f87",
   "metadata": {},
   "outputs": [],
   "source": [
    "def clear_memory():\n",
    "    if device != 'cpu':\n",
    "        empty_cache()\n",
    "    gc.collect()\n",
    "\n",
    "# 학습 알고리즘 #\n",
    "def epoch(data_loader, mode = 'train'):\n",
    "    global epoch_cnt\n",
    "\n",
    "    # 사용되는 변수 초기화\n",
    "    iter_loss, iter_acc, last_grad_performed = [], [], False\n",
    "\n",
    "    # 1 iteration 학습 알고리즘(for문을 나오면 1 epoch 완료)\n",
    "    for _data, _label in data_loader:\n",
    "        data, label = _data.to(device), _label.type(torch.LongTensor).to(device)\n",
    "\n",
    "        # 1. Feed-forward\n",
    "        if mode == 'train':\n",
    "            net.train()\n",
    "        else:\n",
    "            # 학습때만 쓰이는 Dropout, Batch Mormalization을 미사용\n",
    "            net.eval()\n",
    "\n",
    "        result = net(data) # 1 Batch에 대한 결과가 모든 Class에 대한 확률값으로\n",
    "        _, out = torch.max(result, 1) # result에서 최대 확률값을 기준으로 예측 class 도출( _ : 값 부분은 필요 없음, out : index 중 가장 큰 하나의 데이터)\n",
    "\n",
    "        # 2. Loss 계산\n",
    "        loss = loss_fn(result, label) # GT 와 Label 비교하여 Loss 산정\n",
    "        iter_loss.append(loss.item()) # 학습 추이를 위하여 Loss를 기록\n",
    "\n",
    "        # 3. 역전파 학습 후 Gradient Descent\n",
    "        if mode == 'train':\n",
    "            optim.zero_grad() # 미분을 통해 얻은 기울기를 초기화 for 다음 epoch\n",
    "            loss.backward() # 역전파 학습\n",
    "            optim.step() # Gradient Descent 수행\n",
    "            last_grad_performed = True # for문을 나가면 epoch 카운터 += 1\n",
    "\n",
    "        # 4. 정확도 계산\n",
    "        acc_partial = (out == label).float().sum() # GT == Label 인 개수 / 예측값(out)과 실제 라벨(label)이 일치하는 경우를 찾음\n",
    "        acc_partial = acc_partial / len(label) # ( TP / (TP + TM)) 해서 정확도 산출\n",
    "        iter_acc.append(acc_partial.item()) # 학습 추이를 위하여 Acc. 기록\n",
    "\n",
    "    # 역전파 학습 후 Epoch 카운터 += 1\n",
    "    if last_grad_performed:\n",
    "        epoch_cnt += 1\n",
    "\n",
    "    clear_memory()\n",
    "\n",
    "    # loss와 acc의 평균값 for 학습추이 그래프, 모든 GT와 Label 값 for 컨퓨전 매트릭스\n",
    "    return np.average(iter_loss), np.average(iter_acc)\n",
    "\n",
    "def epoch_not_finished():\n",
    "    # 에폭이 끝남을 알림\n",
    "    return epoch_cnt < maximum_epoch"
   ]
  },
  {
   "cell_type": "markdown",
   "id": "32eaef23-f586-4ce8-ac84-00dcc9f85db3",
   "metadata": {},
   "source": [
    "## LSTM 모델 학습"
   ]
  },
  {
   "cell_type": "code",
   "execution_count": 73,
   "id": "f031f7b6-9d59-4d00-b005-3244c61b32f4",
   "metadata": {},
   "outputs": [
    {
     "name": "stdout",
     "output_type": "stream",
     "text": [
      "Epoch: 200 | T_Loss 0.692 | T_Acc  0.53 | V_Loss   0.7 | V_Acc 0.454 | 2.778\n",
      "Epoch: 199 | T_Loss 0.692 | T_Acc  0.53 | V_Loss   0.7 | V_Acc 0.454 | 2.744\n",
      "Epoch: 198 | T_Loss 0.692 | T_Acc  0.53 | V_Loss   0.7 | V_Acc 0.454 | 2.737\n",
      "Epoch: 197 | T_Loss 0.692 | T_Acc  0.53 | V_Loss   0.7 | V_Acc 0.454 | 2.749\n",
      "Epoch: 196 | T_Loss 0.692 | T_Acc  0.53 | V_Loss   0.7 | V_Acc 0.454 | 2.738\n",
      "Epoch: 195 | T_Loss 0.692 | T_Acc  0.53 | V_Loss   0.7 | V_Acc 0.454 | 2.743\n",
      "Epoch: 194 | T_Loss 0.692 | T_Acc  0.53 | V_Loss   0.7 | V_Acc 0.454 | 2.734\n",
      "Epoch: 193 | T_Loss 0.692 | T_Acc  0.53 | V_Loss   0.7 | V_Acc 0.454 | 2.743\n",
      "Epoch: 192 | T_Loss 0.692 | T_Acc  0.53 | V_Loss   0.7 | V_Acc 0.454 |  2.75\n",
      "Epoch: 191 | T_Loss 0.691 | T_Acc  0.53 | V_Loss   0.7 | V_Acc 0.454 | 2.759\n",
      "Epoch: 190 | T_Loss 0.692 | T_Acc  0.53 | V_Loss   0.7 | V_Acc 0.454 | 2.722\n",
      "Epoch: 189 | T_Loss 0.692 | T_Acc  0.53 | V_Loss 0.699 | V_Acc 0.454 | 2.723\n",
      "Epoch: 188 | T_Loss 0.692 | T_Acc  0.53 | V_Loss 0.699 | V_Acc 0.454 | 2.719\n",
      "Epoch: 187 | T_Loss 0.691 | T_Acc  0.53 | V_Loss 0.699 | V_Acc 0.454 | 2.725\n",
      "Epoch: 186 | T_Loss 0.692 | T_Acc  0.53 | V_Loss 0.699 | V_Acc 0.454 | 2.721\n",
      "Epoch: 185 | T_Loss 0.691 | T_Acc  0.53 | V_Loss 0.699 | V_Acc 0.454 | 2.722\n",
      "Epoch: 184 | T_Loss 0.693 | T_Acc  0.53 | V_Loss 0.699 | V_Acc 0.454 | 2.722\n",
      "Epoch: 183 | T_Loss 0.693 | T_Acc   0.5 | V_Loss 0.696 | V_Acc 0.454 | 2.736\n",
      "Epoch: 182 | T_Loss 0.691 | T_Acc 0.491 | V_Loss 0.692 | V_Acc 0.546 | 2.747\n",
      "Epoch: 181 | T_Loss  0.68 | T_Acc 0.517 | V_Loss 0.683 | V_Acc 0.597 | 2.707\n",
      "Epoch: 180 | T_Loss 0.694 | T_Acc 0.523 | V_Loss 0.694 | V_Acc 0.429 | 2.715\n",
      "Epoch: 179 | T_Loss 0.684 | T_Acc 0.573 | V_Loss 0.692 | V_Acc 0.534 | 2.708\n",
      "Epoch: 178 | T_Loss  0.69 | T_Acc  0.54 | V_Loss 0.692 | V_Acc 0.512 | 2.698\n",
      "Epoch: 177 | T_Loss 0.687 | T_Acc 0.557 | V_Loss 0.703 | V_Acc  0.49 | 2.699\n",
      "Epoch: 176 | T_Loss 0.688 | T_Acc 0.621 | V_Loss 0.684 | V_Acc 0.565 | 2.698\n",
      "Epoch: 175 | T_Loss 0.704 | T_Acc 0.551 | V_Loss 0.684 | V_Acc 0.516 | 2.708\n",
      "Epoch: 174 | T_Loss 0.696 | T_Acc 0.526 | V_Loss 0.675 | V_Acc  0.49 | 2.713\n",
      "Epoch: 173 | T_Loss 0.688 | T_Acc 0.533 | V_Loss 0.679 | V_Acc  0.49 | 2.728\n",
      "Epoch: 172 | T_Loss 0.689 | T_Acc 0.533 | V_Loss 0.679 | V_Acc  0.49 | 2.689\n",
      "Epoch: 171 | T_Loss  0.69 | T_Acc 0.533 | V_Loss  0.68 | V_Acc  0.49 | 2.692\n",
      "Epoch: 170 | T_Loss  0.69 | T_Acc 0.533 | V_Loss  0.68 | V_Acc  0.49 | 2.683\n",
      "Epoch: 169 | T_Loss 0.689 | T_Acc 0.533 | V_Loss  0.68 | V_Acc  0.49 | 2.691\n",
      "Epoch: 168 | T_Loss  0.69 | T_Acc 0.533 | V_Loss 0.681 | V_Acc  0.49 | 2.679\n",
      "Epoch: 167 | T_Loss  0.69 | T_Acc 0.533 | V_Loss 0.681 | V_Acc  0.49 | 2.687\n",
      "Epoch: 166 | T_Loss  0.69 | T_Acc 0.533 | V_Loss 0.681 | V_Acc  0.49 | 2.685\n",
      "Epoch: 165 | T_Loss  0.69 | T_Acc 0.533 | V_Loss 0.681 | V_Acc  0.49 |   2.7\n",
      "Epoch: 164 | T_Loss  0.69 | T_Acc 0.533 | V_Loss 0.681 | V_Acc  0.49 | 2.713\n",
      "Epoch: 163 | T_Loss  0.69 | T_Acc 0.533 | V_Loss 0.681 | V_Acc  0.49 | 2.673\n",
      "Epoch: 162 | T_Loss 0.689 | T_Acc 0.533 | V_Loss 0.681 | V_Acc  0.49 | 2.675\n",
      "Epoch: 161 | T_Loss 0.689 | T_Acc 0.533 | V_Loss 0.681 | V_Acc  0.49 | 2.671\n",
      "Epoch: 160 | T_Loss  0.69 | T_Acc 0.533 | V_Loss 0.681 | V_Acc  0.49 |  2.67\n",
      "Epoch: 159 | T_Loss  0.69 | T_Acc 0.533 | V_Loss 0.681 | V_Acc  0.49 | 2.671\n",
      "Epoch: 158 | T_Loss  0.69 | T_Acc 0.533 | V_Loss 0.682 | V_Acc  0.49 |  2.66\n",
      "Epoch: 157 | T_Loss  0.69 | T_Acc 0.533 | V_Loss 0.682 | V_Acc  0.49 | 2.673\n",
      "Epoch: 156 | T_Loss  0.69 | T_Acc 0.533 | V_Loss 0.682 | V_Acc  0.49 | 2.688\n",
      "Epoch: 155 | T_Loss 0.689 | T_Acc 0.533 | V_Loss 0.682 | V_Acc  0.49 | 2.701\n",
      "Epoch: 154 | T_Loss  0.69 | T_Acc 0.533 | V_Loss 0.682 | V_Acc  0.49 | 2.659\n",
      "Epoch: 153 | T_Loss  0.69 | T_Acc 0.533 | V_Loss 0.682 | V_Acc  0.49 | 2.659\n",
      "Epoch: 152 | T_Loss  0.69 | T_Acc 0.533 | V_Loss 0.682 | V_Acc  0.49 | 2.654\n",
      "Epoch: 151 | T_Loss  0.69 | T_Acc 0.533 | V_Loss 0.682 | V_Acc  0.49 | 2.649\n",
      "Epoch: 150 | T_Loss  0.69 | T_Acc 0.533 | V_Loss 0.683 | V_Acc  0.49 | 2.649\n",
      "Epoch: 149 | T_Loss  0.69 | T_Acc 0.533 | V_Loss 0.683 | V_Acc  0.49 |  2.65\n",
      "Epoch: 148 | T_Loss  0.69 | T_Acc 0.533 | V_Loss 0.683 | V_Acc  0.49 | 2.646\n",
      "Epoch: 147 | T_Loss  0.69 | T_Acc 0.533 | V_Loss 0.683 | V_Acc  0.49 | 2.651\n",
      "Epoch: 146 | T_Loss  0.69 | T_Acc 0.533 | V_Loss 0.683 | V_Acc  0.49 | 2.679\n",
      "Epoch: 145 | T_Loss  0.69 | T_Acc 0.533 | V_Loss 0.683 | V_Acc  0.49 | 2.638\n",
      "Epoch: 144 | T_Loss  0.69 | T_Acc 0.533 | V_Loss 0.684 | V_Acc  0.49 | 2.636\n",
      "Epoch: 143 | T_Loss  0.69 | T_Acc 0.533 | V_Loss 0.684 | V_Acc  0.49 | 2.633\n",
      "Epoch: 142 | T_Loss  0.69 | T_Acc 0.533 | V_Loss 0.684 | V_Acc  0.49 | 2.631\n",
      "Epoch: 141 | T_Loss  0.69 | T_Acc 0.533 | V_Loss 0.684 | V_Acc  0.49 |  2.63\n",
      "Epoch: 140 | T_Loss  0.69 | T_Acc 0.533 | V_Loss 0.684 | V_Acc  0.49 | 2.635\n",
      "Epoch: 139 | T_Loss  0.69 | T_Acc 0.533 | V_Loss 0.684 | V_Acc  0.49 | 2.636\n",
      "Epoch: 138 | T_Loss  0.69 | T_Acc 0.533 | V_Loss 0.685 | V_Acc  0.49 | 2.656\n",
      "Epoch: 137 | T_Loss  0.69 | T_Acc 0.533 | V_Loss 0.685 | V_Acc  0.49 |  2.66\n",
      "Epoch: 136 | T_Loss  0.69 | T_Acc 0.533 | V_Loss 0.685 | V_Acc  0.49 | 2.629\n",
      "Epoch: 135 | T_Loss  0.69 | T_Acc 0.533 | V_Loss 0.685 | V_Acc  0.49 | 2.622\n",
      "Epoch: 134 | T_Loss 0.691 | T_Acc 0.533 | V_Loss 0.685 | V_Acc  0.49 | 2.623\n",
      "Epoch: 133 | T_Loss 0.691 | T_Acc 0.533 | V_Loss 0.685 | V_Acc  0.49 | 2.615\n",
      "Epoch: 132 | T_Loss  0.69 | T_Acc 0.533 | V_Loss 0.686 | V_Acc  0.49 | 2.621\n",
      "Epoch: 131 | T_Loss 0.691 | T_Acc 0.533 | V_Loss 0.686 | V_Acc  0.49 | 2.614\n",
      "Epoch: 130 | T_Loss  0.69 | T_Acc 0.533 | V_Loss 0.686 | V_Acc  0.49 |  2.61\n",
      "Epoch: 129 | T_Loss  0.69 | T_Acc 0.533 | V_Loss 0.686 | V_Acc  0.49 | 2.606\n",
      "Epoch: 128 | T_Loss  0.69 | T_Acc 0.533 | V_Loss 0.687 | V_Acc  0.49 | 2.626\n",
      "Epoch: 127 | T_Loss 0.689 | T_Acc 0.534 | V_Loss 0.687 | V_Acc  0.49 | 2.606\n",
      "Epoch: 126 | T_Loss  0.69 | T_Acc 0.536 | V_Loss 0.696 | V_Acc 0.478 | 2.599\n",
      "Epoch: 125 | T_Loss 0.689 | T_Acc 0.536 | V_Loss 0.697 | V_Acc 0.478 | 2.596\n",
      "Epoch: 124 | T_Loss 0.688 | T_Acc 0.536 | V_Loss 0.697 | V_Acc 0.478 | 2.606\n",
      "Epoch: 123 | T_Loss 0.688 | T_Acc 0.536 | V_Loss 0.697 | V_Acc 0.478 | 2.595\n",
      "Epoch: 122 | T_Loss 0.689 | T_Acc 0.536 | V_Loss 0.697 | V_Acc 0.478 |  2.59\n",
      "Epoch: 121 | T_Loss 0.689 | T_Acc 0.536 | V_Loss 0.697 | V_Acc 0.478 | 2.599\n",
      "Epoch: 120 | T_Loss 0.689 | T_Acc 0.536 | V_Loss 0.697 | V_Acc 0.478 |  2.61\n",
      "Epoch: 119 | T_Loss 0.689 | T_Acc 0.536 | V_Loss 0.697 | V_Acc 0.478 | 2.617\n",
      "Epoch: 118 | T_Loss 0.689 | T_Acc 0.536 | V_Loss 0.698 | V_Acc 0.478 | 2.583\n",
      "Epoch: 117 | T_Loss 0.689 | T_Acc 0.536 | V_Loss 0.698 | V_Acc 0.478 | 2.583\n",
      "Epoch: 116 | T_Loss 0.689 | T_Acc 0.537 | V_Loss 0.698 | V_Acc 0.478 | 2.582\n",
      "Epoch: 115 | T_Loss 0.688 | T_Acc  0.54 | V_Loss 0.698 | V_Acc 0.478 |  2.58\n",
      "Epoch: 114 | T_Loss 0.688 | T_Acc  0.54 | V_Loss 0.697 | V_Acc 0.478 | 2.586\n",
      "Epoch: 113 | T_Loss 0.688 | T_Acc  0.54 | V_Loss 0.698 | V_Acc 0.478 | 2.583\n",
      "Epoch: 112 | T_Loss 0.688 | T_Acc  0.54 | V_Loss 0.698 | V_Acc 0.478 | 2.584\n",
      "Epoch: 111 | T_Loss 0.688 | T_Acc  0.54 | V_Loss 0.698 | V_Acc 0.478 | 2.599\n",
      "Epoch: 110 | T_Loss 0.688 | T_Acc  0.54 | V_Loss 0.698 | V_Acc 0.478 | 2.612\n",
      "Epoch: 109 | T_Loss 0.688 | T_Acc  0.54 | V_Loss 0.698 | V_Acc 0.478 | 2.577\n",
      "Epoch: 108 | T_Loss 0.688 | T_Acc  0.54 | V_Loss 0.698 | V_Acc 0.478 | 2.577\n",
      "Epoch: 107 | T_Loss 0.688 | T_Acc  0.54 | V_Loss 0.698 | V_Acc 0.478 | 2.574\n",
      "Epoch: 106 | T_Loss 0.688 | T_Acc  0.54 | V_Loss 0.698 | V_Acc 0.478 |  2.57\n",
      "Epoch: 105 | T_Loss 0.687 | T_Acc  0.54 | V_Loss 0.698 | V_Acc 0.478 | 2.568\n",
      "Epoch: 104 | T_Loss 0.688 | T_Acc  0.54 | V_Loss 0.698 | V_Acc 0.478 | 2.566\n",
      "Epoch: 103 | T_Loss 0.689 | T_Acc  0.54 | V_Loss 0.698 | V_Acc 0.478 | 2.557\n",
      "Epoch: 102 | T_Loss 0.688 | T_Acc  0.54 | V_Loss 0.698 | V_Acc 0.478 | 2.564\n",
      "Epoch: 101 | T_Loss 0.688 | T_Acc  0.54 | V_Loss 0.699 | V_Acc 0.478 |   2.6\n",
      "Epoch: 100 | T_Loss 0.688 | T_Acc  0.54 | V_Loss 0.699 | V_Acc 0.478 | 2.552\n",
      "Epoch:  99 | T_Loss 0.688 | T_Acc  0.54 | V_Loss 0.699 | V_Acc 0.478 |  2.55\n",
      "Epoch:  98 | T_Loss 0.688 | T_Acc  0.54 | V_Loss 0.699 | V_Acc 0.478 |  2.55\n",
      "Epoch:  97 | T_Loss 0.688 | T_Acc  0.54 | V_Loss 0.699 | V_Acc 0.478 | 2.544\n",
      "Epoch:  96 | T_Loss 0.688 | T_Acc  0.54 | V_Loss 0.699 | V_Acc 0.478 | 2.548\n",
      "Epoch:  95 | T_Loss 0.689 | T_Acc  0.54 | V_Loss 0.699 | V_Acc 0.478 |  2.55\n",
      "Epoch:  94 | T_Loss 0.688 | T_Acc  0.54 | V_Loss 0.699 | V_Acc 0.478 | 2.556\n",
      "Epoch:  93 | T_Loss 0.689 | T_Acc  0.54 | V_Loss 0.699 | V_Acc 0.478 | 2.584\n",
      "Epoch:  92 | T_Loss  0.69 | T_Acc  0.54 | V_Loss 0.699 | V_Acc 0.478 | 2.596\n",
      "Epoch:  91 | T_Loss 0.689 | T_Acc  0.54 | V_Loss 0.699 | V_Acc 0.478 | 2.526\n",
      "Epoch:  90 | T_Loss 0.689 | T_Acc  0.54 | V_Loss   0.7 | V_Acc 0.478 | 2.523\n",
      "Epoch:  89 | T_Loss  0.69 | T_Acc  0.54 | V_Loss   0.7 | V_Acc 0.478 | 2.516\n",
      "Epoch:  88 | T_Loss 0.689 | T_Acc  0.54 | V_Loss   0.7 | V_Acc 0.478 | 2.514\n",
      "Epoch:  87 | T_Loss 0.689 | T_Acc  0.54 | V_Loss   0.7 | V_Acc 0.478 | 2.513\n",
      "Epoch:  86 | T_Loss 0.689 | T_Acc  0.54 | V_Loss   0.7 | V_Acc 0.478 | 2.517\n",
      "Epoch:  85 | T_Loss 0.689 | T_Acc  0.54 | V_Loss   0.7 | V_Acc 0.478 |  2.51\n",
      "Epoch:  84 | T_Loss 0.689 | T_Acc  0.54 | V_Loss   0.7 | V_Acc 0.478 | 2.516\n",
      "Epoch:  83 | T_Loss 0.689 | T_Acc  0.54 | V_Loss 0.699 | V_Acc 0.478 | 2.518\n",
      "Epoch:  82 | T_Loss  0.69 | T_Acc  0.54 | V_Loss   0.7 | V_Acc 0.478 | 2.535\n",
      "Epoch:  81 | T_Loss  0.69 | T_Acc 0.539 | V_Loss 0.699 | V_Acc 0.466 | 2.508\n",
      "Epoch:  80 | T_Loss 0.689 | T_Acc 0.537 | V_Loss 0.699 | V_Acc 0.466 | 2.507\n",
      "Epoch:  79 | T_Loss  0.69 | T_Acc 0.537 | V_Loss 0.699 | V_Acc 0.466 | 2.498\n",
      "Epoch:  78 | T_Loss  0.69 | T_Acc 0.537 | V_Loss 0.699 | V_Acc 0.466 | 2.494\n",
      "Epoch:  77 | T_Loss  0.69 | T_Acc 0.537 | V_Loss   0.7 | V_Acc 0.466 | 2.492\n",
      "Epoch:  76 | T_Loss  0.69 | T_Acc 0.536 | V_Loss   0.7 | V_Acc 0.466 | 2.492\n",
      "Epoch:  75 | T_Loss  0.69 | T_Acc 0.537 | V_Loss   0.7 | V_Acc 0.466 | 2.491\n",
      "Epoch:  74 | T_Loss  0.69 | T_Acc 0.537 | V_Loss   0.7 | V_Acc 0.466 | 2.495\n",
      "Epoch:  73 | T_Loss  0.69 | T_Acc 0.537 | V_Loss   0.7 | V_Acc 0.466 | 2.507\n",
      "Epoch:  72 | T_Loss  0.69 | T_Acc 0.537 | V_Loss 0.699 | V_Acc 0.466 | 2.518\n",
      "Epoch:  71 | T_Loss  0.69 | T_Acc 0.539 | V_Loss 0.698 | V_Acc 0.478 | 2.484\n",
      "Epoch:  70 | T_Loss  0.69 | T_Acc 0.537 | V_Loss 0.699 | V_Acc 0.478 | 2.482\n",
      "Epoch:  69 | T_Loss 0.692 | T_Acc 0.537 | V_Loss 0.703 | V_Acc 0.478 |  2.48\n",
      "Epoch:  68 | T_Loss 0.697 | T_Acc  0.54 | V_Loss 0.713 | V_Acc 0.478 | 2.475\n",
      "Epoch:  67 | T_Loss 0.676 | T_Acc 0.599 | V_Loss 0.722 | V_Acc 0.492 | 2.481\n",
      "Epoch:  66 | T_Loss 0.674 | T_Acc 0.606 | V_Loss  0.69 | V_Acc 0.577 | 2.471\n",
      "Epoch:  65 | T_Loss 0.693 | T_Acc 0.573 | V_Loss 0.714 | V_Acc 0.526 | 2.472\n",
      "Epoch:  64 | T_Loss  0.68 | T_Acc 0.536 | V_Loss 0.728 | V_Acc 0.552 |  2.47\n",
      "Epoch:  63 | T_Loss 0.687 | T_Acc  0.53 | V_Loss 0.695 | V_Acc 0.454 | 2.478\n",
      "Epoch:  62 | T_Loss  0.69 | T_Acc  0.53 | V_Loss 0.699 | V_Acc 0.454 |   2.5\n",
      "Epoch:  61 | T_Loss 0.693 | T_Acc  0.53 | V_Loss 0.703 | V_Acc 0.454 |  2.46\n",
      "Epoch:  60 | T_Loss 0.693 | T_Acc 0.508 | V_Loss 0.698 | V_Acc 0.454 | 2.461\n",
      "Epoch:  59 | T_Loss   0.7 | T_Acc 0.474 | V_Loss 0.692 | V_Acc 0.546 | 2.459\n",
      "Epoch:  58 | T_Loss 0.686 | T_Acc 0.534 | V_Loss 0.695 | V_Acc 0.534 | 2.455\n",
      "Epoch:  57 | T_Loss 0.667 | T_Acc 0.601 | V_Loss 0.659 | V_Acc 0.621 | 2.456\n",
      "Epoch:  56 | T_Loss 0.671 | T_Acc 0.595 | V_Loss 0.668 | V_Acc 0.611 | 2.457\n",
      "Epoch:  55 | T_Loss 0.657 | T_Acc  0.64 | V_Loss 0.685 | V_Acc 0.575 | 2.456\n",
      "Epoch:  54 | T_Loss 0.683 | T_Acc 0.578 | V_Loss 0.703 | V_Acc 0.528 | 2.454\n",
      "Epoch:  53 | T_Loss  0.66 | T_Acc  0.64 | V_Loss 0.681 | V_Acc 0.587 | 2.472\n",
      "Epoch:  52 | T_Loss 0.677 | T_Acc 0.593 | V_Loss 0.697 | V_Acc  0.54 | 2.479\n",
      "Epoch:  51 | T_Loss 0.667 | T_Acc  0.62 | V_Loss 0.699 | V_Acc  0.53 | 2.442\n",
      "Epoch:  50 | T_Loss  0.68 | T_Acc 0.582 | V_Loss 0.699 | V_Acc 0.516 | 2.449\n",
      "Epoch:  49 | T_Loss 0.686 | T_Acc 0.568 | V_Loss 0.699 | V_Acc 0.542 | 2.462\n",
      "Epoch:  48 | T_Loss 0.682 | T_Acc 0.575 | V_Loss 0.702 | V_Acc 0.532 |  2.44\n",
      "Epoch:  47 | T_Loss 0.671 | T_Acc  0.61 | V_Loss 0.679 | V_Acc 0.587 | 2.436\n",
      "Epoch:  46 | T_Loss 0.685 | T_Acc 0.567 | V_Loss  0.68 | V_Acc 0.567 | 2.435\n",
      "Epoch:  45 | T_Loss 0.683 | T_Acc 0.578 | V_Loss 0.686 | V_Acc 0.567 |  2.44\n",
      "Epoch:  44 | T_Loss 0.667 | T_Acc 0.618 | V_Loss 0.702 | V_Acc 0.516 | 2.438\n",
      "Epoch:  43 | T_Loss 0.675 | T_Acc 0.602 | V_Loss  0.71 | V_Acc 0.478 |  2.45\n",
      "Epoch:  42 | T_Loss 0.677 | T_Acc 0.606 | V_Loss 0.705 | V_Acc  0.48 | 2.463\n",
      "Epoch:  41 | T_Loss 0.688 | T_Acc 0.553 | V_Loss 0.693 | V_Acc 0.528 | 2.426\n",
      "Epoch:  40 | T_Loss 0.686 | T_Acc 0.559 | V_Loss 0.695 | V_Acc 0.504 | 2.429\n",
      "Epoch:  39 | T_Loss 0.687 | T_Acc 0.554 | V_Loss 0.695 | V_Acc 0.504 | 2.423\n",
      "Epoch:  38 | T_Loss 0.687 | T_Acc 0.557 | V_Loss 0.696 | V_Acc 0.504 | 2.422\n",
      "Epoch:  37 | T_Loss 0.691 | T_Acc  0.55 | V_Loss 0.699 | V_Acc 0.518 | 2.417\n",
      "Epoch:  36 | T_Loss 0.704 | T_Acc 0.559 | V_Loss  0.72 | V_Acc 0.492 | 2.418\n",
      "Epoch:  35 | T_Loss 0.671 | T_Acc  0.59 | V_Loss 0.754 | V_Acc 0.518 | 2.416\n",
      "Epoch:  34 | T_Loss 0.661 | T_Acc 0.612 | V_Loss 0.705 | V_Acc 0.526 |  2.41\n",
      "Epoch:  33 | T_Loss 0.672 | T_Acc 0.592 | V_Loss 0.687 | V_Acc  0.56 |  2.42\n",
      "Epoch:  32 | T_Loss 0.668 | T_Acc 0.609 | V_Loss 0.667 | V_Acc 0.625 |  2.44\n",
      "Epoch:  31 | T_Loss 0.694 | T_Acc 0.551 | V_Loss 0.711 | V_Acc 0.516 | 2.405\n",
      "Epoch:  30 | T_Loss  0.67 | T_Acc 0.596 | V_Loss 0.699 | V_Acc  0.54 | 2.404\n",
      "Epoch:  29 | T_Loss 0.683 | T_Acc 0.584 | V_Loss 0.695 | V_Acc 0.526 | 2.408\n",
      "Epoch:  28 | T_Loss 0.673 | T_Acc 0.585 | V_Loss 0.781 | V_Acc  0.49 | 2.402\n",
      "Epoch:  27 | T_Loss 0.671 | T_Acc  0.59 | V_Loss 0.666 | V_Acc 0.599 | 2.401\n",
      "Epoch:  26 | T_Loss 0.676 | T_Acc 0.578 | V_Loss 0.669 | V_Acc 0.635 | 2.396\n",
      "Epoch:  25 | T_Loss 0.678 | T_Acc  0.59 | V_Loss   0.7 | V_Acc 0.502 | 2.397\n",
      "Epoch:  24 | T_Loss 0.681 | T_Acc 0.578 | V_Loss 0.688 | V_Acc 0.552 | 2.391\n",
      "Epoch:  23 | T_Loss 0.689 | T_Acc 0.547 | V_Loss 0.702 | V_Acc 0.504 | 2.402\n",
      "Epoch:  22 | T_Loss 0.679 | T_Acc 0.601 | V_Loss 0.705 | V_Acc 0.482 | 2.409\n",
      "Epoch:  21 | T_Loss 0.688 | T_Acc 0.551 | V_Loss 0.702 | V_Acc 0.478 | 2.386\n",
      "Epoch:  20 | T_Loss 0.688 | T_Acc  0.55 | V_Loss 0.706 | V_Acc 0.452 | 2.387\n",
      "Epoch:  19 | T_Loss 0.689 | T_Acc 0.548 | V_Loss 0.706 | V_Acc 0.452 | 2.383\n",
      "Epoch:  18 | T_Loss 0.689 | T_Acc 0.548 | V_Loss 0.708 | V_Acc  0.44 |  2.38\n",
      "Epoch:  17 | T_Loss  0.69 | T_Acc  0.54 | V_Loss 0.707 | V_Acc  0.44 | 2.381\n",
      "Epoch:  16 | T_Loss 0.693 | T_Acc 0.526 | V_Loss 0.713 | V_Acc 0.429 | 2.377\n",
      "Epoch:  15 | T_Loss 0.683 | T_Acc 0.576 | V_Loss  0.68 | V_Acc 0.601 | 2.378\n",
      "Epoch:  14 | T_Loss 0.696 | T_Acc 0.531 | V_Loss 0.709 | V_Acc 0.454 | 2.373\n",
      "Epoch:  13 | T_Loss 0.685 | T_Acc 0.575 | V_Loss 0.691 | V_Acc 0.552 | 2.411\n",
      "Epoch:  12 | T_Loss 0.691 | T_Acc 0.534 | V_Loss   0.7 | V_Acc 0.452 | 2.428\n",
      "Epoch:  11 | T_Loss 0.691 | T_Acc 0.523 | V_Loss 0.698 | V_Acc 0.431 | 2.388\n",
      "Epoch:  10 | T_Loss 0.691 | T_Acc 0.531 | V_Loss 0.699 | V_Acc 0.454 | 2.365\n",
      "Epoch:   9 | T_Loss 0.692 | T_Acc  0.53 | V_Loss   0.7 | V_Acc 0.454 | 2.387\n",
      "Epoch:   8 | T_Loss 0.692 | T_Acc  0.53 | V_Loss   0.7 | V_Acc 0.454 | 2.385\n",
      "Epoch:   7 | T_Loss 0.691 | T_Acc  0.53 | V_Loss 0.699 | V_Acc 0.454 | 2.383\n",
      "Epoch:   6 | T_Loss 0.692 | T_Acc  0.53 | V_Loss 0.699 | V_Acc 0.454 |  2.38\n",
      "Epoch:   5 | T_Loss 0.692 | T_Acc  0.53 | V_Loss 0.699 | V_Acc 0.454 |  2.38\n",
      "Epoch:   4 | T_Loss 0.692 | T_Acc  0.53 | V_Loss 0.699 | V_Acc 0.454 | 2.382\n",
      "Epoch:   3 | T_Loss 0.692 | T_Acc  0.53 | V_Loss 0.698 | V_Acc 0.454 |  2.38\n",
      "Epoch:   2 | T_Loss 0.692 | T_Acc  0.53 | V_Loss 0.698 | V_Acc 0.454 | 2.404\n",
      "Epoch:   1 | T_Loss 0.692 | T_Acc  0.53 | V_Loss 0.697 | V_Acc 0.454 | 2.412\n",
      "\n",
      " Training completed!\n"
     ]
    }
   ],
   "source": [
    "# Training initialization \n",
    "init_model()\n",
    "init_epoch()\n",
    "init_log()\n",
    "maximum_epoch = EPOCH\n",
    "\n",
    "# Training iteration\n",
    "\n",
    "while epoch_not_finished():\n",
    "    start_time = time.time()\n",
    "\n",
    "    tloss, tacc = epoch(train_loader, mode = 'train')\n",
    "\n",
    "    end_time = time.time()\n",
    "    time_taken = end_time - start_time\n",
    "    record_train_log(tloss, tacc, time_taken)\n",
    "\n",
    "    with torch.no_grad():\n",
    "        vloss, vacc = epoch(val_loader, mode = 'val')\n",
    "        record_valid_log(vloss, vacc)\n",
    "\n",
    "    print_log()\n",
    "\n",
    "print('\\n Training completed!')"
   ]
  },
  {
   "cell_type": "code",
   "execution_count": 74,
   "id": "6b9d21a7-c6f4-4337-ac24-111ac6e707b5",
   "metadata": {},
   "outputs": [
    {
     "name": "stdout",
     "output_type": "stream",
     "text": [
      "Test Acc.: 0.5742\n",
      "Test Loss: 0.6865\n"
     ]
    }
   ],
   "source": [
    "# 정확도 검증\n",
    "with torch.no_grad():\n",
    "    test_loss, test_acc = epoch(test_loader, mode = 'test')\n",
    "    test_acc = round(test_acc, 4)\n",
    "    test_loss = round(test_loss, 4)\n",
    "    print('Test Acc.: {}'.format(test_acc))\n",
    "    print('Test Loss: {}'.format(test_loss))"
   ]
  },
  {
   "cell_type": "markdown",
   "id": "07eec377-618a-4238-85ac-58973dde3b9b",
   "metadata": {},
   "source": [
    "## 모델 테스트 하기"
   ]
  },
  {
   "cell_type": "code",
   "execution_count": 75,
   "id": "56753cb3-15bb-44d8-8161-ee3423871938",
   "metadata": {},
   "outputs": [
    {
     "name": "stdout",
     "output_type": "stream",
     "text": [
      "저장된 frame의 개수: 150\n"
     ]
    }
   ],
   "source": [
    "# test 영상 resize 및 추출\n",
    "test_video_name = '02_pocket_30'\n",
    "test_video_path = f'/home/raccoon/jnwork/kangminji/zerobase_DL_project/{test_video_name}.mp4'\n",
    "cv2.destroyAllWindows()\n",
    "cap = cv2.VideoCapture(test_video_path)\n",
    "img_list = []\n",
    "\n",
    "#이 영상을 불러와서 모든 frame을 리스트 안에 저장\n",
    "if cap.isOpened():\n",
    "\n",
    "    while True:\n",
    "        ret, img = cap.read()\n",
    "        if ret:\n",
    "            img = cv2.resize(img, (640, 640))\n",
    "            img_list.append(img)\n",
    "            # cv2_imshow(img)\n",
    "            # cv2.waitKey(1)\n",
    "        else:\n",
    "            break\n",
    "\n",
    "cap.release()\n",
    "cv2.destroyAllWindows()\n",
    "\n",
    "print('저장된 frame의 개수: {}'.format(len(img_list)))"
   ]
  },
  {
   "cell_type": "code",
   "execution_count": 76,
   "id": "2197127f-425b-439b-ad81-19155074829a",
   "metadata": {},
   "outputs": [
    {
     "name": "stderr",
     "output_type": "stream",
     "text": [
      "I0000 00:00:1713944871.574621   51523 gl_context_egl.cc:85] Successfully initialized EGL. Major : 1 Minor: 5\n",
      "I0000 00:00:1713944871.586883   60960 gl_context.cc:357] GL version: 3.2 (OpenGL ES 3.2 NVIDIA 535.171.04), renderer: NVIDIA GeForce GTX 1080 Ti/PCIe/SSE2\n"
     ]
    },
    {
     "name": "stdout",
     "output_type": "stream",
     "text": [
      "시퀀스 데이터 분석 중...\n"
     ]
    },
    {
     "name": "stderr",
     "output_type": "stream",
     "text": [
      "100%|██████████████████████████████████████████████████████████████| 150/150 [00:13<00:00, 10.80it/s]\n"
     ]
    }
   ],
   "source": [
    "# LSTM 으로 연속된 frame을 시퀀스 분석\n",
    "net.eval()\n",
    "\n",
    "length = 30 # frame 상태를 표시할 길이\n",
    "out_img_list = []\n",
    "dataset = []\n",
    "status = 'None'\n",
    "pose = mp_pose.Pose(static_image_mode=True, model_complexity=1, enable_segmentation=False, min_detection_confidence=n_CONFIDENCE)\n",
    "print('시퀀스 데이터 분석 중...')\n",
    "\n",
    "xy_list_list = []\n",
    "for img in tqdm(img_list):\n",
    "    res = yolo_model(img)\n",
    "    res_refine = res.pandas().xyxy[0].values\n",
    "\n",
    "    nms_human = len(res_refine)\n",
    "    if nms_human > 0:\n",
    "        for bbox in res_refine:\n",
    "            xx1, yy1, xx2, yy2 = int(bbox[0])-10, int(bbox[1]), int(bbox[2])+10, int(bbox[3])\n",
    "            if xx1 < 0:\n",
    "                xx1 = 0\n",
    "            elif xx2 > 639:\n",
    "                xx2 = 639\n",
    "            if yy1 < 0:\n",
    "                yy1 = 0\n",
    "            elif yy2 > 639:\n",
    "                yy2 = 639\n",
    "\n",
    "            start_point = (xx1, yy1)\n",
    "            end_point = (xx2, yy2)\n",
    "            if bbox[4] > y_CONFIDENCE:\n",
    "                img = cv2.rectangle(img, start_point, end_point, (0, 0, 255), 2)\n",
    "\n",
    "                c_img = img[yy1:yy2, xx1:xx2]\n",
    "                results = pose.process(cv2.cvtColor(c_img, cv2.COLOR_BGR2RGB)) # Yolo 바운딩 box 안에서 landmark dot 추출\n",
    "                if not results.pose_landmarks: continue\n",
    "                xy_list = []\n",
    "                idx = 0\n",
    "                draw_line_dic = {}\n",
    "                for x_and_y in results.pose_landmarks.landmark:\n",
    "                    if idx in attention_dot:\n",
    "                        xy_list.append(x_and_y.x)\n",
    "                        xy_list.append(x_and_y.y)\n",
    "                        x, y = int(x_and_y.x*(xx2-xx1)), int(x_and_y.y*(yy2-yy1))\n",
    "                        draw_line_dic[idx] = [x, y]\n",
    "                    idx += 1\n",
    "\n",
    "                xy_list_list.append(xy_list)\n",
    "                for line in draw_line:\n",
    "                    x1, y1 = draw_line_dic[line[0]][0], draw_line_dic[line[0]][1]\n",
    "                    x2, y2 = draw_line_dic[line[1]][0], draw_line_dic[line[1]][1]\n",
    "                    c_img = cv2.line(c_img, (x1, y1), (x2, y2), (0, 255, 0), 3)\n",
    "\n",
    "                if len(xy_list_list) == length:\n",
    "                    dataset = []\n",
    "                    dataset.append({'key' : 0, 'value' : xy_list_list})\n",
    "                    dataset = MyDataset(dataset)\n",
    "                    dataset = DataLoader(dataset)\n",
    "                    xy_list_list = []\n",
    "\n",
    "                    for data, label in dataset:\n",
    "                        data = data.to(device)\n",
    "                        with torch.no_grad():\n",
    "                            result = net(data)\n",
    "                            _, out = torch.max(result, 1)\n",
    "                            if out.item() == 0: status = 'Normal'\n",
    "                            else: status = 'Theft'\n",
    "\n",
    "    cv2.putText(img, status, (0, 50), cv2.FONT_HERSHEY_COMPLEX, 1.5, (0, 0, 255), 2)\n",
    "    out_img_list.append(img)"
   ]
  },
  {
   "cell_type": "code",
   "execution_count": 77,
   "id": "c2936e1c-5d96-43e1-8bc8-e38c13436388",
   "metadata": {},
   "outputs": [
    {
     "name": "stderr",
     "output_type": "stream",
     "text": [
      "OpenCV: FFMPEG: tag 0x58564944/'DIVX' is not supported with codec id 12 and format 'mp4 / MP4 (MPEG-4 Part 14)'\n",
      "OpenCV: FFMPEG: fallback to use tag 0x7634706d/'mp4v'\n"
     ]
    }
   ],
   "source": [
    "# 테스트 원본 영상 내보내기\n",
    "filename = '../output.mp4'\n",
    "fourcc = cv2.VideoWriter_fourcc(*'DIVX')\n",
    "fps = 3\n",
    "frameSize = (640, 640)\n",
    "isColor = True\n",
    "out = cv2.VideoWriter(filename, fourcc, fps, frameSize, isColor)\n",
    "for out_img in out_img_list:\n",
    "    out.write(out_img)\n",
    "out.release()"
   ]
  },
  {
   "cell_type": "code",
   "execution_count": 79,
   "id": "0c651912-753e-43ed-9450-328532402e54",
   "metadata": {},
   "outputs": [
    {
     "name": "stderr",
     "output_type": "stream",
     "text": [
      "I0000 00:00:1713945067.641589   51523 gl_context_egl.cc:85] Successfully initialized EGL. Major : 1 Minor: 5\n"
     ]
    },
    {
     "name": "stdout",
     "output_type": "stream",
     "text": [
      "시퀀스 데이터 분석 중...\n"
     ]
    },
    {
     "name": "stderr",
     "output_type": "stream",
     "text": [
      "I0000 00:00:1713945067.683798   61403 gl_context.cc:357] GL version: 3.2 (OpenGL ES 3.2 NVIDIA 535.171.04), renderer: NVIDIA GeForce GTX 1080 Ti/PCIe/SSE2\n",
      "0it [00:00, ?it/s]\n",
      "OpenCV: FFMPEG: tag 0x58564944/'DIVX' is not supported with codec id 12 and format 'mp4 / MP4 (MPEG-4 Part 14)'\n",
      "OpenCV: FFMPEG: fallback to use tag 0x7634706d/'mp4v'\n",
      "I0000 00:00:1713945067.688327   51523 gl_context_egl.cc:85] Successfully initialized EGL. Major : 1 Minor: 5\n",
      "I0000 00:00:1713945067.695660   61416 gl_context.cc:357] GL version: 3.2 (OpenGL ES 3.2 NVIDIA 535.171.04), renderer: NVIDIA GeForce GTX 1080 Ti/PCIe/SSE2\n"
     ]
    },
    {
     "name": "stdout",
     "output_type": "stream",
     "text": [
      "시퀀스 데이터 분석 중...\n"
     ]
    },
    {
     "name": "stderr",
     "output_type": "stream",
     "text": [
      "0it [00:00, ?it/s]\n",
      "OpenCV: FFMPEG: tag 0x58564944/'DIVX' is not supported with codec id 12 and format 'mp4 / MP4 (MPEG-4 Part 14)'\n",
      "OpenCV: FFMPEG: fallback to use tag 0x7634706d/'mp4v'\n",
      "I0000 00:00:1713945067.703057   51523 gl_context_egl.cc:85] Successfully initialized EGL. Major : 1 Minor: 5\n",
      "I0000 00:00:1713945067.711025   61429 gl_context.cc:357] GL version: 3.2 (OpenGL ES 3.2 NVIDIA 535.171.04), renderer: NVIDIA GeForce GTX 1080 Ti/PCIe/SSE2\n"
     ]
    },
    {
     "name": "stdout",
     "output_type": "stream",
     "text": [
      "시퀀스 데이터 분석 중...\n"
     ]
    },
    {
     "name": "stderr",
     "output_type": "stream",
     "text": [
      "0it [00:00, ?it/s]\n",
      "OpenCV: FFMPEG: tag 0x58564944/'DIVX' is not supported with codec id 12 and format 'mp4 / MP4 (MPEG-4 Part 14)'\n",
      "OpenCV: FFMPEG: fallback to use tag 0x7634706d/'mp4v'\n",
      "I0000 00:00:1713945067.719351   51523 gl_context_egl.cc:85] Successfully initialized EGL. Major : 1 Minor: 5\n",
      "I0000 00:00:1713945067.727598   61442 gl_context.cc:357] GL version: 3.2 (OpenGL ES 3.2 NVIDIA 535.171.04), renderer: NVIDIA GeForce GTX 1080 Ti/PCIe/SSE2\n"
     ]
    },
    {
     "name": "stdout",
     "output_type": "stream",
     "text": [
      "시퀀스 데이터 분석 중...\n"
     ]
    },
    {
     "name": "stderr",
     "output_type": "stream",
     "text": [
      "0it [00:00, ?it/s]\n",
      "OpenCV: FFMPEG: tag 0x58564944/'DIVX' is not supported with codec id 12 and format 'mp4 / MP4 (MPEG-4 Part 14)'\n",
      "OpenCV: FFMPEG: fallback to use tag 0x7634706d/'mp4v'\n",
      "I0000 00:00:1713945067.734822   51523 gl_context_egl.cc:85] Successfully initialized EGL. Major : 1 Minor: 5\n"
     ]
    },
    {
     "name": "stdout",
     "output_type": "stream",
     "text": [
      "시퀀스 데이터 분석 중...\n"
     ]
    },
    {
     "name": "stderr",
     "output_type": "stream",
     "text": [
      "I0000 00:00:1713945067.745887   61455 gl_context.cc:357] GL version: 3.2 (OpenGL ES 3.2 NVIDIA 535.171.04), renderer: NVIDIA GeForce GTX 1080 Ti/PCIe/SSE2\n",
      "0it [00:00, ?it/s]\n",
      "OpenCV: FFMPEG: tag 0x58564944/'DIVX' is not supported with codec id 12 and format 'mp4 / MP4 (MPEG-4 Part 14)'\n",
      "OpenCV: FFMPEG: fallback to use tag 0x7634706d/'mp4v'\n",
      "I0000 00:00:1713945067.758388   51523 gl_context_egl.cc:85] Successfully initialized EGL. Major : 1 Minor: 5\n",
      "I0000 00:00:1713945067.772656   61468 gl_context.cc:357] GL version: 3.2 (OpenGL ES 3.2 NVIDIA 535.171.04), renderer: NVIDIA GeForce GTX 1080 Ti/PCIe/SSE2\n"
     ]
    },
    {
     "name": "stdout",
     "output_type": "stream",
     "text": [
      "시퀀스 데이터 분석 중...\n"
     ]
    },
    {
     "name": "stderr",
     "output_type": "stream",
     "text": [
      "0it [00:00, ?it/s]\n",
      "OpenCV: FFMPEG: tag 0x58564944/'DIVX' is not supported with codec id 12 and format 'mp4 / MP4 (MPEG-4 Part 14)'\n",
      "OpenCV: FFMPEG: fallback to use tag 0x7634706d/'mp4v'\n",
      "I0000 00:00:1713945067.791290   51523 gl_context_egl.cc:85] Successfully initialized EGL. Major : 1 Minor: 5\n",
      "I0000 00:00:1713945067.806694   61481 gl_context.cc:357] GL version: 3.2 (OpenGL ES 3.2 NVIDIA 535.171.04), renderer: NVIDIA GeForce GTX 1080 Ti/PCIe/SSE2\n"
     ]
    },
    {
     "name": "stdout",
     "output_type": "stream",
     "text": [
      "시퀀스 데이터 분석 중...\n"
     ]
    },
    {
     "name": "stderr",
     "output_type": "stream",
     "text": [
      "0it [00:00, ?it/s]\n",
      "OpenCV: FFMPEG: tag 0x58564944/'DIVX' is not supported with codec id 12 and format 'mp4 / MP4 (MPEG-4 Part 14)'\n",
      "OpenCV: FFMPEG: fallback to use tag 0x7634706d/'mp4v'\n",
      "I0000 00:00:1713945067.822264   51523 gl_context_egl.cc:85] Successfully initialized EGL. Major : 1 Minor: 5\n",
      "I0000 00:00:1713945067.836484   61494 gl_context.cc:357] GL version: 3.2 (OpenGL ES 3.2 NVIDIA 535.171.04), renderer: NVIDIA GeForce GTX 1080 Ti/PCIe/SSE2\n"
     ]
    },
    {
     "name": "stdout",
     "output_type": "stream",
     "text": [
      "시퀀스 데이터 분석 중...\n"
     ]
    },
    {
     "name": "stderr",
     "output_type": "stream",
     "text": [
      "0it [00:00, ?it/s]\n",
      "OpenCV: FFMPEG: tag 0x58564944/'DIVX' is not supported with codec id 12 and format 'mp4 / MP4 (MPEG-4 Part 14)'\n",
      "OpenCV: FFMPEG: fallback to use tag 0x7634706d/'mp4v'\n",
      "I0000 00:00:1713945067.851774   51523 gl_context_egl.cc:85] Successfully initialized EGL. Major : 1 Minor: 5\n",
      "I0000 00:00:1713945067.864067   61508 gl_context.cc:357] GL version: 3.2 (OpenGL ES 3.2 NVIDIA 535.171.04), renderer: NVIDIA GeForce GTX 1080 Ti/PCIe/SSE2\n"
     ]
    },
    {
     "name": "stdout",
     "output_type": "stream",
     "text": [
      "시퀀스 데이터 분석 중...\n"
     ]
    },
    {
     "name": "stderr",
     "output_type": "stream",
     "text": [
      "0it [00:00, ?it/s]\n",
      "OpenCV: FFMPEG: tag 0x58564944/'DIVX' is not supported with codec id 12 and format 'mp4 / MP4 (MPEG-4 Part 14)'\n",
      "OpenCV: FFMPEG: fallback to use tag 0x7634706d/'mp4v'\n"
     ]
    },
    {
     "name": "stdout",
     "output_type": "stream",
     "text": [
      "시퀀스 데이터 분석 중...\n"
     ]
    },
    {
     "name": "stderr",
     "output_type": "stream",
     "text": [
      "I0000 00:00:1713945067.875383   51523 gl_context_egl.cc:85] Successfully initialized EGL. Major : 1 Minor: 5\n",
      "I0000 00:00:1713945067.887540   61521 gl_context.cc:357] GL version: 3.2 (OpenGL ES 3.2 NVIDIA 535.171.04), renderer: NVIDIA GeForce GTX 1080 Ti/PCIe/SSE2\n",
      "0it [00:00, ?it/s]\n",
      "OpenCV: FFMPEG: tag 0x58564944/'DIVX' is not supported with codec id 12 and format 'mp4 / MP4 (MPEG-4 Part 14)'\n",
      "OpenCV: FFMPEG: fallback to use tag 0x7634706d/'mp4v'\n"
     ]
    },
    {
     "name": "stdout",
     "output_type": "stream",
     "text": [
      "시퀀스 데이터 분석 중...\n"
     ]
    },
    {
     "name": "stderr",
     "output_type": "stream",
     "text": [
      "I0000 00:00:1713945067.905633   51523 gl_context_egl.cc:85] Successfully initialized EGL. Major : 1 Minor: 5\n",
      "I0000 00:00:1713945067.919185   61534 gl_context.cc:357] GL version: 3.2 (OpenGL ES 3.2 NVIDIA 535.171.04), renderer: NVIDIA GeForce GTX 1080 Ti/PCIe/SSE2\n",
      "0it [00:00, ?it/s]\n",
      "OpenCV: FFMPEG: tag 0x58564944/'DIVX' is not supported with codec id 12 and format 'mp4 / MP4 (MPEG-4 Part 14)'\n",
      "OpenCV: FFMPEG: fallback to use tag 0x7634706d/'mp4v'\n"
     ]
    },
    {
     "name": "stdout",
     "output_type": "stream",
     "text": [
      "시퀀스 데이터 분석 중...\n"
     ]
    },
    {
     "name": "stderr",
     "output_type": "stream",
     "text": [
      "I0000 00:00:1713945067.935776   51523 gl_context_egl.cc:85] Successfully initialized EGL. Major : 1 Minor: 5\n",
      "I0000 00:00:1713945067.948448   61547 gl_context.cc:357] GL version: 3.2 (OpenGL ES 3.2 NVIDIA 535.171.04), renderer: NVIDIA GeForce GTX 1080 Ti/PCIe/SSE2\n",
      "0it [00:00, ?it/s]\n",
      "OpenCV: FFMPEG: tag 0x58564944/'DIVX' is not supported with codec id 12 and format 'mp4 / MP4 (MPEG-4 Part 14)'\n",
      "OpenCV: FFMPEG: fallback to use tag 0x7634706d/'mp4v'\n",
      "I0000 00:00:1713945067.959637   51523 gl_context_egl.cc:85] Successfully initialized EGL. Major : 1 Minor: 5\n",
      "I0000 00:00:1713945067.973186   61560 gl_context.cc:357] GL version: 3.2 (OpenGL ES 3.2 NVIDIA 535.171.04), renderer: NVIDIA GeForce GTX 1080 Ti/PCIe/SSE2\n"
     ]
    },
    {
     "name": "stdout",
     "output_type": "stream",
     "text": [
      "시퀀스 데이터 분석 중...\n"
     ]
    },
    {
     "name": "stderr",
     "output_type": "stream",
     "text": [
      "0it [00:00, ?it/s]\n",
      "OpenCV: FFMPEG: tag 0x58564944/'DIVX' is not supported with codec id 12 and format 'mp4 / MP4 (MPEG-4 Part 14)'\n",
      "OpenCV: FFMPEG: fallback to use tag 0x7634706d/'mp4v'\n",
      "I0000 00:00:1713945067.987734   51523 gl_context_egl.cc:85] Successfully initialized EGL. Major : 1 Minor: 5\n",
      "I0000 00:00:1713945067.999604   61573 gl_context.cc:357] GL version: 3.2 (OpenGL ES 3.2 NVIDIA 535.171.04), renderer: NVIDIA GeForce GTX 1080 Ti/PCIe/SSE2\n"
     ]
    },
    {
     "name": "stdout",
     "output_type": "stream",
     "text": [
      "시퀀스 데이터 분석 중...\n"
     ]
    },
    {
     "name": "stderr",
     "output_type": "stream",
     "text": [
      "0it [00:00, ?it/s]\n",
      "OpenCV: FFMPEG: tag 0x58564944/'DIVX' is not supported with codec id 12 and format 'mp4 / MP4 (MPEG-4 Part 14)'\n",
      "OpenCV: FFMPEG: fallback to use tag 0x7634706d/'mp4v'\n",
      "I0000 00:00:1713945068.011710   51523 gl_context_egl.cc:85] Successfully initialized EGL. Major : 1 Minor: 5\n",
      "I0000 00:00:1713945068.023160   61586 gl_context.cc:357] GL version: 3.2 (OpenGL ES 3.2 NVIDIA 535.171.04), renderer: NVIDIA GeForce GTX 1080 Ti/PCIe/SSE2\n"
     ]
    },
    {
     "name": "stdout",
     "output_type": "stream",
     "text": [
      "시퀀스 데이터 분석 중...\n"
     ]
    },
    {
     "name": "stderr",
     "output_type": "stream",
     "text": [
      "0it [00:00, ?it/s]\n",
      "OpenCV: FFMPEG: tag 0x58564944/'DIVX' is not supported with codec id 12 and format 'mp4 / MP4 (MPEG-4 Part 14)'\n",
      "OpenCV: FFMPEG: fallback to use tag 0x7634706d/'mp4v'\n"
     ]
    }
   ],
   "source": [
    "# test\n",
    "import glob\n",
    "file_n = glob.glob('/home/raccoon/jnwork/kangminji/zerobase_DL_project/datas/test_dataset/abnormal/*.mp4')\n",
    "\n",
    "'''영상 resize 및 추출'''\n",
    "for i in range(len(file_n)):\n",
    "    file_nam = file_n[i].split('/')[-1].split('.')[0]\n",
    "    test_video_name = file_nam\n",
    "\n",
    "    test_video_path = f'/home/raccoon/jnwork/kangminji/zerobase_DL_project/datas/test_dataset/normal/{test_video_name}.mp4'\n",
    "    cv2.destroyAllWindows()\n",
    "    cap = cv2.VideoCapture(test_video_path)\n",
    "    img_list = []\n",
    "\n",
    "    if cap.isOpened():\n",
    "\n",
    "        while True:\n",
    "            ret, img = cap.read()\n",
    "            if ret:\n",
    "                img = cv2.resize(img, (640, 640))\n",
    "                img_list.append(img)\n",
    "                # cv2_imshow(img)\n",
    "                # cv2.waitKey(1)\n",
    "            else:\n",
    "                break\n",
    "\n",
    "    cap.release()\n",
    "    cv2.destroyAllWindows()\n",
    "\n",
    "    net.eval()\n",
    "\n",
    "    length = 30 # frame 상태를 표시할 길이\n",
    "    out_img_list = []\n",
    "    dataset = []\n",
    "    status = 'None'\n",
    "    pose = mp_pose.Pose(static_image_mode=True, model_complexity=1, enable_segmentation=False, min_detection_confidence=n_CONFIDENCE)\n",
    "    print('시퀀스 데이터 분석 중...')\n",
    "\n",
    "    xy_list_list = []\n",
    "    for img in tqdm(img_list):\n",
    "        res = yolo_model(img)\n",
    "        res_refine = res.pandas().xyxy[0].values\n",
    "\n",
    "        nms_human = len(res_refine)\n",
    "        if nms_human > 0:\n",
    "            for bbox in res_refine:\n",
    "                xx1, yy1, xx2, yy2 = int(bbox[0])-10, int(bbox[1]), int(bbox[2])+10, int(bbox[3])\n",
    "                if xx1 < 0:\n",
    "                    xx1 = 0\n",
    "                elif xx2 > 639:\n",
    "                    xx2 = 639\n",
    "                if yy1 < 0:\n",
    "                    yy1 = 0\n",
    "                elif yy2 > 639:\n",
    "                    yy2 = 639\n",
    "\n",
    "                start_point = (xx1, yy1)\n",
    "                end_point = (xx2, yy2)\n",
    "                if bbox[4] > y_CONFIDENCE:\n",
    "                    img = cv2.rectangle(img, start_point, end_point, (0, 0, 255), 2)\n",
    "\n",
    "                    c_img = img[yy1:yy2, xx1:xx2]\n",
    "                    results = pose.process(cv2.cvtColor(c_img, cv2.COLOR_BGR2RGB)) # Yolo 바운딩 box 안에서 landmark dot 추출\n",
    "                    if not results.pose_landmarks: continue\n",
    "                    xy_list = []\n",
    "                    idx = 0\n",
    "                    draw_line_dic = {}\n",
    "                    for x_and_y in results.pose_landmarks.landmark:\n",
    "                        if idx in attention_dot:\n",
    "                            xy_list.append(x_and_y.x)\n",
    "                            xy_list.append(x_and_y.y)\n",
    "                            x, y = int(x_and_y.x*(xx2-xx1)), int(x_and_y.y*(yy2-yy1))\n",
    "                            draw_line_dic[idx] = [x, y]\n",
    "                        idx += 1\n",
    "\n",
    "                    xy_list_list.append(xy_list)\n",
    "                    for line in draw_line:\n",
    "                        x1, y1 = draw_line_dic[line[0]][0], draw_line_dic[line[0]][1]\n",
    "                        x2, y2 = draw_line_dic[line[1]][0], draw_line_dic[line[1]][1]\n",
    "                        c_img = cv2.line(c_img, (x1, y1), (x2, y2), (0, 255, 0), 3)\n",
    "\n",
    "                    if len(xy_list_list) == length:\n",
    "                        dataset = []\n",
    "                        dataset.append({'key' : 0, 'value' : xy_list_list})\n",
    "                        dataset = MyDataset(dataset)\n",
    "                        dataset = DataLoader(dataset)\n",
    "                        xy_list_list = []\n",
    "\n",
    "                        for data, label in dataset:\n",
    "                            data = data.to(device)\n",
    "                            with torch.no_grad():\n",
    "                                result = net(data)\n",
    "                                _, out = torch.max(result, 1)\n",
    "                                if out.item() == 0: status = 'Normal'\n",
    "                                else: status = 'Theft'\n",
    "\n",
    "        cv2.putText(img, status, (0, 50), cv2.FONT_HERSHEY_COMPLEX, 1.5, (0, 0, 255), 2)\n",
    "        out_img_list.append(img)\n",
    "        \n",
    "'''테스트 영상 내보내기''' \n",
    "    filename = '../../datas/test_result2/'+file_nam+'.mp4'\n",
    "    fourcc = cv2.VideoWriter_fourcc(*'DIVX')\n",
    "    fps = 3\n",
    "    frameSize = (640, 640)\n",
    "    isColor = True\n",
    "    out = cv2.VideoWriter(filename, fourcc, fps, frameSize, isColor)\n",
    "    for out_img in out_img_list:\n",
    "        out.write(out_img)\n",
    "    out.release()"
   ]
  },
  {
   "cell_type": "markdown",
   "id": "90c1e364-9fa0-4af0-86d7-c6e453ca6fb0",
   "metadata": {},
   "source": [
    "## 모델 저장"
   ]
  },
  {
   "cell_type": "code",
   "execution_count": null,
   "id": "fcd045f3-26b8-458c-aed2-d957a44b2a89",
   "metadata": {},
   "outputs": [],
   "source": [
    "PATH = '/home/raccoon/jnwork/kangminji/zerobase_DL_project/model/'\n",
    "model_name = 'mj_s_500_1_40.pt'\n",
    "torch.save(net.state_dict(), PATH + model_name)"
   ]
  }
 ],
 "metadata": {
  "kernelspec": {
   "display_name": "Python 3 (ipykernel)",
   "language": "python",
   "name": "python3"
  },
  "language_info": {
   "codemirror_mode": {
    "name": "ipython",
    "version": 3
   },
   "file_extension": ".py",
   "mimetype": "text/x-python",
   "name": "python",
   "nbconvert_exporter": "python",
   "pygments_lexer": "ipython3",
   "version": "3.11.8"
  }
 },
 "nbformat": 4,
 "nbformat_minor": 5
}
